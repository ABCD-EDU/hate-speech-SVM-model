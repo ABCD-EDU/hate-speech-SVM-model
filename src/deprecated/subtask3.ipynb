{
 "cells": [
  {
   "cell_type": "code",
   "execution_count": 1,
   "metadata": {},
   "outputs": [],
   "source": [
    "import pandas as pd\n",
    "import numpy as np\n",
    "# Preprocessing\n",
    "import preprocessor as p\n",
    "import string\n",
    "import contractions\n",
    "from collections import defaultdict\n",
    "import nltk\n",
    "from nltk.tokenize import word_tokenize\n",
    "from nltk.stem import WordNetLemmatizer\n",
    "from nltk.corpus import wordnet as wn\n",
    "from nltk import pos_tag\n",
    "from nltk.corpus import stopwords\n",
    "# Model\n",
    "from sklearn import model_selection, svm\n",
    "from sklearn.preprocessing import LabelEncoder\n",
    "from sklearn.feature_extraction.text import TfidfVectorizer\n",
    "from sklearn.metrics import accuracy_score\n",
    "# Pipeline\n",
    "from sklearn.pipeline import make_pipeline\n",
    "from joblib import dump"
   ]
  },
  {
   "cell_type": "code",
   "execution_count": 2,
   "metadata": {},
   "outputs": [
    {
     "name": "stderr",
     "output_type": "stream",
     "text": [
      "[nltk_data] Downloading package punkt to\n",
      "[nltk_data]     C:\\Users\\cgab\\AppData\\Roaming\\nltk_data...\n",
      "[nltk_data]   Package punkt is already up-to-date!\n",
      "[nltk_data] Downloading package wordnet to\n",
      "[nltk_data]     C:\\Users\\cgab\\AppData\\Roaming\\nltk_data...\n",
      "[nltk_data]   Package wordnet is already up-to-date!\n",
      "[nltk_data] Downloading package omw-1.4 to\n",
      "[nltk_data]     C:\\Users\\cgab\\AppData\\Roaming\\nltk_data...\n",
      "[nltk_data]   Package omw-1.4 is already up-to-date!\n",
      "[nltk_data] Downloading package averaged_perceptron_tagger to\n",
      "[nltk_data]     C:\\Users\\cgab\\AppData\\Roaming\\nltk_data...\n",
      "[nltk_data]   Package averaged_perceptron_tagger is already up-to-\n",
      "[nltk_data]       date!\n",
      "[nltk_data] Downloading package stopwords to\n",
      "[nltk_data]     C:\\Users\\cgab\\AppData\\Roaming\\nltk_data...\n",
      "[nltk_data]   Package stopwords is already up-to-date!\n"
     ]
    },
    {
     "data": {
      "text/plain": [
       "True"
      ]
     },
     "execution_count": 2,
     "metadata": {},
     "output_type": "execute_result"
    }
   ],
   "source": [
    "# Download requires corpus\n",
    "nltk.download('punkt')\n",
    "nltk.download('wordnet')\n",
    "nltk.download('omw-1.4')\n",
    "nltk.download('averaged_perceptron_tagger')\n",
    "nltk.download('stopwords')"
   ]
  },
  {
   "cell_type": "code",
   "execution_count": 3,
   "metadata": {},
   "outputs": [
    {
     "data": {
      "text/html": [
       "<div>\n",
       "<style scoped>\n",
       "    .dataframe tbody tr th:only-of-type {\n",
       "        vertical-align: middle;\n",
       "    }\n",
       "\n",
       "    .dataframe tbody tr th {\n",
       "        vertical-align: top;\n",
       "    }\n",
       "\n",
       "    .dataframe thead th {\n",
       "        text-align: right;\n",
       "    }\n",
       "</style>\n",
       "<table border=\"1\" class=\"dataframe\">\n",
       "  <thead>\n",
       "    <tr style=\"text-align: right;\">\n",
       "      <th></th>\n",
       "      <th>text</th>\n",
       "      <th>HATE</th>\n",
       "      <th>NOT</th>\n",
       "      <th>OFFN</th>\n",
       "      <th>PRFN</th>\n",
       "      <th>Race</th>\n",
       "      <th>Religion</th>\n",
       "      <th>Gender</th>\n",
       "      <th>Other</th>\n",
       "      <th>None</th>\n",
       "    </tr>\n",
       "  </thead>\n",
       "  <tbody>\n",
       "    <tr>\n",
       "      <th>0</th>\n",
       "      <td>a vote for max is a vote for the white christi...</td>\n",
       "      <td>0</td>\n",
       "      <td>1</td>\n",
       "      <td>0</td>\n",
       "      <td>0</td>\n",
       "      <td>0</td>\n",
       "      <td>0</td>\n",
       "      <td>0</td>\n",
       "      <td>0</td>\n",
       "      <td>1</td>\n",
       "    </tr>\n",
       "    <tr>\n",
       "      <th>1</th>\n",
       "      <td>what a muslim does in the privacy of his own g...</td>\n",
       "      <td>1</td>\n",
       "      <td>0</td>\n",
       "      <td>0</td>\n",
       "      <td>0</td>\n",
       "      <td>1</td>\n",
       "      <td>1</td>\n",
       "      <td>0</td>\n",
       "      <td>0</td>\n",
       "      <td>0</td>\n",
       "    </tr>\n",
       "    <tr>\n",
       "      <th>2</th>\n",
       "      <td>it is in some circles but in others it the sam...</td>\n",
       "      <td>1</td>\n",
       "      <td>0</td>\n",
       "      <td>0</td>\n",
       "      <td>1</td>\n",
       "      <td>1</td>\n",
       "      <td>0</td>\n",
       "      <td>0</td>\n",
       "      <td>0</td>\n",
       "      <td>0</td>\n",
       "    </tr>\n",
       "    <tr>\n",
       "      <th>3</th>\n",
       "      <td>president trumps opinion get the son of the bi...</td>\n",
       "      <td>0</td>\n",
       "      <td>1</td>\n",
       "      <td>1</td>\n",
       "      <td>1</td>\n",
       "      <td>1</td>\n",
       "      <td>0</td>\n",
       "      <td>0</td>\n",
       "      <td>1</td>\n",
       "      <td>1</td>\n",
       "    </tr>\n",
       "    <tr>\n",
       "      <th>4</th>\n",
       "      <td>id2020 is also jabbing refugees with its micro...</td>\n",
       "      <td>0</td>\n",
       "      <td>1</td>\n",
       "      <td>1</td>\n",
       "      <td>0</td>\n",
       "      <td>0</td>\n",
       "      <td>0</td>\n",
       "      <td>0</td>\n",
       "      <td>1</td>\n",
       "      <td>1</td>\n",
       "    </tr>\n",
       "  </tbody>\n",
       "</table>\n",
       "</div>"
      ],
      "text/plain": [
       "                                                text  HATE  NOT  OFFN  PRFN  \\\n",
       "0  a vote for max is a vote for the white christi...     0    1     0     0   \n",
       "1  what a muslim does in the privacy of his own g...     1    0     0     0   \n",
       "2  it is in some circles but in others it the sam...     1    0     0     1   \n",
       "3  president trumps opinion get the son of the bi...     0    1     1     1   \n",
       "4  id2020 is also jabbing refugees with its micro...     0    1     1     0   \n",
       "\n",
       "   Race  Religion  Gender  Other  None  \n",
       "0     0         0       0      0     1  \n",
       "1     1         1       0      0     0  \n",
       "2     1         0       0      0     0  \n",
       "3     1         0       0      1     1  \n",
       "4     0         0       0      1     1  "
      ]
     },
     "execution_count": 3,
     "metadata": {},
     "output_type": "execute_result"
    }
   ],
   "source": [
    "# Read data\n",
    "df = pd.read_csv(\"../res/dataset-final.csv\")\n",
    "\n",
    "train_df = pd.read_csv(\"../res/train_final.csv\")\n",
    "val_df = pd.read_csv(\"../res/val_final.csv\")\n",
    "test_df = pd.read_csv(\"../res/test_final.csv\")\n",
    "train_df.head()"
   ]
  },
  {
   "cell_type": "code",
   "execution_count": 4,
   "metadata": {},
   "outputs": [],
   "source": [
    "# df = df.iloc[:500]"
   ]
  },
  {
   "cell_type": "code",
   "execution_count": 5,
   "metadata": {},
   "outputs": [],
   "source": [
    "# Organize targets\n",
    "# Get target columns\n",
    "headers = train_df.columns[1:]\n",
    "# Create separate df for targets\n",
    "y_train = train_df[headers]\n",
    "y_val = val_df[headers]\n",
    "y_test = test_df[headers]\n"
   ]
  },
  {
   "cell_type": "code",
   "execution_count": 6,
   "metadata": {},
   "outputs": [
    {
     "name": "stdout",
     "output_type": "stream",
     "text": [
      "subtask 1 and 2 headers:\n",
      "Index(['HATE', 'NOT', 'OFFN', 'PRFN'], dtype='object')\n",
      "subtask 3 headers:\n",
      "Index(['Race', 'Religion', 'Gender', 'Other', 'None'], dtype='object')\n"
     ]
    }
   ],
   "source": [
    "t1a2_headers = headers[:4]\n",
    "print(\"subtask 1 and 2 headers:\")\n",
    "print(t1a2_headers)\n",
    "t3_headers = headers[4:]\n",
    "print(\"subtask 3 headers:\")\n",
    "print(t3_headers)"
   ]
  },
  {
   "cell_type": "code",
   "execution_count": 7,
   "metadata": {},
   "outputs": [],
   "source": [
    "# Tokenize text column\n",
    "# train_df['text']= [str(word_tokenize(entry)) for entry in train_df['text']]\n",
    "# val_df['text']= [str(word_tokenize(entry)) for entry in val_df['text']]\n",
    "# test_df['text']= [str(word_tokenize(entry)) for entry in test_df['text']]\n",
    "# train_df['text'].head()"
   ]
  },
  {
   "cell_type": "markdown",
   "metadata": {},
   "source": [
    "Reference for multilabel preprocessing: https://www.section.io/engineering-education/multi-label-classification-with-scikit-multilearn/"
   ]
  },
  {
   "cell_type": "code",
   "execution_count": 8,
   "metadata": {},
   "outputs": [
    {
     "ename": "NameError",
     "evalue": "name 'asdgasdasd' is not defined",
     "output_type": "error",
     "traceback": [
      "\u001b[1;31m---------------------------------------------------------------------------\u001b[0m",
      "\u001b[1;31mNameError\u001b[0m                                 Traceback (most recent call last)",
      "\u001b[1;32m~\\AppData\\Local\\Temp\\ipykernel_9100\\2804450771.py\u001b[0m in \u001b[0;36m<module>\u001b[1;34m\u001b[0m\n\u001b[1;32m----> 1\u001b[1;33m \u001b[0masdgasdasd\u001b[0m\u001b[1;33m\u001b[0m\u001b[1;33m\u001b[0m\u001b[0m\n\u001b[0m",
      "\u001b[1;31mNameError\u001b[0m: name 'asdgasdasd' is not defined"
     ]
    }
   ],
   "source": [
    "asdgasdasd"
   ]
  },
  {
   "cell_type": "markdown",
   "metadata": {},
   "source": [
    "<H1>Creation of Model </H1>"
   ]
  },
  {
   "cell_type": "code",
   "execution_count": 13,
   "metadata": {},
   "outputs": [],
   "source": [
    "# pip install scikit-multilearn\n",
    "from skmultilearn.problem_transform import BinaryRelevance\n",
    "from sklearn.multiclass import OneVsRestClassifier\n",
    "from skmultilearn.problem_transform import ClassifierChain\n",
    "from skmultilearn.problem_transform import LabelPowerset"
   ]
  },
  {
   "cell_type": "markdown",
   "metadata": {},
   "source": [
    "<h4>BinaryRevelance</h4>"
   ]
  },
  {
   "cell_type": "code",
   "execution_count": null,
   "metadata": {},
   "outputs": [
    {
     "data": {
      "text/plain": [
       "Pipeline(steps=[('tfidfvectorizer', TfidfVectorizer()),\n",
       "                ('binaryrelevance',\n",
       "                 BinaryRelevance(classifier=SVC(kernel='linear',\n",
       "                                                probability=True),\n",
       "                                 require_dense=[True, True]))])"
      ]
     },
     "execution_count": 10,
     "metadata": {},
     "output_type": "execute_result"
    }
   ],
   "source": [
    "br_classifier = make_pipeline(\n",
    "    TfidfVectorizer(),\n",
    "    BinaryRelevance(svm.SVC(kernel='linear', probability=True))\n",
    ")\n",
    "br_classifier = br_classifier.fit(X=train_x, y=train_y)\n",
    "br_classifier"
   ]
  },
  {
   "cell_type": "code",
   "execution_count": null,
   "metadata": {},
   "outputs": [
    {
     "name": "stdout",
     "output_type": "stream",
     "text": [
      "SVM Accuracy Score ->  0.40066666666666667\n"
     ]
    }
   ],
   "source": [
    "predictions_br = br_classifier.predict(test_x)\n",
    "print(\"SVM Accuracy Score -> \",accuracy_score(predictions_br, test_y))"
   ]
  },
  {
   "cell_type": "markdown",
   "metadata": {},
   "source": [
    "<h4>One vs Rest</h4>"
   ]
  },
  {
   "cell_type": "code",
   "execution_count": 14,
   "metadata": {},
   "outputs": [],
   "source": [
    "ovr_classifier = make_pipeline(\n",
    "    TfidfVectorizer(),\n",
    "    OneVsRestClassifier(svm.SVC(kernel='linear', probability=True))\n",
    ")"
   ]
  },
  {
   "cell_type": "code",
   "execution_count": 15,
   "metadata": {},
   "outputs": [
    {
     "data": {
      "text/plain": [
       "Pipeline(steps=[('tfidfvectorizer', TfidfVectorizer()),\n",
       "                ('onevsrestclassifier',\n",
       "                 OneVsRestClassifier(estimator=SVC(kernel='linear',\n",
       "                                                   probability=True)))])"
      ]
     },
     "execution_count": 15,
     "metadata": {},
     "output_type": "execute_result"
    }
   ],
   "source": [
    "ovr_classifier_t1a2 = ovr_classifier.fit(X=train_df[\"text\"][:500], y=train_df[t1a2_headers][:500])\n",
    "ovr_classifier_t1a2"
   ]
  },
  {
   "cell_type": "code",
   "execution_count": null,
   "metadata": {},
   "outputs": [
    {
     "data": {
      "text/plain": [
       "['../out/subtask3/ovr_classifier_t1a2.joblib.z']"
      ]
     },
     "execution_count": 30,
     "metadata": {},
     "output_type": "execute_result"
    }
   ],
   "source": [
    "filename = \"ovr_classifier_t1a2.joblib.z\"\n",
    "path = \"../out/subtask3/\" + filename\n",
    "dump(ovr_classifier_t1a2, path)"
   ]
  },
  {
   "cell_type": "code",
   "execution_count": null,
   "metadata": {},
   "outputs": [
    {
     "data": {
      "text/plain": [
       "Pipeline(steps=[('tfidfvectorizer', TfidfVectorizer()),\n",
       "                ('onevsrestclassifier',\n",
       "                 OneVsRestClassifier(estimator=SVC(kernel='linear',\n",
       "                                                   probability=True)))])"
      ]
     },
     "execution_count": 31,
     "metadata": {},
     "output_type": "execute_result"
    }
   ],
   "source": [
    "ovr_classifier_t3 = ovr_classifier.fit(X=train_df[\"text\"], y=train_df[t3_headers])\n",
    "ovr_classifier_t3"
   ]
  },
  {
   "cell_type": "code",
   "execution_count": null,
   "metadata": {},
   "outputs": [
    {
     "data": {
      "text/plain": [
       "['../out/subtask3/ovr_classifier_t3.joblib.z']"
      ]
     },
     "execution_count": 32,
     "metadata": {},
     "output_type": "execute_result"
    }
   ],
   "source": [
    "filename = \"ovr_classifier_t3.joblib.z\"\n",
    "path = \"../out/subtask3/\" + filename\n",
    "dump(ovr_classifier_t3, path)"
   ]
  },
  {
   "cell_type": "code",
   "execution_count": null,
   "metadata": {},
   "outputs": [
    {
     "ename": "ValueError",
     "evalue": "inconsistent shapes",
     "output_type": "error",
     "traceback": [
      "\u001b[1;31m---------------------------------------------------------------------------\u001b[0m",
      "\u001b[1;31mValueError\u001b[0m                                Traceback (most recent call last)",
      "\u001b[1;32m~\\AppData\\Local\\Temp\\ipykernel_10092\\3901964590.py\u001b[0m in \u001b[0;36m<module>\u001b[1;34m\u001b[0m\n\u001b[0;32m      1\u001b[0m \u001b[0mpredictions_t1a2\u001b[0m \u001b[1;33m=\u001b[0m \u001b[0movr_classifier_t1a2\u001b[0m\u001b[1;33m.\u001b[0m\u001b[0mpredict\u001b[0m\u001b[1;33m(\u001b[0m\u001b[0mtest_df\u001b[0m\u001b[1;33m[\u001b[0m\u001b[1;34m\"text\"\u001b[0m\u001b[1;33m]\u001b[0m\u001b[1;33m)\u001b[0m\u001b[1;33m\u001b[0m\u001b[1;33m\u001b[0m\u001b[0m\n\u001b[1;32m----> 2\u001b[1;33m \u001b[0mprint\u001b[0m\u001b[1;33m(\u001b[0m\u001b[1;34m\"SVM Accuracy Score -> \"\u001b[0m\u001b[1;33m,\u001b[0m\u001b[0maccuracy_score\u001b[0m\u001b[1;33m(\u001b[0m\u001b[0mpredictions_t1a2\u001b[0m\u001b[1;33m,\u001b[0m \u001b[0mtest_df\u001b[0m\u001b[1;33m[\u001b[0m\u001b[0mt1a2_headers\u001b[0m\u001b[1;33m]\u001b[0m\u001b[1;33m)\u001b[0m\u001b[1;33m)\u001b[0m\u001b[1;33m\u001b[0m\u001b[1;33m\u001b[0m\u001b[0m\n\u001b[0m",
      "\u001b[1;32mC:\\Python310\\lib\\site-packages\\sklearn\\metrics\\_classification.py\u001b[0m in \u001b[0;36maccuracy_score\u001b[1;34m(y_true, y_pred, normalize, sample_weight)\u001b[0m\n\u001b[0;32m    212\u001b[0m     \u001b[0mcheck_consistent_length\u001b[0m\u001b[1;33m(\u001b[0m\u001b[0my_true\u001b[0m\u001b[1;33m,\u001b[0m \u001b[0my_pred\u001b[0m\u001b[1;33m,\u001b[0m \u001b[0msample_weight\u001b[0m\u001b[1;33m)\u001b[0m\u001b[1;33m\u001b[0m\u001b[1;33m\u001b[0m\u001b[0m\n\u001b[0;32m    213\u001b[0m     \u001b[1;32mif\u001b[0m \u001b[0my_type\u001b[0m\u001b[1;33m.\u001b[0m\u001b[0mstartswith\u001b[0m\u001b[1;33m(\u001b[0m\u001b[1;34m\"multilabel\"\u001b[0m\u001b[1;33m)\u001b[0m\u001b[1;33m:\u001b[0m\u001b[1;33m\u001b[0m\u001b[1;33m\u001b[0m\u001b[0m\n\u001b[1;32m--> 214\u001b[1;33m         \u001b[0mdiffering_labels\u001b[0m \u001b[1;33m=\u001b[0m \u001b[0mcount_nonzero\u001b[0m\u001b[1;33m(\u001b[0m\u001b[0my_true\u001b[0m \u001b[1;33m-\u001b[0m \u001b[0my_pred\u001b[0m\u001b[1;33m,\u001b[0m \u001b[0maxis\u001b[0m\u001b[1;33m=\u001b[0m\u001b[1;36m1\u001b[0m\u001b[1;33m)\u001b[0m\u001b[1;33m\u001b[0m\u001b[1;33m\u001b[0m\u001b[0m\n\u001b[0m\u001b[0;32m    215\u001b[0m         \u001b[0mscore\u001b[0m \u001b[1;33m=\u001b[0m \u001b[0mdiffering_labels\u001b[0m \u001b[1;33m==\u001b[0m \u001b[1;36m0\u001b[0m\u001b[1;33m\u001b[0m\u001b[1;33m\u001b[0m\u001b[0m\n\u001b[0;32m    216\u001b[0m     \u001b[1;32melse\u001b[0m\u001b[1;33m:\u001b[0m\u001b[1;33m\u001b[0m\u001b[1;33m\u001b[0m\u001b[0m\n",
      "\u001b[1;32mC:\\Python310\\lib\\site-packages\\scipy\\sparse\\_base.py\u001b[0m in \u001b[0;36m__sub__\u001b[1;34m(self, other)\u001b[0m\n\u001b[0;32m    485\u001b[0m         \u001b[1;32melif\u001b[0m \u001b[0misspmatrix\u001b[0m\u001b[1;33m(\u001b[0m\u001b[0mother\u001b[0m\u001b[1;33m)\u001b[0m\u001b[1;33m:\u001b[0m\u001b[1;33m\u001b[0m\u001b[1;33m\u001b[0m\u001b[0m\n\u001b[0;32m    486\u001b[0m             \u001b[1;32mif\u001b[0m \u001b[0mother\u001b[0m\u001b[1;33m.\u001b[0m\u001b[0mshape\u001b[0m \u001b[1;33m!=\u001b[0m \u001b[0mself\u001b[0m\u001b[1;33m.\u001b[0m\u001b[0mshape\u001b[0m\u001b[1;33m:\u001b[0m\u001b[1;33m\u001b[0m\u001b[1;33m\u001b[0m\u001b[0m\n\u001b[1;32m--> 487\u001b[1;33m                 \u001b[1;32mraise\u001b[0m \u001b[0mValueError\u001b[0m\u001b[1;33m(\u001b[0m\u001b[1;34m\"inconsistent shapes\"\u001b[0m\u001b[1;33m)\u001b[0m\u001b[1;33m\u001b[0m\u001b[1;33m\u001b[0m\u001b[0m\n\u001b[0m\u001b[0;32m    488\u001b[0m             \u001b[1;32mreturn\u001b[0m \u001b[0mself\u001b[0m\u001b[1;33m.\u001b[0m\u001b[0m_sub_sparse\u001b[0m\u001b[1;33m(\u001b[0m\u001b[0mother\u001b[0m\u001b[1;33m)\u001b[0m\u001b[1;33m\u001b[0m\u001b[1;33m\u001b[0m\u001b[0m\n\u001b[0;32m    489\u001b[0m         \u001b[1;32melif\u001b[0m \u001b[0misdense\u001b[0m\u001b[1;33m(\u001b[0m\u001b[0mother\u001b[0m\u001b[1;33m)\u001b[0m\u001b[1;33m:\u001b[0m\u001b[1;33m\u001b[0m\u001b[1;33m\u001b[0m\u001b[0m\n",
      "\u001b[1;31mValueError\u001b[0m: inconsistent shapes"
     ]
    }
   ],
   "source": [
    "predictions_t1a2 = ovr_classifier_t1a2.predict(test_df[\"text\"])\n",
    "print(\"SVM Accuracy Score -> \",accuracy_score(predictions_t1a2, test_df[t1a2_headers]))"
   ]
  },
  {
   "cell_type": "markdown",
   "metadata": {},
   "source": [
    "<h4>Classifer Chain</h4>"
   ]
  },
  {
   "cell_type": "code",
   "execution_count": null,
   "metadata": {},
   "outputs": [
    {
     "data": {
      "text/plain": [
       "Pipeline(steps=[('tfidfvectorizer', TfidfVectorizer()),\n",
       "                ('classifierchain',\n",
       "                 ClassifierChain(classifier=SVC(kernel='linear',\n",
       "                                                probability=True),\n",
       "                                 require_dense=[True, True]))])"
      ]
     },
     "execution_count": 14,
     "metadata": {},
     "output_type": "execute_result"
    }
   ],
   "source": [
    "cf_classifier = make_pipeline(\n",
    "    TfidfVectorizer(),\n",
    "    ClassifierChain(svm.SVC(kernel='linear', probability=True))\n",
    ")\n",
    "cf_classifier = cf_classifier.fit(X=train_x, y=train_y)\n",
    "cf_classifier"
   ]
  },
  {
   "cell_type": "code",
   "execution_count": null,
   "metadata": {},
   "outputs": [
    {
     "name": "stdout",
     "output_type": "stream",
     "text": [
      "SVM Accuracy Score ->  0.4013333333333333\n"
     ]
    }
   ],
   "source": [
    "predictions_cf = cf_classifier.predict(test_x)\n",
    "print(\"SVM Accuracy Score -> \",accuracy_score(predictions_cf, test_y))"
   ]
  },
  {
   "cell_type": "markdown",
   "metadata": {},
   "source": [
    "<h4>Label Powerset</h4> "
   ]
  },
  {
   "cell_type": "code",
   "execution_count": null,
   "metadata": {},
   "outputs": [
    {
     "data": {
      "text/plain": [
       "Pipeline(steps=[('tfidfvectorizer', TfidfVectorizer()),\n",
       "                ('labelpowerset',\n",
       "                 LabelPowerset(classifier=SVC(kernel='linear',\n",
       "                                              probability=True),\n",
       "                               require_dense=[True, True]))])"
      ]
     },
     "execution_count": 16,
     "metadata": {},
     "output_type": "execute_result"
    }
   ],
   "source": [
    "lp_classifier = make_pipeline(\n",
    "    TfidfVectorizer(),\n",
    "    LabelPowerset(svm.SVC(kernel='linear', probability=True))\n",
    ")\n",
    "lp_classifier = lp_classifier.fit(X=train_x, y=train_y)\n",
    "lp_classifier"
   ]
  },
  {
   "cell_type": "code",
   "execution_count": null,
   "metadata": {},
   "outputs": [
    {
     "name": "stdout",
     "output_type": "stream",
     "text": [
      "SVM Accuracy Score ->  0.38466666666666666\n"
     ]
    }
   ],
   "source": [
    "predictions_lp = lp_classifier.predict(test_x)\n",
    "print(\"SVM Accuracy Score -> \",accuracy_score(predictions_lp, test_y))"
   ]
  },
  {
   "cell_type": "code",
   "execution_count": null,
   "metadata": {},
   "outputs": [],
   "source": [
    "classifer_names = [\"BinaryRelevance\", \"OneVSRest\", \"ClassifierChain\", \"LabelPowerset\"]\n",
    "classifiers = [br_classifier, ovr_classifier, cf_classifier, lp_classifier]"
   ]
  },
  {
   "cell_type": "markdown",
   "metadata": {},
   "source": [
    "<h2>Make a Single prediction</h2>"
   ]
  },
  {
   "cell_type": "code",
   "execution_count": 17,
   "metadata": {},
   "outputs": [],
   "source": [
    "# Create preprocessing function\n",
    "def preprocess(text):\n",
    "    # twitter-presprocessor\n",
    "    text = p.clean(text)\n",
    "    # lower case\n",
    "    text = text.lower()\n",
    "    # Expand Contractions\n",
    "    expanded = []\n",
    "    for word in text.split():\n",
    "        expanded.append(contractions.fix(word))\n",
    "    text = ' '.join(expanded)\n",
    "    # Remove punctuation marks\n",
    "    text = text.translate(str.maketrans('', '', string.punctuation))\n",
    "    # Tokenization\n",
    "    # text = word_tokenize(text)\n",
    "    \n",
    "    # lemmanized = preprocess_part2(text)\n",
    "\n",
    "    # return str(text)\n",
    "    return text\n",
    "\n",
    "def preprocess_part2(text):\n",
    "    tag_map = defaultdict(lambda : wn.NOUN)\n",
    "    tag_map['J'] = wn.ADJ\n",
    "    tag_map['V'] = wn.VERB\n",
    "    tag_map['R'] = wn.ADV\n",
    "    # Declaring Empty List to store the words that follow the rules for this step\n",
    "    Final_words = []\n",
    "    # Initializing WordNetLemmatizer()\n",
    "    word_Lemmatized = WordNetLemmatizer()\n",
    "    # pos_tag function below will provide the 'tag' i.e if the word is Noun(N) or Verb(V) or something else.\n",
    "    for word, tag in pos_tag(text):\n",
    "        # Below condition is to check for Stop words and consider only alphabets\n",
    "        if word not in stopwords.words('english') and word.isalpha():\n",
    "            word_Final = word_Lemmatized.lemmatize(word,tag_map[tag[0]])\n",
    "            Final_words.append(word_Final)\n",
    "    return str(Final_words)\n"
   ]
  },
  {
   "cell_type": "code",
   "execution_count": 20,
   "metadata": {},
   "outputs": [
    {
     "name": "stdout",
     "output_type": "stream",
     "text": [
      "INPUT: Girl bitches should just kill themselves if they don't know how to cook\n",
      "  HATE: 26.493388689622805\n",
      "  NOT: 81.3603040639828\n",
      "  OFFN: 50.61964021029951\n",
      "  PRFN: 95.8381764708028\n",
      "PREDICTION: [0 1 0 1]\n",
      "\n",
      "INPUT: gay people are mentally ill\n",
      "  HATE: 26.28186645277566\n",
      "  NOT: 46.82698475284533\n",
      "  OFFN: 49.106084938958396\n",
      "  PRFN: 79.83873674663634\n",
      "PREDICTION: [0 0 0 1]\n",
      "\n",
      "INPUT: Islam people are all terrorists\n",
      "  HATE: 54.03054103145939\n",
      "  NOT: 24.0550798618161\n",
      "  OFFN: 56.29807360208757\n",
      "  PRFN: 74.26919916727036\n",
      "PREDICTION: [1 0 1 1]\n",
      "\n",
      "INPUT: Asians should just go back to their country, all they do is take our jobs\n",
      "  HATE: 70.25943681431573\n",
      "  NOT: 25.72041841591219\n",
      "  OFFN: 64.76602469990706\n",
      "  PRFN: 94.31976531542702\n",
      "PREDICTION: [1 0 1 1]\n",
      "\n",
      "INPUT: If you want to make the world a better place, look at yourself and make a change\n",
      "  HATE: 19.338091037855243\n",
      "  NOT: 48.11704586310737\n",
      "  OFFN: 41.72321055884182\n",
      "  PRFN: 58.89531050221133\n",
      "PREDICTION: [0 0 0 1]\n",
      "\n"
     ]
    }
   ],
   "source": [
    "text1 = \"Girl bitches should just kill themselves if they don't know how to cook\"\n",
    "text2 = \"gay people are mentally ill\"\n",
    "text3 = \"Islam people are all terrorists\"\n",
    "text4 = \"Asians should just go back to their country, all they do is take our jobs\"\n",
    "text5 = \"If you want to make the world a better place, look at yourself and make a change\"\n",
    "sample_texts = [text1, text2, text3, text4, text5]\n",
    "\n",
    "for text in sample_texts:\n",
    "    arr = [text]\n",
    "    classes = ovr_classifier_t1a2.classes_\n",
    "    proba = ovr_classifier_t1a2.predict_proba(arr)[0]\n",
    "    pred = ovr_classifier_t1a2.predict(arr)[0]\n",
    "\n",
    "    headers = t1a2_headers\n",
    "\n",
    "    print(f'INPUT: {text}')\n",
    "    for i,e in enumerate(classes):\n",
    "        print(f'  {headers[i]}: {proba[i]*100}')\n",
    "    print(f'PREDICTION: {pred}\\n')"
   ]
  },
  {
   "cell_type": "code",
   "execution_count": null,
   "metadata": {},
   "outputs": [
    {
     "name": "stdout",
     "output_type": "stream",
     "text": [
      "------------ BinaryRelevance ------------\n",
      "\n"
     ]
    },
    {
     "ename": "AttributeError",
     "evalue": "'BinaryRelevance' object has no attribute 'classes_'",
     "output_type": "error",
     "traceback": [
      "\u001b[1;31m---------------------------------------------------------------------------\u001b[0m",
      "\u001b[1;31mAttributeError\u001b[0m                            Traceback (most recent call last)",
      "Input \u001b[1;32mIn [23]\u001b[0m, in \u001b[0;36m<cell line: 1>\u001b[1;34m()\u001b[0m\n\u001b[0;32m      3\u001b[0m \u001b[38;5;28;01mfor\u001b[39;00m text \u001b[38;5;129;01min\u001b[39;00m sample_texts:\n\u001b[0;32m      4\u001b[0m     arr \u001b[38;5;241m=\u001b[39m [preprocess(text)]\n\u001b[1;32m----> 5\u001b[0m     classes \u001b[38;5;241m=\u001b[39m \u001b[43mclassifier\u001b[49m\u001b[38;5;241;43m.\u001b[39;49m\u001b[43mclasses_\u001b[49m\n\u001b[0;32m      6\u001b[0m     proba \u001b[38;5;241m=\u001b[39m classifier\u001b[38;5;241m.\u001b[39mpredict_proba(arr)[\u001b[38;5;241m0\u001b[39m]\n\u001b[0;32m      7\u001b[0m     pred \u001b[38;5;241m=\u001b[39m classifier\u001b[38;5;241m.\u001b[39mpredict(arr)[\u001b[38;5;241m0\u001b[39m]\n",
      "File \u001b[1;32m~\\anaconda3\\envs\\jessie\\lib\\site-packages\\sklearn\\pipeline.py:716\u001b[0m, in \u001b[0;36mPipeline.classes_\u001b[1;34m(self)\u001b[0m\n\u001b[0;32m    713\u001b[0m \u001b[38;5;129m@property\u001b[39m\n\u001b[0;32m    714\u001b[0m \u001b[38;5;28;01mdef\u001b[39;00m \u001b[38;5;21mclasses_\u001b[39m(\u001b[38;5;28mself\u001b[39m):\n\u001b[0;32m    715\u001b[0m     \u001b[38;5;124;03m\"\"\"The classes labels. Only exist if the last step is a classifier.\"\"\"\u001b[39;00m\n\u001b[1;32m--> 716\u001b[0m     \u001b[38;5;28;01mreturn\u001b[39;00m \u001b[38;5;28;43mself\u001b[39;49m\u001b[38;5;241;43m.\u001b[39;49m\u001b[43msteps\u001b[49m\u001b[43m[\u001b[49m\u001b[38;5;241;43m-\u001b[39;49m\u001b[38;5;241;43m1\u001b[39;49m\u001b[43m]\u001b[49m\u001b[43m[\u001b[49m\u001b[38;5;241;43m1\u001b[39;49m\u001b[43m]\u001b[49m\u001b[38;5;241;43m.\u001b[39;49m\u001b[43mclasses_\u001b[49m\n",
      "\u001b[1;31mAttributeError\u001b[0m: 'BinaryRelevance' object has no attribute 'classes_'"
     ]
    }
   ],
   "source": [
    "for i,classifier in enumerate(classifiers):\n",
    "    print(f\"------------ {classifer_names[i]} ------------\\n\")\n",
    "    for text in sample_texts:\n",
    "        arr = [preprocess(text)]\n",
    "        classes = classifier.classes_\n",
    "        proba = classifier.predict_proba(arr)[0]\n",
    "        pred = classifier.predict(arr)[0]\n",
    "\n",
    "        headers = y.columns\n",
    "\n",
    "        print(f'INPUT: {text}')\n",
    "        for i,e in enumerate(classes):\n",
    "            print(f'  {headers[i]}: {proba[i]*100}')\n",
    "        print(f'PREDICTION: {pred}\\n')"
   ]
  },
  {
   "cell_type": "markdown",
   "metadata": {},
   "source": [
    "<h2>Export Classifier Models</h2>"
   ]
  },
  {
   "cell_type": "code",
   "execution_count": null,
   "metadata": {},
   "outputs": [],
   "source": [
    "# Export model as joblib file\n",
    "for i,classifier in enumerate(classifiers):\n",
    "    filename = classifer_names[i] + \".joblib.z\"\n",
    "    path = \"../out/subtask3/\" + filename\n",
    "    dump(classifier, path)"
   ]
  },
  {
   "cell_type": "markdown",
   "metadata": {},
   "source": [
    "<H2>Load Models</H2>"
   ]
  },
  {
   "cell_type": "code",
   "execution_count": null,
   "metadata": {},
   "outputs": [],
   "source": [
    "from joblib import load "
   ]
  },
  {
   "cell_type": "code",
   "execution_count": null,
   "metadata": {},
   "outputs": [],
   "source": [
    "text1 = \"Girl bitches should just kill themselves if they don't know how to cook\"\n",
    "text2 = \"gay people are mentally ill\"\n",
    "text3 = \"Islam people are all terrorists\"\n",
    "text4 = \"Asians should just go back to their country, all they do is take our jobs\"\n",
    "text5 = \"If you want to make the world a better place, look at yourself and make a change\"\n",
    "text6 = \"The mentally ill should seek help no cap\"\n",
    "sample_texts = [text1, text2, text3, text4, text5, text6]"
   ]
  },
  {
   "cell_type": "code",
   "execution_count": null,
   "metadata": {},
   "outputs": [],
   "source": [
    "# Initialize\n",
    "path = \"../out/subtask3/\"\n",
    "extension = \".joblib.z\"\n",
    "br_classifier = load(path + \"BinaryRelevance\" + extension)\n",
    "ovr_classifier = load(path + \"OneVSRest\" + extension)\n",
    "cf_classifier = load(path + \"ClassifierChain\" + extension)\n",
    "lp_classifier = load(path + \"LabelPowerset\" + extension)"
   ]
  },
  {
   "cell_type": "code",
   "execution_count": null,
   "metadata": {},
   "outputs": [],
   "source": [
    "classifer_names = [\"BinaryRelevance\", \"ClassifierChain\", \"LabelPowerset\"]\n",
    "classifiers = [br_classifier, cf_classifier, lp_classifier]\n",
    "headers = y.columns"
   ]
  },
  {
   "cell_type": "code",
   "execution_count": null,
   "metadata": {},
   "outputs": [
    {
     "name": "stdout",
     "output_type": "stream",
     "text": [
      "------------ BinaryRelevance ------------\n",
      "\n",
      "INPUT: Girl bitches should just kill themselves if they don't know how to cook\n",
      "  Homophobe: 3.2266965875375706\n",
      "  NotHate: 95.10907093835792\n",
      "  OtherHate: 15.938275183210504\n",
      "  Racist: 26.94560942783787\n",
      "  Religion: 1.5721904256209234\n",
      "  Sexist: 14.230099565607837\n",
      "PREDICTION: [0 1 0 0 0 0]\n",
      "\n",
      "INPUT: gay people are mentally ill\n",
      "  Homophobe: 47.723661884801714\n",
      "  NotHate: 90.20893668375912\n",
      "  OtherHate: 53.00006168680037\n",
      "  Racist: 25.009825716168443\n",
      "  Religion: 1.4332809260186665\n",
      "  Sexist: 10.687020317583498\n",
      "PREDICTION: [1 1 1 0 0 0]\n",
      "\n",
      "INPUT: Islam people are all terrorists\n",
      "  Homophobe: 6.562874384697421\n",
      "  NotHate: 94.34908851227136\n",
      "  OtherHate: 11.297616861267496\n",
      "  Racist: 30.231812673323017\n",
      "  Religion: 50.0\n",
      "  Sexist: 7.717969503386206\n",
      "PREDICTION: [0 1 0 0 0 0]\n",
      "\n",
      "INPUT: Asians should just go back to their country, all they do is take our jobs\n",
      "  Homophobe: 2.236149474555906\n",
      "  NotHate: 93.1774648952431\n",
      "  OtherHate: 12.799872117093495\n",
      "  Racist: 44.59404307567064\n",
      "  Religion: 1.44316262454374\n",
      "  Sexist: 14.759796986080037\n",
      "PREDICTION: [0 1 0 0 0 0]\n",
      "\n",
      "INPUT: If you want to make the world a better place, look at yourself and make a change\n",
      "  Homophobe: 5.328075837816361\n",
      "  NotHate: 91.68834361845714\n",
      "  OtherHate: 19.992161692046473\n",
      "  Racist: 36.12552629858865\n",
      "  Religion: 0.902107922720342\n",
      "  Sexist: 10.581854230243284\n",
      "PREDICTION: [0 1 0 0 0 0]\n",
      "\n",
      "INPUT: The mentally ill should seek help no cap\n",
      "  Homophobe: 7.288362753593589\n",
      "  NotHate: 92.0375951930932\n",
      "  OtherHate: 36.63701802374732\n",
      "  Racist: 20.250404454874406\n",
      "  Religion: 1.0922868213552337\n",
      "  Sexist: 13.710977006798771\n",
      "PREDICTION: [0 1 0 0 0 0]\n",
      "\n",
      "------------ ClassifierChain ------------\n",
      "\n",
      "INPUT: Girl bitches should just kill themselves if they don't know how to cook\n",
      "  Homophobe: 3.2821270395070448\n",
      "  NotHate: 95.6930704911618\n",
      "  OtherHate: 12.922993217038844\n",
      "  Racist: 28.04662793859506\n",
      "  Religion: 2.0919645996515843\n",
      "  Sexist: 14.886259383099073\n",
      "PREDICTION: [0. 1. 0. 0. 0. 0.]\n",
      "\n",
      "INPUT: gay people are mentally ill\n",
      "  Homophobe: 46.26372964407871\n",
      "  NotHate: 83.90884672057219\n",
      "  OtherHate: 41.61572930334588\n",
      "  Racist: 15.292532749860225\n",
      "  Religion: 1.0915148564904582\n",
      "  Sexist: 6.192964324414195\n",
      "PREDICTION: [1. 1. 0. 0. 0. 0.]\n",
      "\n",
      "INPUT: Islam people are all terrorists\n",
      "  Homophobe: 6.560602856266998\n",
      "  NotHate: 95.10333857802927\n",
      "  OtherHate: 13.326777008953938\n",
      "  Racist: 29.84211095902829\n",
      "  Religion: 58.44877002383665\n",
      "  Sexist: 13.412208078831844\n",
      "PREDICTION: [0. 1. 0. 0. 0. 0.]\n",
      "\n",
      "INPUT: Asians should just go back to their country, all they do is take our jobs\n",
      "  Homophobe: 2.2938282278709323\n",
      "  NotHate: 92.46002913936606\n",
      "  OtherHate: 11.953696541597619\n",
      "  Racist: 46.943162458239456\n",
      "  Religion: 1.1680787834123205\n",
      "  Sexist: 9.856947991302496\n",
      "PREDICTION: [0. 1. 0. 1. 0. 0.]\n",
      "\n",
      "INPUT: If you want to make the world a better place, look at yourself and make a change\n",
      "  Homophobe: 5.35735163681736\n",
      "  NotHate: 89.92565388600666\n",
      "  OtherHate: 18.271011024819845\n",
      "  Racist: 38.87164104364804\n",
      "  Religion: 0.9838565916749528\n",
      "  Sexist: 10.672587135524548\n",
      "PREDICTION: [0. 1. 0. 0. 0. 0.]\n",
      "\n",
      "INPUT: The mentally ill should seek help no cap\n",
      "  Homophobe: 7.268584162162509\n",
      "  NotHate: 90.32762149816517\n",
      "  OtherHate: 38.38277881619464\n",
      "  Racist: 20.018433175815794\n",
      "  Religion: 1.1694231033318332\n",
      "  Sexist: 12.083250186300145\n",
      "PREDICTION: [0. 1. 0. 0. 0. 0.]\n",
      "\n",
      "------------ LabelPowerset ------------\n",
      "\n",
      "INPUT: Girl bitches should just kill themselves if they don't know how to cook\n",
      "  Homophobe: 6.234936560562432\n",
      "  NotHate: 93.42586321450251\n",
      "  OtherHate: 16.86605737403174\n",
      "  Racist: 33.90618614642186\n",
      "  Religion: 2.7497568250475712\n",
      "  Sexist: 13.0830596373269\n",
      "PREDICTION: [0 1 0 0 0 0]\n",
      "\n",
      "INPUT: gay people are mentally ill\n",
      "  Homophobe: 28.80986627224927\n",
      "  NotHate: 82.41733304987548\n",
      "  OtherHate: 36.916669231763535\n",
      "  Racist: 21.35067739576009\n",
      "  Religion: 4.4680967712907265\n",
      "  Sexist: 15.20853758696155\n",
      "PREDICTION: [0 1 1 0 0 0]\n",
      "\n",
      "INPUT: Islam people are all terrorists\n",
      "  Homophobe: 11.80249188771589\n",
      "  NotHate: 87.37680382593493\n",
      "  OtherHate: 27.367035660162088\n",
      "  Racist: 30.298856297819366\n",
      "  Religion: 8.091206456483365\n",
      "  Sexist: 14.186533694186382\n",
      "PREDICTION: [0 1 0 0 0 0]\n",
      "\n",
      "INPUT: Asians should just go back to their country, all they do is take our jobs\n",
      "  Homophobe: 5.22662089472833\n",
      "  NotHate: 95.23434006847864\n",
      "  OtherHate: 12.59259476349107\n",
      "  Racist: 41.37681278658745\n",
      "  Religion: 1.6390978628179307\n",
      "  Sexist: 10.068381201343847\n",
      "PREDICTION: [0 1 0 1 0 0]\n",
      "\n",
      "INPUT: If you want to make the world a better place, look at yourself and make a change\n",
      "  Homophobe: 8.822893813126619\n",
      "  NotHate: 92.54074038452758\n",
      "  OtherHate: 14.086752658359488\n",
      "  Racist: 37.559369298392944\n",
      "  Religion: 1.8803153413618472\n",
      "  Sexist: 12.94464429969918\n",
      "PREDICTION: [0 1 0 0 0 0]\n",
      "\n",
      "INPUT: The mentally ill should seek help no cap\n",
      "  Homophobe: 8.01074597133679\n",
      "  NotHate: 93.03558082758948\n",
      "  OtherHate: 30.1766647854362\n",
      "  Racist: 25.067019755972197\n",
      "  Religion: 2.018179423526295\n",
      "  Sexist: 12.090210078973865\n",
      "PREDICTION: [0 1 0 0 0 0]\n",
      "\n"
     ]
    }
   ],
   "source": [
    "for i,classifier in enumerate(classifiers):\n",
    "    print(f\"------------ {classifer_names[i]} ------------\\n\")\n",
    "    for text in sample_texts:\n",
    "        arr = [preprocess(text)]\n",
    "        proba = classifier.predict_proba(arr).toarray()[0]\n",
    "        pred = classifier.predict(arr).toarray()[0]\n",
    "\n",
    "        print(f'INPUT: {text}')\n",
    "        for i,e in enumerate(proba):\n",
    "            print(f'  {headers[i]}: {e*100}')\n",
    "        print(f'PREDICTION: {pred}\\n')"
   ]
  }
 ],
 "metadata": {
  "interpreter": {
   "hash": "2be5faf79681da6f2a61fdfdd5405d65d042280f7fba6178067603e3a2925119"
  },
  "kernelspec": {
   "display_name": "Python 3 (ipykernel)",
   "language": "python",
   "name": "python3"
  },
  "language_info": {
   "codemirror_mode": {
    "name": "ipython",
    "version": 3
   },
   "file_extension": ".py",
   "mimetype": "text/x-python",
   "name": "python",
   "nbconvert_exporter": "python",
   "pygments_lexer": "ipython3",
   "version": "3.9.7"
  }
 },
 "nbformat": 4,
 "nbformat_minor": 4
}

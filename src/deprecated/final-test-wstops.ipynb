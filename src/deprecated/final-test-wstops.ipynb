{
 "cells": [
  {
   "cell_type": "code",
   "execution_count": 30,
   "metadata": {},
   "outputs": [],
   "source": [
    "import pandas as pd\n",
    "import numpy as np\n",
    "# Model\n",
    "from sklearn import model_selection, svm\n",
    "from sklearn.preprocessing import LabelEncoder\n",
    "from sklearn.feature_extraction.text import TfidfVectorizer\n",
    "from sklearn.metrics import accuracy_score\n",
    "from sklearn.multiclass import OneVsRestClassifier\n",
    "# Pipeline\n",
    "from sklearn.pipeline import make_pipeline\n",
    "from joblib import dump"
   ]
  },
  {
   "cell_type": "code",
   "execution_count": 31,
   "metadata": {},
   "outputs": [],
   "source": [
    "out_directory = \"../out/final-test-wstops/\""
   ]
  },
  {
   "cell_type": "markdown",
   "metadata": {},
   "source": [
    "<h2>Organize Data</h2>"
   ]
  },
  {
   "cell_type": "code",
   "execution_count": 32,
   "metadata": {},
   "outputs": [
    {
     "data": {
      "text/html": [
       "<div>\n",
       "<style scoped>\n",
       "    .dataframe tbody tr th:only-of-type {\n",
       "        vertical-align: middle;\n",
       "    }\n",
       "\n",
       "    .dataframe tbody tr th {\n",
       "        vertical-align: top;\n",
       "    }\n",
       "\n",
       "    .dataframe thead th {\n",
       "        text-align: right;\n",
       "    }\n",
       "</style>\n",
       "<table border=\"1\" class=\"dataframe\">\n",
       "  <thead>\n",
       "    <tr style=\"text-align: right;\">\n",
       "      <th></th>\n",
       "      <th>text</th>\n",
       "      <th>HATE</th>\n",
       "      <th>NOT</th>\n",
       "      <th>OFFN</th>\n",
       "      <th>PRFN</th>\n",
       "      <th>Race</th>\n",
       "      <th>Religion</th>\n",
       "      <th>Gender</th>\n",
       "      <th>Other</th>\n",
       "      <th>None</th>\n",
       "    </tr>\n",
       "  </thead>\n",
       "  <tbody>\n",
       "    <tr>\n",
       "      <th>0</th>\n",
       "      <td>a vote for max is a vote for the white christi...</td>\n",
       "      <td>0</td>\n",
       "      <td>1</td>\n",
       "      <td>0</td>\n",
       "      <td>0</td>\n",
       "      <td>0</td>\n",
       "      <td>0</td>\n",
       "      <td>0</td>\n",
       "      <td>0</td>\n",
       "      <td>1</td>\n",
       "    </tr>\n",
       "    <tr>\n",
       "      <th>1</th>\n",
       "      <td>what a muslim does in the privacy of his own g...</td>\n",
       "      <td>1</td>\n",
       "      <td>0</td>\n",
       "      <td>0</td>\n",
       "      <td>0</td>\n",
       "      <td>1</td>\n",
       "      <td>1</td>\n",
       "      <td>0</td>\n",
       "      <td>0</td>\n",
       "      <td>0</td>\n",
       "    </tr>\n",
       "    <tr>\n",
       "      <th>2</th>\n",
       "      <td>it is in some circles but in others it the sam...</td>\n",
       "      <td>1</td>\n",
       "      <td>0</td>\n",
       "      <td>0</td>\n",
       "      <td>1</td>\n",
       "      <td>1</td>\n",
       "      <td>0</td>\n",
       "      <td>0</td>\n",
       "      <td>0</td>\n",
       "      <td>0</td>\n",
       "    </tr>\n",
       "    <tr>\n",
       "      <th>3</th>\n",
       "      <td>president trumps opinion get the son of the bi...</td>\n",
       "      <td>0</td>\n",
       "      <td>1</td>\n",
       "      <td>1</td>\n",
       "      <td>1</td>\n",
       "      <td>1</td>\n",
       "      <td>0</td>\n",
       "      <td>0</td>\n",
       "      <td>1</td>\n",
       "      <td>1</td>\n",
       "    </tr>\n",
       "    <tr>\n",
       "      <th>4</th>\n",
       "      <td>id2020 is also jabbing refugees with its micro...</td>\n",
       "      <td>0</td>\n",
       "      <td>1</td>\n",
       "      <td>1</td>\n",
       "      <td>0</td>\n",
       "      <td>0</td>\n",
       "      <td>0</td>\n",
       "      <td>0</td>\n",
       "      <td>1</td>\n",
       "      <td>1</td>\n",
       "    </tr>\n",
       "  </tbody>\n",
       "</table>\n",
       "</div>"
      ],
      "text/plain": [
       "                                                text  HATE  NOT  OFFN  PRFN  \\\n",
       "0  a vote for max is a vote for the white christi...     0    1     0     0   \n",
       "1  what a muslim does in the privacy of his own g...     1    0     0     0   \n",
       "2  it is in some circles but in others it the sam...     1    0     0     1   \n",
       "3  president trumps opinion get the son of the bi...     0    1     1     1   \n",
       "4  id2020 is also jabbing refugees with its micro...     0    1     1     0   \n",
       "\n",
       "   Race  Religion  Gender  Other  None  \n",
       "0     0         0       0      0     1  \n",
       "1     1         1       0      0     0  \n",
       "2     1         0       0      0     0  \n",
       "3     1         0       0      1     1  \n",
       "4     0         0       0      1     1  "
      ]
     },
     "execution_count": 32,
     "metadata": {},
     "output_type": "execute_result"
    }
   ],
   "source": [
    "# Read data\n",
    "# df = pd.read_csv(\"../res/dataset-final.csv\")\n",
    "\n",
    "train_df = pd.read_csv(\"../res/train_final.csv\")\n",
    "val_df = pd.read_csv(\"../res/val_final.csv\")\n",
    "test_df = pd.read_csv(\"../res/test_final.csv\")\n",
    "train_df.head()"
   ]
  },
  {
   "cell_type": "code",
   "execution_count": 33,
   "metadata": {},
   "outputs": [],
   "source": [
    "# # Organize targets\n",
    "# # Get target columns\n",
    "# headers = train_df.columns[1:]\n",
    "# # Create separate df for targets\n",
    "# y_train = train_df[headers]\n",
    "# y_val = val_df[headers]\n",
    "# y_test = test_df[headers]"
   ]
  },
  {
   "cell_type": "code",
   "execution_count": 34,
   "metadata": {},
   "outputs": [
    {
     "name": "stdout",
     "output_type": "stream",
     "text": [
      "subtask 1 and 2 headers:\n",
      "Index(['HATE', 'NOT', 'OFFN', 'PRFN'], dtype='object')\n",
      "subtask 3 headers:\n",
      "Index(['Race', 'Religion', 'Gender', 'Other', 'None'], dtype='object')\n"
     ]
    }
   ],
   "source": [
    "# Organize targets\n",
    "# Get target columns\n",
    "t1a2_headers = train_df.columns[1:5]\n",
    "print(\"subtask 1 and 2 headers:\")\n",
    "print(t1a2_headers)\n",
    "t3_headers = train_df.columns[5:]\n",
    "print(\"subtask 3 headers:\")\n",
    "print(t3_headers)"
   ]
  },
  {
   "cell_type": "markdown",
   "metadata": {},
   "source": [
    "<h2>Model Creation</h2>"
   ]
  },
  {
   "cell_type": "code",
   "execution_count": 35,
   "metadata": {},
   "outputs": [],
   "source": [
    "# Set number of samples to train with\n",
    "# train_df = train_df.iloc[:1000]"
   ]
  },
  {
   "cell_type": "markdown",
   "metadata": {},
   "source": [
    "<h4>Subtask 1 and 2</h4>"
   ]
  },
  {
   "cell_type": "code",
   "execution_count": 36,
   "metadata": {},
   "outputs": [],
   "source": [
    "# Instantiate Classifier\n",
    "ovr_classifier = make_pipeline(\n",
    "    TfidfVectorizer(stop_words=\"english\"),\n",
    "    OneVsRestClassifier(svm.SVC(kernel='linear', probability=True))\n",
    ")"
   ]
  },
  {
   "cell_type": "code",
   "execution_count": 37,
   "metadata": {},
   "outputs": [
    {
     "data": {
      "text/plain": [
       "Pipeline(steps=[('tfidfvectorizer', TfidfVectorizer(stop_words='english')),\n",
       "                ('onevsrestclassifier',\n",
       "                 OneVsRestClassifier(estimator=SVC(kernel='linear',\n",
       "                                                   probability=True)))])"
      ]
     },
     "execution_count": 37,
     "metadata": {},
     "output_type": "execute_result"
    }
   ],
   "source": [
    "# Train\n",
    "t1a2_classifier = ovr_classifier.fit(X=train_df[\"text\"], y=train_df[t1a2_headers])\n",
    "t1a2_classifier"
   ]
  },
  {
   "cell_type": "code",
   "execution_count": 38,
   "metadata": {},
   "outputs": [
    {
     "name": "stdout",
     "output_type": "stream",
     "text": [
      "SVM subtask 1 and 2 Accuracy Score ->  0.3867019517036057\n"
     ]
    }
   ],
   "source": [
    "predictions_t1a2 = t1a2_classifier.predict(test_df[\"text\"])\n",
    "t1a2_score = accuracy_score(predictions_t1a2, test_df[t1a2_headers])\n",
    "print(\"SVM subtask 1 and 2 Accuracy Score -> \",t1a2_score)"
   ]
  },
  {
   "cell_type": "markdown",
   "metadata": {},
   "source": [
    "<h5>Export Model</h5>"
   ]
  },
  {
   "cell_type": "code",
   "execution_count": 39,
   "metadata": {},
   "outputs": [
    {
     "data": {
      "text/plain": [
       "['../out/final-test-wstops/t1a2_classifier.joblib.z']"
      ]
     },
     "execution_count": 39,
     "metadata": {},
     "output_type": "execute_result"
    }
   ],
   "source": [
    "filename = \"t1a2_classifier.joblib.z\"\n",
    "path = out_directory + filename\n",
    "dump(t1a2_classifier, path)"
   ]
  },
  {
   "cell_type": "markdown",
   "metadata": {},
   "source": [
    "<h5>Tests</h5>"
   ]
  },
  {
   "cell_type": "code",
   "execution_count": 40,
   "metadata": {},
   "outputs": [
    {
     "name": "stdout",
     "output_type": "stream",
     "text": [
      "INPUT: Girl bitches should just kill themselves if they don't know how to cook\n",
      "  HATE: 7.961345706422309\n",
      "  NOT: 83.03971793546462\n",
      "  OFFN: 66.04410454888459\n",
      "  PRFN: 99.9985851945867\n",
      "PREDICTION: [0 1 1 1]\n",
      "\n",
      "INPUT: gay people are mentally ill\n",
      "  HATE: 45.37183322780173\n",
      "  NOT: 81.03982181597502\n",
      "  OFFN: 65.54514882420658\n",
      "  PRFN: 99.35757293977991\n",
      "PREDICTION: [0 1 1 1]\n",
      "\n",
      "INPUT: Islam people are all terrorists\n",
      "  HATE: 55.17852285076482\n",
      "  NOT: 24.128901966926094\n",
      "  OFFN: 59.234728396696134\n",
      "  PRFN: 20.075699688685493\n",
      "PREDICTION: [1 0 1 0]\n",
      "\n",
      "INPUT: Asians should just go back to their country, all they do is take our jobs\n",
      "  HATE: 11.786232239561315\n",
      "  NOT: 86.27845647033676\n",
      "  OFFN: 64.80451313724834\n",
      "  PRFN: 40.72166070387455\n",
      "PREDICTION: [0 1 1 1]\n",
      "\n",
      "INPUT: If you want to make the world a better place, look at yourself and make a change\n",
      "  HATE: 23.378923680602647\n",
      "  NOT: 69.41768152928648\n",
      "  OFFN: 46.01961686839321\n",
      "  PRFN: 59.17939784401525\n",
      "PREDICTION: [0 1 0 1]\n",
      "\n"
     ]
    }
   ],
   "source": [
    "text1 = \"Girl bitches should just kill themselves if they don't know how to cook\"\n",
    "text2 = \"gay people are mentally ill\"\n",
    "text3 = \"Islam people are all terrorists\"\n",
    "text4 = \"Asians should just go back to their country, all they do is take our jobs\"\n",
    "text5 = \"If you want to make the world a better place, look at yourself and make a change\"\n",
    "sample_texts = [text1, text2, text3, text4, text5]\n",
    "\n",
    "for text in sample_texts:\n",
    "    arr = [text]\n",
    "    classes = t1a2_classifier.classes_\n",
    "    proba = t1a2_classifier.predict_proba(arr)[0]\n",
    "    pred = t1a2_classifier.predict(arr)[0]\n",
    "\n",
    "    headers = t1a2_headers\n",
    "\n",
    "    print(f'INPUT: {text}')\n",
    "    for i,e in enumerate(classes):\n",
    "        print(f'  {headers[i]}: {proba[i]*100}')\n",
    "    print(f'PREDICTION: {pred}\\n')"
   ]
  },
  {
   "cell_type": "markdown",
   "metadata": {},
   "source": [
    "<h4>Subtask 3</h4>"
   ]
  },
  {
   "cell_type": "code",
   "execution_count": 41,
   "metadata": {},
   "outputs": [],
   "source": [
    "# Instantiate Classifier\n",
    "ovr_classifier = make_pipeline(\n",
    "    TfidfVectorizer(stop_words=\"english\"),\n",
    "    OneVsRestClassifier(svm.SVC(kernel='linear', probability=True))\n",
    ")"
   ]
  },
  {
   "cell_type": "code",
   "execution_count": 42,
   "metadata": {},
   "outputs": [
    {
     "data": {
      "text/plain": [
       "Pipeline(steps=[('tfidfvectorizer', TfidfVectorizer(stop_words='english')),\n",
       "                ('onevsrestclassifier',\n",
       "                 OneVsRestClassifier(estimator=SVC(kernel='linear',\n",
       "                                                   probability=True)))])"
      ]
     },
     "execution_count": 42,
     "metadata": {},
     "output_type": "execute_result"
    }
   ],
   "source": [
    "t3_classifier = ovr_classifier.fit(X=train_df[\"text\"], y=train_df[t3_headers])\n",
    "t3_classifier"
   ]
  },
  {
   "cell_type": "code",
   "execution_count": 43,
   "metadata": {},
   "outputs": [
    {
     "name": "stdout",
     "output_type": "stream",
     "text": [
      "SVM subtask 1 and 2 Accuracy Score ->  0.3797552100562355\n"
     ]
    }
   ],
   "source": [
    "predictions_t3 = t3_classifier.predict(test_df[\"text\"])\n",
    "t3_score = accuracy_score(predictions_t3, test_df[t3_headers])\n",
    "print(\"SVM subtask 1 and 2 Accuracy Score -> \",t3_score)"
   ]
  },
  {
   "cell_type": "markdown",
   "metadata": {},
   "source": [
    "<h5>Export Model</h5>"
   ]
  },
  {
   "cell_type": "code",
   "execution_count": 44,
   "metadata": {},
   "outputs": [
    {
     "data": {
      "text/plain": [
       "['../out/final-test-wstops/t3_classifier.joblib.z']"
      ]
     },
     "execution_count": 44,
     "metadata": {},
     "output_type": "execute_result"
    }
   ],
   "source": [
    "filename = \"t3_classifier.joblib.z\"\n",
    "path = out_directory + filename\n",
    "dump(t1a2_classifier, path)"
   ]
  },
  {
   "cell_type": "markdown",
   "metadata": {},
   "source": [
    "<h5>Tests</h5>"
   ]
  },
  {
   "cell_type": "code",
   "execution_count": 45,
   "metadata": {},
   "outputs": [
    {
     "name": "stdout",
     "output_type": "stream",
     "text": [
      "INPUT: Girl bitches should just kill themselves if they don't know how to cook\n",
      "  Race: 11.800675279886848\n",
      "  Religion: 3.5641463001496634\n",
      "  Gender: 87.44968728861734\n",
      "  Other: 8.674922850136216\n",
      "  None: 73.02662157148518\n",
      "PREDICTION: [0 0 1 0 1]\n",
      "\n",
      "INPUT: gay people are mentally ill\n",
      "  Race: 4.356550734993422\n",
      "  Religion: 3.3727838097378116\n",
      "  Gender: 94.19634397999565\n",
      "  Other: 28.117515687184262\n",
      "  None: 58.324218556363306\n",
      "PREDICTION: [0 0 1 0 1]\n",
      "\n",
      "INPUT: Islam people are all terrorists\n",
      "  Race: 8.383686412859312\n",
      "  Religion: 99.99999651956684\n",
      "  Gender: 5.751269708066402\n",
      "  Other: 7.10722500042341\n",
      "  None: 21.972063516762166\n",
      "PREDICTION: [0 1 0 0 0]\n",
      "\n",
      "INPUT: Asians should just go back to their country, all they do is take our jobs\n",
      "  Race: 93.93093354929599\n",
      "  Religion: 2.7023198363116245\n",
      "  Gender: 6.97075537716508\n",
      "  Other: 18.529375975418663\n",
      "  None: 86.70107789846753\n",
      "PREDICTION: [1 0 0 0 1]\n",
      "\n",
      "INPUT: If you want to make the world a better place, look at yourself and make a change\n",
      "  Race: 14.57129409720775\n",
      "  Religion: 5.273709943902456\n",
      "  Gender: 11.923686390202832\n",
      "  Other: 28.89716486245048\n",
      "  None: 63.54610984455207\n",
      "PREDICTION: [0 0 0 0 1]\n",
      "\n"
     ]
    }
   ],
   "source": [
    "text1 = \"Girl bitches should just kill themselves if they don't know how to cook\"\n",
    "text2 = \"gay people are mentally ill\"\n",
    "text3 = \"Islam people are all terrorists\"\n",
    "text4 = \"Asians should just go back to their country, all they do is take our jobs\"\n",
    "text5 = \"If you want to make the world a better place, look at yourself and make a change\"\n",
    "sample_texts = [text1, text2, text3, text4, text5]\n",
    "\n",
    "for text in sample_texts:\n",
    "    arr = [text]\n",
    "    classes = t3_classifier.classes_\n",
    "    proba = t3_classifier.predict_proba(arr)[0]\n",
    "    pred = t3_classifier.predict(arr)[0]\n",
    "\n",
    "    headers = t3_headers\n",
    "\n",
    "    print(f'INPUT: {text}')\n",
    "    for i,e in enumerate(classes):\n",
    "        print(f'  {headers[i]}: {proba[i]*100}')\n",
    "    print(f'PREDICTION: {pred}\\n')"
   ]
  },
  {
   "cell_type": "markdown",
   "metadata": {},
   "source": [
    "<h3>Subtask 1 only</h3>"
   ]
  },
  {
   "cell_type": "code",
   "execution_count": 46,
   "metadata": {},
   "outputs": [
    {
     "data": {
      "text/plain": [
       "Index(['HATE', 'NOT', 'OFFN'], dtype='object')"
      ]
     },
     "execution_count": 46,
     "metadata": {},
     "output_type": "execute_result"
    }
   ],
   "source": [
    "t1_headers = t1a2_headers[:-1]\n",
    "t1_headers"
   ]
  },
  {
   "cell_type": "code",
   "execution_count": 47,
   "metadata": {},
   "outputs": [],
   "source": [
    "# Instantiate Classifier\n",
    "ovr_classifier = make_pipeline(\n",
    "    TfidfVectorizer(stop_words=\"english\"),\n",
    "    OneVsRestClassifier(svm.SVC(kernel='linear', probability=True))\n",
    ")"
   ]
  },
  {
   "cell_type": "code",
   "execution_count": 48,
   "metadata": {},
   "outputs": [
    {
     "data": {
      "text/plain": [
       "Pipeline(steps=[('tfidfvectorizer', TfidfVectorizer(stop_words='english')),\n",
       "                ('onevsrestclassifier',\n",
       "                 OneVsRestClassifier(estimator=SVC(kernel='linear',\n",
       "                                                   probability=True)))])"
      ]
     },
     "execution_count": 48,
     "metadata": {},
     "output_type": "execute_result"
    }
   ],
   "source": [
    "t1_classifier = ovr_classifier.fit(X=train_df[\"text\"], y=train_df[t1_headers])\n",
    "t1_classifier"
   ]
  },
  {
   "cell_type": "code",
   "execution_count": 49,
   "metadata": {},
   "outputs": [
    {
     "name": "stdout",
     "output_type": "stream",
     "text": [
      "SVM subtask 1 Accuracy Score ->  0.4343367515712868\n"
     ]
    }
   ],
   "source": [
    "predictions_t1 = t1_classifier.predict(test_df[\"text\"])\n",
    "t1_score = accuracy_score(predictions_t1, test_df[t1_headers])\n",
    "print(\"SVM subtask 1 Accuracy Score -> \",t1_score)"
   ]
  },
  {
   "cell_type": "markdown",
   "metadata": {},
   "source": [
    "<h5>Export Model</h5>"
   ]
  },
  {
   "cell_type": "code",
   "execution_count": 50,
   "metadata": {},
   "outputs": [
    {
     "data": {
      "text/plain": [
       "['../out/final-test-wstops/t1_classifier.joblib.z']"
      ]
     },
     "execution_count": 50,
     "metadata": {},
     "output_type": "execute_result"
    }
   ],
   "source": [
    "filename = \"t1_classifier.joblib.z\"\n",
    "path = out_directory + filename\n",
    "dump(t1_classifier, path)"
   ]
  },
  {
   "cell_type": "markdown",
   "metadata": {},
   "source": [
    "<h5>Tests</h5>"
   ]
  },
  {
   "cell_type": "code",
   "execution_count": 51,
   "metadata": {},
   "outputs": [
    {
     "name": "stdout",
     "output_type": "stream",
     "text": [
      "INPUT: Girl bitches should just kill themselves if they don't know how to cook\n",
      "  HATE: 7.916579800995889\n",
      "  NOT: 83.39522224184441\n",
      "  OFFN: 65.97628289410085\n",
      "PREDICTION: [0 1 1]\n",
      "\n",
      "INPUT: gay people are mentally ill\n",
      "  HATE: 45.21366070823042\n",
      "  NOT: 81.39682304084529\n",
      "  OFFN: 65.47906951918822\n",
      "PREDICTION: [0 1 1]\n",
      "\n",
      "INPUT: Islam people are all terrorists\n",
      "  HATE: 55.018204706132636\n",
      "  NOT: 23.844232214261186\n",
      "  OFFN: 59.19200680971124\n",
      "PREDICTION: [1 0 1]\n",
      "\n",
      "INPUT: Asians should just go back to their country, all they do is take our jobs\n",
      "  HATE: 11.72214774134788\n",
      "  NOT: 86.6206310366791\n",
      "  OFFN: 64.73605661607574\n",
      "PREDICTION: [0 1 1]\n",
      "\n",
      "INPUT: If you want to make the world a better place, look at yourself and make a change\n",
      "  HATE: 23.266628975378804\n",
      "  NOT: 69.71144356710232\n",
      "  OFFN: 46.03518772953804\n",
      "PREDICTION: [0 1 0]\n",
      "\n"
     ]
    }
   ],
   "source": [
    "text1 = \"Girl bitches should just kill themselves if they don't know how to cook\"\n",
    "text2 = \"gay people are mentally ill\"\n",
    "text3 = \"Islam people are all terrorists\"\n",
    "text4 = \"Asians should just go back to their country, all they do is take our jobs\"\n",
    "text5 = \"If you want to make the world a better place, look at yourself and make a change\"\n",
    "sample_texts = [text1, text2, text3, text4, text5]\n",
    "\n",
    "for text in sample_texts:\n",
    "    arr = [text]\n",
    "    classes = t1_classifier.classes_\n",
    "    proba = t1_classifier.predict_proba(arr)[0]\n",
    "    pred = t1_classifier.predict(arr)[0]\n",
    "\n",
    "    headers = t1_headers\n",
    "\n",
    "    print(f'INPUT: {text}')\n",
    "    for i,e in enumerate(classes):\n",
    "        print(f'  {headers[i]}: {proba[i]*100}')\n",
    "    print(f'PREDICTION: {pred}\\n')"
   ]
  },
  {
   "cell_type": "markdown",
   "metadata": {},
   "source": [
    "<h4>Subtask 2</h4>"
   ]
  },
  {
   "cell_type": "code",
   "execution_count": 52,
   "metadata": {},
   "outputs": [],
   "source": [
    "t2_headers = [\"PRFN\"]"
   ]
  },
  {
   "cell_type": "code",
   "execution_count": 53,
   "metadata": {},
   "outputs": [],
   "source": [
    "# Instantiate Classifier\n",
    "ovr_classifier = make_pipeline(\n",
    "    TfidfVectorizer(stop_words=\"english\"),\n",
    "    svm.SVC(kernel='linear', probability=True)\n",
    ")"
   ]
  },
  {
   "cell_type": "code",
   "execution_count": 54,
   "metadata": {},
   "outputs": [
    {
     "name": "stderr",
     "output_type": "stream",
     "text": [
      "C:\\Python310\\lib\\site-packages\\sklearn\\utils\\validation.py:993: DataConversionWarning: A column-vector y was passed when a 1d array was expected. Please change the shape of y to (n_samples, ), for example using ravel().\n",
      "  y = column_or_1d(y, warn=True)\n"
     ]
    },
    {
     "data": {
      "text/plain": [
       "Pipeline(steps=[('tfidfvectorizer', TfidfVectorizer(stop_words='english')),\n",
       "                ('svc', SVC(kernel='linear', probability=True))])"
      ]
     },
     "execution_count": 54,
     "metadata": {},
     "output_type": "execute_result"
    }
   ],
   "source": [
    "t2_classifier = ovr_classifier.fit(X=train_df[\"text\"], y=train_df[t2_headers])\n",
    "t2_classifier"
   ]
  },
  {
   "cell_type": "code",
   "execution_count": 55,
   "metadata": {},
   "outputs": [
    {
     "name": "stdout",
     "output_type": "stream",
     "text": [
      "SVM subtask 2 Accuracy Score ->  0.8825669864373139\n"
     ]
    }
   ],
   "source": [
    "predictions_t2 = t2_classifier.predict(test_df[\"text\"])\n",
    "t2_score = accuracy_score(predictions_t2, test_df[t2_headers])\n",
    "print(\"SVM subtask 2 Accuracy Score -> \",t2_score)"
   ]
  },
  {
   "cell_type": "markdown",
   "metadata": {},
   "source": [
    "<h5>Export Model</h5>"
   ]
  },
  {
   "cell_type": "code",
   "execution_count": 56,
   "metadata": {},
   "outputs": [
    {
     "data": {
      "text/plain": [
       "['../out/final-test-wstops/t2_classifier.joblib.z']"
      ]
     },
     "execution_count": 56,
     "metadata": {},
     "output_type": "execute_result"
    }
   ],
   "source": [
    "filename = \"t2_classifier.joblib.z\"\n",
    "path = out_directory + filename\n",
    "dump(t1_classifier, path)"
   ]
  },
  {
   "cell_type": "markdown",
   "metadata": {},
   "source": [
    "<h5>Tests</h5>"
   ]
  },
  {
   "cell_type": "code",
   "execution_count": 57,
   "metadata": {},
   "outputs": [
    {
     "name": "stdout",
     "output_type": "stream",
     "text": [
      "INPUT: Girl bitches should just kill themselves if they don't know how to cook\n",
      "  0: 0.0013130902082559937\n",
      "  1: 99.99868690979174\n",
      "PREDICTION: 1\n",
      "\n",
      "INPUT: gay people are mentally ill\n",
      "  0: 0.6231605545774854\n",
      "  1: 99.37683944542249\n",
      "PREDICTION: 1\n",
      "\n",
      "INPUT: Islam people are all terrorists\n",
      "  0: 80.05699150580463\n",
      "  1: 19.94300849419535\n",
      "PREDICTION: 0\n",
      "\n",
      "INPUT: Asians should just go back to their country, all they do is take our jobs\n",
      "  0: 59.33053916376998\n",
      "  1: 40.66946083623003\n",
      "PREDICTION: 1\n",
      "\n",
      "INPUT: If you want to make the world a better place, look at yourself and make a change\n",
      "  0: 40.762983643491175\n",
      "  1: 59.237016356508846\n",
      "PREDICTION: 1\n",
      "\n"
     ]
    }
   ],
   "source": [
    "text1 = \"Girl bitches should just kill themselves if they don't know how to cook\"\n",
    "text2 = \"gay people are mentally ill\"\n",
    "text3 = \"Islam people are all terrorists\"\n",
    "text4 = \"Asians should just go back to their country, all they do is take our jobs\"\n",
    "text5 = \"If you want to make the world a better place, look at yourself and make a change\"\n",
    "sample_texts = [text1, text2, text3, text4, text5]\n",
    "\n",
    "for text in sample_texts:\n",
    "    arr = [text]\n",
    "    classes = t2_classifier.classes_\n",
    "    proba = t2_classifier.predict_proba(arr)[0]\n",
    "    pred = t2_classifier.predict(arr)[0]\n",
    "\n",
    "    headers = classes\n",
    "\n",
    "    print(f'INPUT: {text}')\n",
    "    for i,e in enumerate(classes):\n",
    "        print(f'  {headers[i]}: {proba[i]*100}')\n",
    "    print(f'PREDICTION: {pred}\\n')"
   ]
  },
  {
   "cell_type": "code",
   "execution_count": 58,
   "metadata": {},
   "outputs": [
    {
     "name": "stdout",
     "output_type": "stream",
     "text": [
      "with stop words accuracies:\n",
      "[0.3867019517036057, 0.3797552100562355, 0.4343367515712868, 0.8825669864373139]\n"
     ]
    }
   ],
   "source": [
    "scores = [t1a2_score, t3_score, t1_score, t2_score]\n",
    "print(\"with stop words accuracies:\")\n",
    "print(scores)"
   ]
  }
 ],
 "metadata": {
  "interpreter": {
   "hash": "2be5faf79681da6f2a61fdfdd5405d65d042280f7fba6178067603e3a2925119"
  },
  "kernelspec": {
   "display_name": "Python 3.10.0 64-bit",
   "language": "python",
   "name": "python3"
  },
  "language_info": {
   "codemirror_mode": {
    "name": "ipython",
    "version": 3
   },
   "file_extension": ".py",
   "mimetype": "text/x-python",
   "name": "python",
   "nbconvert_exporter": "python",
   "pygments_lexer": "ipython3",
   "version": "3.10.0"
  },
  "orig_nbformat": 4
 },
 "nbformat": 4,
 "nbformat_minor": 2
}

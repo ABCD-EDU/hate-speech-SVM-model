{
 "cells": [
  {
   "cell_type": "code",
   "execution_count": 578,
   "id": "99dff001-2d77-43bb-b23e-e8d74e12bd67",
   "metadata": {},
   "outputs": [],
   "source": [
    "import numpy as np # linear algebra\n",
    "import pandas as pd # data processing, CSV file I/O (e.g. pd.read_csv)\n",
    "# import os\n",
    "# import json\n",
    "# from pandas.io.json import json_normalize"
   ]
  },
  {
   "cell_type": "code",
   "execution_count": 579,
   "id": "964233dc",
   "metadata": {},
   "outputs": [],
   "source": [
    "import pandas as pd\n",
    "import numpy as np\n",
    "# Preprocessing\n",
    "import re\n",
    "import preprocessor as p\n",
    "import string\n",
    "import contractions\n",
    "from collections import defaultdict\n",
    "import nltk\n",
    "from nltk.tokenize import word_tokenize\n",
    "from nltk.stem import WordNetLemmatizer\n",
    "from nltk.corpus import wordnet as wn\n",
    "from nltk import pos_tag\n",
    "from nltk.corpus import stopwords\n",
    "# Model\n",
    "from sklearn import model_selection, svm\n",
    "from sklearn.preprocessing import LabelEncoder\n",
    "from sklearn.feature_extraction.text import TfidfVectorizer\n",
    "from sklearn.metrics import accuracy_score\n",
    "# Pipeline\n",
    "from sklearn.pipeline import make_pipeline\n",
    "from joblib import dump"
   ]
  },
  {
   "cell_type": "code",
   "execution_count": 580,
   "id": "e7b8f2b1",
   "metadata": {},
   "outputs": [
    {
     "name": "stderr",
     "output_type": "stream",
     "text": [
      "[nltk_data] Downloading package punkt to\n",
      "[nltk_data]     C:\\Users\\cgab\\AppData\\Roaming\\nltk_data...\n",
      "[nltk_data]   Package punkt is already up-to-date!\n",
      "[nltk_data] Downloading package wordnet to\n",
      "[nltk_data]     C:\\Users\\cgab\\AppData\\Roaming\\nltk_data...\n",
      "[nltk_data]   Package wordnet is already up-to-date!\n",
      "[nltk_data] Downloading package omw-1.4 to\n",
      "[nltk_data]     C:\\Users\\cgab\\AppData\\Roaming\\nltk_data...\n",
      "[nltk_data]   Package omw-1.4 is already up-to-date!\n",
      "[nltk_data] Downloading package averaged_perceptron_tagger to\n",
      "[nltk_data]     C:\\Users\\cgab\\AppData\\Roaming\\nltk_data...\n",
      "[nltk_data]   Package averaged_perceptron_tagger is already up-to-\n",
      "[nltk_data]       date!\n",
      "[nltk_data] Downloading package stopwords to\n",
      "[nltk_data]     C:\\Users\\cgab\\AppData\\Roaming\\nltk_data...\n",
      "[nltk_data]   Package stopwords is already up-to-date!\n"
     ]
    },
    {
     "data": {
      "text/plain": [
       "True"
      ]
     },
     "execution_count": 580,
     "metadata": {},
     "output_type": "execute_result"
    }
   ],
   "source": [
    "# Download requires corpus\n",
    "nltk.download('punkt')\n",
    "nltk.download('wordnet')\n",
    "nltk.download('omw-1.4')\n",
    "nltk.download('averaged_perceptron_tagger')\n",
    "nltk.download('stopwords')"
   ]
  },
  {
   "cell_type": "code",
   "execution_count": 581,
   "id": "2879a174-73c4-4294-a7e0-a5879f52320e",
   "metadata": {},
   "outputs": [
    {
     "data": {
      "text/html": [
       "<div>\n",
       "<style scoped>\n",
       "    .dataframe tbody tr th:only-of-type {\n",
       "        vertical-align: middle;\n",
       "    }\n",
       "\n",
       "    .dataframe tbody tr th {\n",
       "        vertical-align: top;\n",
       "    }\n",
       "\n",
       "    .dataframe thead th {\n",
       "        text-align: right;\n",
       "    }\n",
       "</style>\n",
       "<table border=\"1\" class=\"dataframe\">\n",
       "  <thead>\n",
       "    <tr style=\"text-align: right;\">\n",
       "      <th></th>\n",
       "      <th>annotators</th>\n",
       "      <th>post_tokens</th>\n",
       "    </tr>\n",
       "  </thead>\n",
       "  <tbody>\n",
       "    <tr>\n",
       "      <th>1179055004553900032_twitter</th>\n",
       "      <td>[{'label': 'normal', 'annotator_id': 1, 'targe...</td>\n",
       "      <td>[i, dont, think, im, getting, my, baby, them, ...</td>\n",
       "    </tr>\n",
       "    <tr>\n",
       "      <th>1179063826874032128_twitter</th>\n",
       "      <td>[{'label': 'normal', 'annotator_id': 1, 'targe...</td>\n",
       "      <td>[we, cannot, continue, calling, ourselves, fem...</td>\n",
       "    </tr>\n",
       "    <tr>\n",
       "      <th>1178793830532956161_twitter</th>\n",
       "      <td>[{'label': 'normal', 'annotator_id': 4, 'targe...</td>\n",
       "      <td>[nawt, yall, niggers, ignoring, me]</td>\n",
       "    </tr>\n",
       "    <tr>\n",
       "      <th>1179088797964763136_twitter</th>\n",
       "      <td>[{'label': 'hatespeech', 'annotator_id': 1, 't...</td>\n",
       "      <td>[&lt;user&gt;, i, am, bit, confused, coz, chinese, p...</td>\n",
       "    </tr>\n",
       "    <tr>\n",
       "      <th>1179085312976445440_twitter</th>\n",
       "      <td>[{'label': 'hatespeech', 'annotator_id': 4, 't...</td>\n",
       "      <td>[this, bitch, in, whataburger, eating, a, burg...</td>\n",
       "    </tr>\n",
       "  </tbody>\n",
       "</table>\n",
       "</div>"
      ],
      "text/plain": [
       "                                                                    annotators  \\\n",
       "1179055004553900032_twitter  [{'label': 'normal', 'annotator_id': 1, 'targe...   \n",
       "1179063826874032128_twitter  [{'label': 'normal', 'annotator_id': 1, 'targe...   \n",
       "1178793830532956161_twitter  [{'label': 'normal', 'annotator_id': 4, 'targe...   \n",
       "1179088797964763136_twitter  [{'label': 'hatespeech', 'annotator_id': 1, 't...   \n",
       "1179085312976445440_twitter  [{'label': 'hatespeech', 'annotator_id': 4, 't...   \n",
       "\n",
       "                                                                   post_tokens  \n",
       "1179055004553900032_twitter  [i, dont, think, im, getting, my, baby, them, ...  \n",
       "1179063826874032128_twitter  [we, cannot, continue, calling, ourselves, fem...  \n",
       "1178793830532956161_twitter                [nawt, yall, niggers, ignoring, me]  \n",
       "1179088797964763136_twitter  [<user>, i, am, bit, confused, coz, chinese, p...  \n",
       "1179085312976445440_twitter  [this, bitch, in, whataburger, eating, a, burg...  "
      ]
     },
     "execution_count": 581,
     "metadata": {},
     "output_type": "execute_result"
    }
   ],
   "source": [
    "dataset = pd.read_json(\"../res/dataset3.json\")\n",
    "dataset = dataset.transpose()\n",
    "dataset.drop([\"post_id\", \"rationales\"], axis=1, inplace=True)\n",
    "dataset.head()"
   ]
  },
  {
   "cell_type": "markdown",
   "id": "6de5b9d1",
   "metadata": {},
   "source": [
    "<h2>Preprocess post_tokens</h2>"
   ]
  },
  {
   "cell_type": "code",
   "execution_count": 582,
   "id": "554d7995",
   "metadata": {},
   "outputs": [],
   "source": [
    "bracketed_words = set()\n",
    "# Regex pattern to match anything that is eclosed by angled brackets\n",
    "pattern = re.compile(\"\\<(.*?)\\>\")\n",
    "# Get all unique bracketed tokens\n",
    "for e in dataset[\"post_tokens\"]:\n",
    "    for t in e:\n",
    "        if \">\" in t and \"<\" in t:\n",
    "            bracketed_words.add(t)\n",
    "# Remove all bracketed tokens in post_tokens\n",
    "dataset[\"post_tokens\"] = [list(filter(lambda token: token not in bracketed_words, entry)) for entry in dataset[\"post_tokens\"]]"
   ]
  },
  {
   "cell_type": "code",
   "execution_count": 583,
   "id": "20d374ca",
   "metadata": {},
   "outputs": [],
   "source": [
    "# Expand contractions\n",
    "dataset[\"post_tokens\"] = [[contractions.fix(token, slang=True) for token in entry] for entry in dataset[\"post_tokens\"]]"
   ]
  },
  {
   "cell_type": "code",
   "execution_count": 584,
   "id": "ddff60cc",
   "metadata": {},
   "outputs": [],
   "source": [
    "# Create new column for concatenated text\n",
    "dataset[\"text\"] = [' '.join(entry) for entry in dataset[\"post_tokens\"]]\n",
    "# Convert to lowercase\n",
    "dataset[\"text\"] = [entry.lower() for entry in dataset[\"text\"]]\n",
    "# Remove punctuation marks\n",
    "dataset[\"text\"] = [entry.translate(str.maketrans('', '', string.punctuation)) for entry in dataset[\"text\"]]\n",
    "# Twitter preprocess\n",
    "dataset[\"text\"] = [p.clean(entry) for entry in dataset[\"text\"]]\n",
    "# Tokenization\n",
    "dataset['text']= [word_tokenize(entry) for entry in dataset['text']]\n",
    "# Turn to String\n",
    "dataset['text']= [str(entry) for entry in dataset['text']]"
   ]
  },
  {
   "cell_type": "code",
   "execution_count": 585,
   "id": "21d96da3",
   "metadata": {},
   "outputs": [],
   "source": [
    "dataset.drop([\"post_tokens\"], axis=1, inplace=True)"
   ]
  },
  {
   "cell_type": "code",
   "execution_count": 586,
   "id": "3a098af1",
   "metadata": {},
   "outputs": [
    {
     "data": {
      "text/html": [
       "<div>\n",
       "<style scoped>\n",
       "    .dataframe tbody tr th:only-of-type {\n",
       "        vertical-align: middle;\n",
       "    }\n",
       "\n",
       "    .dataframe tbody tr th {\n",
       "        vertical-align: top;\n",
       "    }\n",
       "\n",
       "    .dataframe thead th {\n",
       "        text-align: right;\n",
       "    }\n",
       "</style>\n",
       "<table border=\"1\" class=\"dataframe\">\n",
       "  <thead>\n",
       "    <tr style=\"text-align: right;\">\n",
       "      <th></th>\n",
       "      <th>annotators</th>\n",
       "      <th>text</th>\n",
       "    </tr>\n",
       "  </thead>\n",
       "  <tbody>\n",
       "    <tr>\n",
       "      <th>1179055004553900032_twitter</th>\n",
       "      <td>[{'label': 'normal', 'annotator_id': 1, 'targe...</td>\n",
       "      <td>['i', 'do', 'not', 'think', 'i', 'am', 'gettin...</td>\n",
       "    </tr>\n",
       "    <tr>\n",
       "      <th>1179063826874032128_twitter</th>\n",
       "      <td>[{'label': 'normal', 'annotator_id': 1, 'targe...</td>\n",
       "      <td>['we', 'can', 'not', 'continue', 'calling', 'o...</td>\n",
       "    </tr>\n",
       "    <tr>\n",
       "      <th>1178793830532956161_twitter</th>\n",
       "      <td>[{'label': 'normal', 'annotator_id': 4, 'targe...</td>\n",
       "      <td>['nawt', 'you', 'all', 'niggers', 'ignoring', ...</td>\n",
       "    </tr>\n",
       "    <tr>\n",
       "      <th>1179088797964763136_twitter</th>\n",
       "      <td>[{'label': 'hatespeech', 'annotator_id': 1, 't...</td>\n",
       "      <td>['i', 'am', 'bit', 'confused', 'coz', 'chinese...</td>\n",
       "    </tr>\n",
       "    <tr>\n",
       "      <th>1179085312976445440_twitter</th>\n",
       "      <td>[{'label': 'hatespeech', 'annotator_id': 4, 't...</td>\n",
       "      <td>['this', 'bitch', 'in', 'whataburger', 'eating...</td>\n",
       "    </tr>\n",
       "  </tbody>\n",
       "</table>\n",
       "</div>"
      ],
      "text/plain": [
       "                                                                    annotators  \\\n",
       "1179055004553900032_twitter  [{'label': 'normal', 'annotator_id': 1, 'targe...   \n",
       "1179063826874032128_twitter  [{'label': 'normal', 'annotator_id': 1, 'targe...   \n",
       "1178793830532956161_twitter  [{'label': 'normal', 'annotator_id': 4, 'targe...   \n",
       "1179088797964763136_twitter  [{'label': 'hatespeech', 'annotator_id': 1, 't...   \n",
       "1179085312976445440_twitter  [{'label': 'hatespeech', 'annotator_id': 4, 't...   \n",
       "\n",
       "                                                                          text  \n",
       "1179055004553900032_twitter  ['i', 'do', 'not', 'think', 'i', 'am', 'gettin...  \n",
       "1179063826874032128_twitter  ['we', 'can', 'not', 'continue', 'calling', 'o...  \n",
       "1178793830532956161_twitter  ['nawt', 'you', 'all', 'niggers', 'ignoring', ...  \n",
       "1179088797964763136_twitter  ['i', 'am', 'bit', 'confused', 'coz', 'chinese...  \n",
       "1179085312976445440_twitter  ['this', 'bitch', 'in', 'whataburger', 'eating...  "
      ]
     },
     "execution_count": 586,
     "metadata": {},
     "output_type": "execute_result"
    }
   ],
   "source": [
    "dataset.head()"
   ]
  },
  {
   "cell_type": "code",
   "execution_count": 587,
   "id": "9e0a114c",
   "metadata": {},
   "outputs": [],
   "source": [
    "def det_hate(text):\n",
    "    return 1 if \"hatespeech\" in text else 0\n",
    "def det_normal(text):\n",
    "    return 1 if \"normal\" in text and \"hatespeech\" not in text else 0\n",
    "def det_offensive(text):\n",
    "    return 1 if \"offensive\" in text else 0\n",
    "\n",
    "dataset[\"HATE\"] = dataset.apply(lambda e: det_hate(str(e[0])), axis = 1)\n",
    "dataset[\"NOT\"] = dataset.apply(lambda e: det_normal(str(e[0])), axis = 1)\n",
    "dataset[\"OFFN\"] = dataset.apply(lambda e: det_offensive(str(e[0])), axis = 1)"
   ]
  },
  {
   "cell_type": "code",
   "execution_count": 588,
   "id": "d3838877",
   "metadata": {},
   "outputs": [
    {
     "data": {
      "text/plain": [
       "0"
      ]
     },
     "execution_count": 588,
     "metadata": {},
     "output_type": "execute_result"
    }
   ],
   "source": [
    "# Validate if there are rows with HATE 1 and NOT 1\n",
    "dataset1 = dataset[dataset[\"HATE\"].ne(0) & dataset[\"NOT\"].ne(0)]\n",
    "len(dataset1)"
   ]
  },
  {
   "cell_type": "code",
   "execution_count": 589,
   "id": "9dce8098",
   "metadata": {},
   "outputs": [
    {
     "data": {
      "text/plain": [
       "3734"
      ]
     },
     "execution_count": 589,
     "metadata": {},
     "output_type": "execute_result"
    }
   ],
   "source": [
    "# Get collection of obscene words\n",
    "obscene_words = []\n",
    "# Read file\n",
    "with open('../res/obscene-words.csv') as file: \n",
    "    for line in file:\n",
    "        obscene_words.append(line.rstrip(\"\\n\"))\n",
    "obscene_words = obscene_words[0].split(\", \")\n",
    "\n",
    "# Remove containing numbers\n",
    "obscene_words = [x for x in obscene_words if not any(c.isdigit() for c in x)]\n",
    "# Remove containing special characters\n",
    "# special_characters = \"!\\\"#$%&'()*+,-./:;<=>?@[\\]^_`{|}~\"\n",
    "# def has_special(text):\n",
    "#     return True if any(c in special_characters for c in text) else 0\n",
    "# obscene_words = list(filter(lambda x: not has_special(x), obscene_words))\n",
    "# Remove spaces\n",
    "obscene_words = list(filter(lambda x: \" \" not in x, obscene_words))\n",
    "len(obscene_words)"
   ]
  },
  {
   "cell_type": "code",
   "execution_count": 590,
   "id": "a59bd2f4",
   "metadata": {},
   "outputs": [],
   "source": [
    "def det_prof(text):\n",
    "    return 1 if any(badword in text for badword in obscene_words) else 0\n",
    "\n",
    "dataset[\"PRFN\"] = dataset.apply(lambda e: det_prof(str(e[1])), axis = 1)"
   ]
  },
  {
   "cell_type": "code",
   "execution_count": 591,
   "id": "23b9a3f3",
   "metadata": {},
   "outputs": [
    {
     "data": {
      "text/plain": [
       "1    17269\n",
       "0     2879\n",
       "Name: PRFN, dtype: int64"
      ]
     },
     "execution_count": 591,
     "metadata": {},
     "output_type": "execute_result"
    }
   ],
   "source": [
    "dataset[\"PRFN\"].value_counts()"
   ]
  },
  {
   "cell_type": "code",
   "execution_count": 592,
   "id": "b4de92e1",
   "metadata": {},
   "outputs": [
    {
     "data": {
      "text/html": [
       "<div>\n",
       "<style scoped>\n",
       "    .dataframe tbody tr th:only-of-type {\n",
       "        vertical-align: middle;\n",
       "    }\n",
       "\n",
       "    .dataframe tbody tr th {\n",
       "        vertical-align: top;\n",
       "    }\n",
       "\n",
       "    .dataframe thead th {\n",
       "        text-align: right;\n",
       "    }\n",
       "</style>\n",
       "<table border=\"1\" class=\"dataframe\">\n",
       "  <thead>\n",
       "    <tr style=\"text-align: right;\">\n",
       "      <th></th>\n",
       "      <th>annotators</th>\n",
       "      <th>text</th>\n",
       "      <th>HATE</th>\n",
       "      <th>NOT</th>\n",
       "      <th>OFFN</th>\n",
       "      <th>PRFN</th>\n",
       "    </tr>\n",
       "  </thead>\n",
       "  <tbody>\n",
       "    <tr>\n",
       "      <th>1179055004553900032_twitter</th>\n",
       "      <td>[{'label': 'normal', 'annotator_id': 1, 'targe...</td>\n",
       "      <td>['i', 'do', 'not', 'think', 'i', 'am', 'gettin...</td>\n",
       "      <td>0</td>\n",
       "      <td>1</td>\n",
       "      <td>0</td>\n",
       "      <td>0</td>\n",
       "    </tr>\n",
       "    <tr>\n",
       "      <th>1179063826874032128_twitter</th>\n",
       "      <td>[{'label': 'normal', 'annotator_id': 1, 'targe...</td>\n",
       "      <td>['we', 'can', 'not', 'continue', 'calling', 'o...</td>\n",
       "      <td>0</td>\n",
       "      <td>1</td>\n",
       "      <td>0</td>\n",
       "      <td>1</td>\n",
       "    </tr>\n",
       "    <tr>\n",
       "      <th>1178793830532956161_twitter</th>\n",
       "      <td>[{'label': 'normal', 'annotator_id': 4, 'targe...</td>\n",
       "      <td>['nawt', 'you', 'all', 'niggers', 'ignoring', ...</td>\n",
       "      <td>1</td>\n",
       "      <td>0</td>\n",
       "      <td>0</td>\n",
       "      <td>1</td>\n",
       "    </tr>\n",
       "    <tr>\n",
       "      <th>1179088797964763136_twitter</th>\n",
       "      <td>[{'label': 'hatespeech', 'annotator_id': 1, 't...</td>\n",
       "      <td>['i', 'am', 'bit', 'confused', 'coz', 'chinese...</td>\n",
       "      <td>1</td>\n",
       "      <td>0</td>\n",
       "      <td>1</td>\n",
       "      <td>1</td>\n",
       "    </tr>\n",
       "    <tr>\n",
       "      <th>1179085312976445440_twitter</th>\n",
       "      <td>[{'label': 'hatespeech', 'annotator_id': 4, 't...</td>\n",
       "      <td>['this', 'bitch', 'in', 'whataburger', 'eating...</td>\n",
       "      <td>1</td>\n",
       "      <td>0</td>\n",
       "      <td>1</td>\n",
       "      <td>1</td>\n",
       "    </tr>\n",
       "  </tbody>\n",
       "</table>\n",
       "</div>"
      ],
      "text/plain": [
       "                                                                    annotators  \\\n",
       "1179055004553900032_twitter  [{'label': 'normal', 'annotator_id': 1, 'targe...   \n",
       "1179063826874032128_twitter  [{'label': 'normal', 'annotator_id': 1, 'targe...   \n",
       "1178793830532956161_twitter  [{'label': 'normal', 'annotator_id': 4, 'targe...   \n",
       "1179088797964763136_twitter  [{'label': 'hatespeech', 'annotator_id': 1, 't...   \n",
       "1179085312976445440_twitter  [{'label': 'hatespeech', 'annotator_id': 4, 't...   \n",
       "\n",
       "                                                                          text  \\\n",
       "1179055004553900032_twitter  ['i', 'do', 'not', 'think', 'i', 'am', 'gettin...   \n",
       "1179063826874032128_twitter  ['we', 'can', 'not', 'continue', 'calling', 'o...   \n",
       "1178793830532956161_twitter  ['nawt', 'you', 'all', 'niggers', 'ignoring', ...   \n",
       "1179088797964763136_twitter  ['i', 'am', 'bit', 'confused', 'coz', 'chinese...   \n",
       "1179085312976445440_twitter  ['this', 'bitch', 'in', 'whataburger', 'eating...   \n",
       "\n",
       "                             HATE  NOT  OFFN  PRFN  \n",
       "1179055004553900032_twitter     0    1     0     0  \n",
       "1179063826874032128_twitter     0    1     0     1  \n",
       "1178793830532956161_twitter     1    0     0     1  \n",
       "1179088797964763136_twitter     1    0     1     1  \n",
       "1179085312976445440_twitter     1    0     1     1  "
      ]
     },
     "execution_count": 592,
     "metadata": {},
     "output_type": "execute_result"
    }
   ],
   "source": [
    "dataset.head()"
   ]
  },
  {
   "cell_type": "code",
   "execution_count": 593,
   "id": "7b14e8d3",
   "metadata": {},
   "outputs": [],
   "source": [
    "import copy\n",
    "temp_dataset = copy.deepcopy(dataset)\n"
   ]
  },
  {
   "cell_type": "code",
   "execution_count": 594,
   "id": "13514819",
   "metadata": {},
   "outputs": [],
   "source": [
    "\n",
    "temp_dataset['Race'] = temp_dataset['annotators']\n",
    "temp_dataset['Religion'] = temp_dataset['annotators']\n",
    "temp_dataset['Gender'] = temp_dataset['annotators']\n",
    "temp_dataset['Other'] = temp_dataset['annotators']\n",
    "temp_dataset['None'] = temp_dataset['annotators']\n"
   ]
  },
  {
   "cell_type": "code",
   "execution_count": 595,
   "id": "e42eabf5",
   "metadata": {},
   "outputs": [],
   "source": [
    "CATEGORY_NAMES = ['Race', 'Religion', 'Gender', 'Other', 'None']\n",
    "categories = {\n",
    "    \"Race\": ['African', 'Arab', 'Caucasian', 'Asian', 'Hispanic', 'Indian'],\n",
    "    \"Religion\": ['Islam', 'Jewish', 'Christian', 'Hindu', 'Nonreligious', 'Buddhism'],\n",
    "    \"Gender\": ['Women', 'Homosexual', 'Men', 'Heterosexual', 'Bisexual', 'Asexual'],\n",
    "    \"Other\": ['Other', 'Refugee', 'Disability', 'Minority', 'Economic', 'Indigenous'],\n",
    "    \"None\": ['None']\n",
    "}\n"
   ]
  },
  {
   "cell_type": "code",
   "execution_count": 596,
   "id": "86332cb9",
   "metadata": {},
   "outputs": [],
   "source": [
    "def common_member(a, b):\n",
    "   a_set = set(a)\n",
    "   b_set = set(b)\n",
    "   if (a_set & b_set):\n",
    "       return True\n",
    "   else:\n",
    "       return False"
   ]
  },
  {
   "cell_type": "code",
   "execution_count": 597,
   "id": "d80cc1ad",
   "metadata": {},
   "outputs": [],
   "source": [
    "def check_column_for_target(annotator_one_row, column_name):\n",
    "   for category_name in CATEGORY_NAMES:\n",
    "      if category_name != column_name:\n",
    "         continue\n",
    "      for annot in annotator_one_row:\n",
    "         if common_member(annot['target'], categories[category_name]):\n",
    "            return int(1)\n",
    "   return int(0)"
   ]
  },
  {
   "cell_type": "code",
   "execution_count": 598,
   "id": "70dab24a",
   "metadata": {},
   "outputs": [],
   "source": [
    "for column_name in temp_dataset.columns[6:]:\n",
    "   temp_dataset[column_name] = temp_dataset[column_name].apply(\n",
    "       check_column_for_target, args=(column_name,)\n",
    "   )\n"
   ]
  },
  {
   "cell_type": "code",
   "execution_count": 599,
   "id": "e905ad23",
   "metadata": {},
   "outputs": [
    {
     "data": {
      "text/html": [
       "<div>\n",
       "<style scoped>\n",
       "    .dataframe tbody tr th:only-of-type {\n",
       "        vertical-align: middle;\n",
       "    }\n",
       "\n",
       "    .dataframe tbody tr th {\n",
       "        vertical-align: top;\n",
       "    }\n",
       "\n",
       "    .dataframe thead th {\n",
       "        text-align: right;\n",
       "    }\n",
       "</style>\n",
       "<table border=\"1\" class=\"dataframe\">\n",
       "  <thead>\n",
       "    <tr style=\"text-align: right;\">\n",
       "      <th></th>\n",
       "      <th>annotators</th>\n",
       "      <th>text</th>\n",
       "      <th>HATE</th>\n",
       "      <th>NOT</th>\n",
       "      <th>OFFN</th>\n",
       "      <th>PRFN</th>\n",
       "      <th>Race</th>\n",
       "      <th>Religion</th>\n",
       "      <th>Gender</th>\n",
       "      <th>Other</th>\n",
       "      <th>None</th>\n",
       "    </tr>\n",
       "  </thead>\n",
       "  <tbody>\n",
       "    <tr>\n",
       "      <th>1179055004553900032_twitter</th>\n",
       "      <td>[{'label': 'normal', 'annotator_id': 1, 'targe...</td>\n",
       "      <td>['i', 'do', 'not', 'think', 'i', 'am', 'gettin...</td>\n",
       "      <td>0</td>\n",
       "      <td>1</td>\n",
       "      <td>0</td>\n",
       "      <td>0</td>\n",
       "      <td>0</td>\n",
       "      <td>0</td>\n",
       "      <td>0</td>\n",
       "      <td>0</td>\n",
       "      <td>1</td>\n",
       "    </tr>\n",
       "    <tr>\n",
       "      <th>1179063826874032128_twitter</th>\n",
       "      <td>[{'label': 'normal', 'annotator_id': 1, 'targe...</td>\n",
       "      <td>['we', 'can', 'not', 'continue', 'calling', 'o...</td>\n",
       "      <td>0</td>\n",
       "      <td>1</td>\n",
       "      <td>0</td>\n",
       "      <td>1</td>\n",
       "      <td>0</td>\n",
       "      <td>0</td>\n",
       "      <td>0</td>\n",
       "      <td>0</td>\n",
       "      <td>1</td>\n",
       "    </tr>\n",
       "    <tr>\n",
       "      <th>1178793830532956161_twitter</th>\n",
       "      <td>[{'label': 'normal', 'annotator_id': 4, 'targe...</td>\n",
       "      <td>['nawt', 'you', 'all', 'niggers', 'ignoring', ...</td>\n",
       "      <td>1</td>\n",
       "      <td>0</td>\n",
       "      <td>0</td>\n",
       "      <td>1</td>\n",
       "      <td>1</td>\n",
       "      <td>0</td>\n",
       "      <td>0</td>\n",
       "      <td>0</td>\n",
       "      <td>1</td>\n",
       "    </tr>\n",
       "    <tr>\n",
       "      <th>1179088797964763136_twitter</th>\n",
       "      <td>[{'label': 'hatespeech', 'annotator_id': 1, 't...</td>\n",
       "      <td>['i', 'am', 'bit', 'confused', 'coz', 'chinese...</td>\n",
       "      <td>1</td>\n",
       "      <td>0</td>\n",
       "      <td>1</td>\n",
       "      <td>1</td>\n",
       "      <td>1</td>\n",
       "      <td>0</td>\n",
       "      <td>0</td>\n",
       "      <td>0</td>\n",
       "      <td>0</td>\n",
       "    </tr>\n",
       "    <tr>\n",
       "      <th>1179085312976445440_twitter</th>\n",
       "      <td>[{'label': 'hatespeech', 'annotator_id': 4, 't...</td>\n",
       "      <td>['this', 'bitch', 'in', 'whataburger', 'eating...</td>\n",
       "      <td>1</td>\n",
       "      <td>0</td>\n",
       "      <td>1</td>\n",
       "      <td>1</td>\n",
       "      <td>1</td>\n",
       "      <td>0</td>\n",
       "      <td>1</td>\n",
       "      <td>0</td>\n",
       "      <td>0</td>\n",
       "    </tr>\n",
       "  </tbody>\n",
       "</table>\n",
       "</div>"
      ],
      "text/plain": [
       "                                                                    annotators  \\\n",
       "1179055004553900032_twitter  [{'label': 'normal', 'annotator_id': 1, 'targe...   \n",
       "1179063826874032128_twitter  [{'label': 'normal', 'annotator_id': 1, 'targe...   \n",
       "1178793830532956161_twitter  [{'label': 'normal', 'annotator_id': 4, 'targe...   \n",
       "1179088797964763136_twitter  [{'label': 'hatespeech', 'annotator_id': 1, 't...   \n",
       "1179085312976445440_twitter  [{'label': 'hatespeech', 'annotator_id': 4, 't...   \n",
       "\n",
       "                                                                          text  \\\n",
       "1179055004553900032_twitter  ['i', 'do', 'not', 'think', 'i', 'am', 'gettin...   \n",
       "1179063826874032128_twitter  ['we', 'can', 'not', 'continue', 'calling', 'o...   \n",
       "1178793830532956161_twitter  ['nawt', 'you', 'all', 'niggers', 'ignoring', ...   \n",
       "1179088797964763136_twitter  ['i', 'am', 'bit', 'confused', 'coz', 'chinese...   \n",
       "1179085312976445440_twitter  ['this', 'bitch', 'in', 'whataburger', 'eating...   \n",
       "\n",
       "                             HATE  NOT  OFFN  PRFN  Race  Religion  Gender  \\\n",
       "1179055004553900032_twitter     0    1     0     0     0         0       0   \n",
       "1179063826874032128_twitter     0    1     0     1     0         0       0   \n",
       "1178793830532956161_twitter     1    0     0     1     1         0       0   \n",
       "1179088797964763136_twitter     1    0     1     1     1         0       0   \n",
       "1179085312976445440_twitter     1    0     1     1     1         0       1   \n",
       "\n",
       "                             Other  None  \n",
       "1179055004553900032_twitter      0     1  \n",
       "1179063826874032128_twitter      0     1  \n",
       "1178793830532956161_twitter      0     1  \n",
       "1179088797964763136_twitter      0     0  \n",
       "1179085312976445440_twitter      0     0  "
      ]
     },
     "execution_count": 599,
     "metadata": {},
     "output_type": "execute_result"
    }
   ],
   "source": [
    "temp_dataset.head()\n"
   ]
  },
  {
   "cell_type": "code",
   "execution_count": 600,
   "id": "b46bd91c",
   "metadata": {},
   "outputs": [
    {
     "name": "stdout",
     "output_type": "stream",
     "text": [
      "['this', 'bitch', 'in', 'whataburger', 'eating', 'a', 'burger', 'with', 'no', 'top', 'bun', 'and', 'holding', 'it', 'palm', 'up', 'i', 'hate', 'white', 'bitches']\n",
      "[{'label': 'hatespeech', 'annotator_id': 4, 'target': ['Caucasian', 'Women']}, {'label': 'hatespeech', 'annotator_id': 2, 'target': ['Women', 'Caucasian']}, {'label': 'offensive', 'annotator_id': 3, 'target': ['Women', 'Caucasian']}]\n"
     ]
    }
   ],
   "source": [
    "print(temp_dataset.iloc[4].text)\n",
    "print(temp_dataset.iloc[4].annotators)\n"
   ]
  },
  {
   "cell_type": "code",
   "execution_count": 601,
   "id": "54795cd1",
   "metadata": {},
   "outputs": [
    {
     "data": {
      "text/html": [
       "<div>\n",
       "<style scoped>\n",
       "    .dataframe tbody tr th:only-of-type {\n",
       "        vertical-align: middle;\n",
       "    }\n",
       "\n",
       "    .dataframe tbody tr th {\n",
       "        vertical-align: top;\n",
       "    }\n",
       "\n",
       "    .dataframe thead th {\n",
       "        text-align: right;\n",
       "    }\n",
       "</style>\n",
       "<table border=\"1\" class=\"dataframe\">\n",
       "  <thead>\n",
       "    <tr style=\"text-align: right;\">\n",
       "      <th></th>\n",
       "      <th>text</th>\n",
       "      <th>HATE</th>\n",
       "      <th>NOT</th>\n",
       "      <th>OFFN</th>\n",
       "      <th>PRFN</th>\n",
       "    </tr>\n",
       "  </thead>\n",
       "  <tbody>\n",
       "    <tr>\n",
       "      <th>1179055004553900032_twitter</th>\n",
       "      <td>['i', 'do', 'not', 'think', 'i', 'am', 'gettin...</td>\n",
       "      <td>0</td>\n",
       "      <td>1</td>\n",
       "      <td>0</td>\n",
       "      <td>0</td>\n",
       "    </tr>\n",
       "    <tr>\n",
       "      <th>1179063826874032128_twitter</th>\n",
       "      <td>['we', 'can', 'not', 'continue', 'calling', 'o...</td>\n",
       "      <td>0</td>\n",
       "      <td>1</td>\n",
       "      <td>0</td>\n",
       "      <td>1</td>\n",
       "    </tr>\n",
       "    <tr>\n",
       "      <th>1178793830532956161_twitter</th>\n",
       "      <td>['nawt', 'you', 'all', 'niggers', 'ignoring', ...</td>\n",
       "      <td>1</td>\n",
       "      <td>0</td>\n",
       "      <td>0</td>\n",
       "      <td>1</td>\n",
       "    </tr>\n",
       "    <tr>\n",
       "      <th>1179088797964763136_twitter</th>\n",
       "      <td>['i', 'am', 'bit', 'confused', 'coz', 'chinese...</td>\n",
       "      <td>1</td>\n",
       "      <td>0</td>\n",
       "      <td>1</td>\n",
       "      <td>1</td>\n",
       "    </tr>\n",
       "    <tr>\n",
       "      <th>1179085312976445440_twitter</th>\n",
       "      <td>['this', 'bitch', 'in', 'whataburger', 'eating...</td>\n",
       "      <td>1</td>\n",
       "      <td>0</td>\n",
       "      <td>1</td>\n",
       "      <td>1</td>\n",
       "    </tr>\n",
       "  </tbody>\n",
       "</table>\n",
       "</div>"
      ],
      "text/plain": [
       "                                                                          text  \\\n",
       "1179055004553900032_twitter  ['i', 'do', 'not', 'think', 'i', 'am', 'gettin...   \n",
       "1179063826874032128_twitter  ['we', 'can', 'not', 'continue', 'calling', 'o...   \n",
       "1178793830532956161_twitter  ['nawt', 'you', 'all', 'niggers', 'ignoring', ...   \n",
       "1179088797964763136_twitter  ['i', 'am', 'bit', 'confused', 'coz', 'chinese...   \n",
       "1179085312976445440_twitter  ['this', 'bitch', 'in', 'whataburger', 'eating...   \n",
       "\n",
       "                             HATE  NOT  OFFN  PRFN  \n",
       "1179055004553900032_twitter     0    1     0     0  \n",
       "1179063826874032128_twitter     0    1     0     1  \n",
       "1178793830532956161_twitter     1    0     0     1  \n",
       "1179088797964763136_twitter     1    0     1     1  \n",
       "1179085312976445440_twitter     1    0     1     1  "
      ]
     },
     "execution_count": 601,
     "metadata": {},
     "output_type": "execute_result"
    }
   ],
   "source": [
    "dataset.drop([\"annotators\"], axis=1, inplace=True)\n",
    "dataset.head()"
   ]
  },
  {
   "cell_type": "code",
   "execution_count": 604,
   "id": "a3ab9664",
   "metadata": {},
   "outputs": [],
   "source": [
    "dataset.to_csv('../res/dataset-final.csv', index=False)"
   ]
  }
 ],
 "metadata": {
  "kernelspec": {
   "display_name": "Python 3 (ipykernel)",
   "language": "python",
   "name": "python3"
  },
  "language_info": {
   "codemirror_mode": {
    "name": "ipython",
    "version": 3
   },
   "file_extension": ".py",
   "mimetype": "text/x-python",
   "name": "python",
   "nbconvert_exporter": "python",
   "pygments_lexer": "ipython3",
   "version": "3.9.12"
  }
 },
 "nbformat": 4,
 "nbformat_minor": 5
}

{
 "cells": [
  {
   "cell_type": "code",
   "execution_count": 24,
   "metadata": {},
   "outputs": [],
   "source": [
    "import pandas as pd\n",
    "# Model\n",
    "from sklearn import svm\n",
    "from sklearn.feature_extraction.text import TfidfVectorizer\n",
    "from sklearn.metrics import accuracy_score\n",
    "from sklearn.multiclass import OneVsRestClassifier\n",
    "from skmultilearn.problem_transform import BinaryRelevance\n",
    "from sklearn.multiclass import OneVsRestClassifier\n",
    "from skmultilearn.problem_transform import ClassifierChain\n",
    "from skmultilearn.problem_transform import LabelPowerset\n",
    "# Pipeline\n",
    "from sklearn.pipeline import make_pipeline\n",
    "from joblib import dump"
   ]
  },
  {
   "cell_type": "code",
   "execution_count": 25,
   "metadata": {},
   "outputs": [],
   "source": [
    "out_directory = \"../out/final/\""
   ]
  },
  {
   "cell_type": "markdown",
   "metadata": {},
   "source": [
    "<h2>Organize Data</h2>"
   ]
  },
  {
   "cell_type": "code",
   "execution_count": 26,
   "metadata": {},
   "outputs": [
    {
     "data": {
      "text/html": [
       "<div>\n",
       "<style scoped>\n",
       "    .dataframe tbody tr th:only-of-type {\n",
       "        vertical-align: middle;\n",
       "    }\n",
       "\n",
       "    .dataframe tbody tr th {\n",
       "        vertical-align: top;\n",
       "    }\n",
       "\n",
       "    .dataframe thead th {\n",
       "        text-align: right;\n",
       "    }\n",
       "</style>\n",
       "<table border=\"1\" class=\"dataframe\">\n",
       "  <thead>\n",
       "    <tr style=\"text-align: right;\">\n",
       "      <th></th>\n",
       "      <th>text</th>\n",
       "      <th>HATE</th>\n",
       "      <th>NOT</th>\n",
       "      <th>OFFN</th>\n",
       "      <th>PRFN</th>\n",
       "      <th>Race</th>\n",
       "      <th>Religion</th>\n",
       "      <th>Gender</th>\n",
       "      <th>Other</th>\n",
       "      <th>None</th>\n",
       "    </tr>\n",
       "  </thead>\n",
       "  <tbody>\n",
       "    <tr>\n",
       "      <th>0</th>\n",
       "      <td>you just do not get it next time you are relyi...</td>\n",
       "      <td>0</td>\n",
       "      <td>0</td>\n",
       "      <td>1</td>\n",
       "      <td>1</td>\n",
       "      <td>0</td>\n",
       "      <td>0</td>\n",
       "      <td>0</td>\n",
       "      <td>1</td>\n",
       "      <td>0</td>\n",
       "    </tr>\n",
       "    <tr>\n",
       "      <th>1</th>\n",
       "      <td>it takes a certain kind of stupid to believe s...</td>\n",
       "      <td>0</td>\n",
       "      <td>1</td>\n",
       "      <td>0</td>\n",
       "      <td>1</td>\n",
       "      <td>0</td>\n",
       "      <td>0</td>\n",
       "      <td>1</td>\n",
       "      <td>0</td>\n",
       "      <td>0</td>\n",
       "    </tr>\n",
       "    <tr>\n",
       "      <th>2</th>\n",
       "      <td>the looney left liberal sjw cuck a sad delusio...</td>\n",
       "      <td>1</td>\n",
       "      <td>0</td>\n",
       "      <td>0</td>\n",
       "      <td>1</td>\n",
       "      <td>0</td>\n",
       "      <td>0</td>\n",
       "      <td>0</td>\n",
       "      <td>1</td>\n",
       "      <td>0</td>\n",
       "    </tr>\n",
       "    <tr>\n",
       "      <th>3</th>\n",
       "      <td>blacks are only of the yous population therefo...</td>\n",
       "      <td>0</td>\n",
       "      <td>0</td>\n",
       "      <td>1</td>\n",
       "      <td>0</td>\n",
       "      <td>1</td>\n",
       "      <td>0</td>\n",
       "      <td>0</td>\n",
       "      <td>0</td>\n",
       "      <td>0</td>\n",
       "    </tr>\n",
       "    <tr>\n",
       "      <th>4</th>\n",
       "      <td>its the islamic signal they are ready and will...</td>\n",
       "      <td>1</td>\n",
       "      <td>0</td>\n",
       "      <td>0</td>\n",
       "      <td>1</td>\n",
       "      <td>0</td>\n",
       "      <td>1</td>\n",
       "      <td>0</td>\n",
       "      <td>0</td>\n",
       "      <td>0</td>\n",
       "    </tr>\n",
       "  </tbody>\n",
       "</table>\n",
       "</div>"
      ],
      "text/plain": [
       "                                                text  HATE  NOT  OFFN  PRFN  \\\n",
       "0  you just do not get it next time you are relyi...     0    0     1     1   \n",
       "1  it takes a certain kind of stupid to believe s...     0    1     0     1   \n",
       "2  the looney left liberal sjw cuck a sad delusio...     1    0     0     1   \n",
       "3  blacks are only of the yous population therefo...     0    0     1     0   \n",
       "4  its the islamic signal they are ready and will...     1    0     0     1   \n",
       "\n",
       "   Race  Religion  Gender  Other  None  \n",
       "0     0         0       0      1     0  \n",
       "1     0         0       1      0     0  \n",
       "2     0         0       0      1     0  \n",
       "3     1         0       0      0     0  \n",
       "4     0         1       0      0     0  "
      ]
     },
     "execution_count": 26,
     "metadata": {},
     "output_type": "execute_result"
    }
   ],
   "source": [
    "# Read data\n",
    "# df = pd.read_csv(\"../res/dataset-final.csv\")\n",
    "\n",
    "train_df = pd.read_csv(\"../res/train_final.csv\")\n",
    "val_df = pd.read_csv(\"../res/val_final.csv\")\n",
    "test_df = pd.read_csv(\"../res/test_final.csv\")\n",
    "train_df.head()"
   ]
  },
  {
   "cell_type": "code",
   "execution_count": 27,
   "metadata": {},
   "outputs": [],
   "source": [
    "# # Organize targets\n",
    "# # Get target columns\n",
    "# headers = train_df.columns[1:]\n",
    "# # Create separate df for targets\n",
    "# y_train = train_df[headers]\n",
    "# y_val = val_df[headers]\n",
    "# y_test = test_df[headers]"
   ]
  },
  {
   "cell_type": "code",
   "execution_count": 28,
   "metadata": {},
   "outputs": [
    {
     "name": "stdout",
     "output_type": "stream",
     "text": [
      "subtask 1 and 2 headers:\n",
      "Index(['HATE', 'NOT', 'OFFN', 'PRFN'], dtype='object')\n",
      "subtask 3 headers:\n",
      "Index(['Race', 'Religion', 'Gender', 'Other', 'None'], dtype='object')\n"
     ]
    }
   ],
   "source": [
    "# Organize targets\n",
    "# Get target columns\n",
    "t1a2_headers = train_df.columns[1:5]\n",
    "print(\"subtask 1 and 2 headers:\")\n",
    "print(t1a2_headers)\n",
    "t3_headers = train_df.columns[5:]\n",
    "print(\"subtask 3 headers:\")\n",
    "print(t3_headers)"
   ]
  },
  {
   "cell_type": "code",
   "execution_count": 29,
   "metadata": {},
   "outputs": [],
   "source": [
    "# Make subtask 1 treat its labels as mutually exclusive by converting one hot encoded\n",
    "# HATE NOT OFFN into one column\n",
    "def det_class(vals):\n",
    "    if vals[0] == 1:\n",
    "        return \"HATE\"\n",
    "    elif vals[1] == 1:\n",
    "        return \"NOT\"\n",
    "    else:\n",
    "        return \"OFFN\"\n",
    "train_df[\"subtask1\"] = train_df.apply(lambda e: det_class([e[1],e[2],e[3]]), axis = 1)\n",
    "val_df[\"subtask1\"] = val_df.apply(lambda e: det_class([e[1],e[2],e[3]]), axis = 1)\n",
    "test_df[\"subtask1\"] = test_df.apply(lambda e: det_class([e[1],e[2],e[3]]), axis = 1)\n"
   ]
  },
  {
   "cell_type": "markdown",
   "metadata": {},
   "source": [
    "<h2>Model Creation</h2>"
   ]
  },
  {
   "cell_type": "markdown",
   "metadata": {},
   "source": [
    "<h4> Subtask 1 - OVR wrapper </h4>"
   ]
  },
  {
   "cell_type": "code",
   "execution_count": 30,
   "metadata": {},
   "outputs": [],
   "source": [
    "# Set number of samples to train with\n",
    "# train_df = train_df.iloc[:500]"
   ]
  },
  {
   "cell_type": "code",
   "execution_count": 31,
   "metadata": {},
   "outputs": [
    {
     "data": {
      "text/html": [
       "<div>\n",
       "<style scoped>\n",
       "    .dataframe tbody tr th:only-of-type {\n",
       "        vertical-align: middle;\n",
       "    }\n",
       "\n",
       "    .dataframe tbody tr th {\n",
       "        vertical-align: top;\n",
       "    }\n",
       "\n",
       "    .dataframe thead th {\n",
       "        text-align: right;\n",
       "    }\n",
       "</style>\n",
       "<table border=\"1\" class=\"dataframe\">\n",
       "  <thead>\n",
       "    <tr style=\"text-align: right;\">\n",
       "      <th></th>\n",
       "      <th>text</th>\n",
       "      <th>HATE</th>\n",
       "      <th>NOT</th>\n",
       "      <th>OFFN</th>\n",
       "      <th>PRFN</th>\n",
       "      <th>Race</th>\n",
       "      <th>Religion</th>\n",
       "      <th>Gender</th>\n",
       "      <th>Other</th>\n",
       "      <th>None</th>\n",
       "      <th>subtask1</th>\n",
       "    </tr>\n",
       "  </thead>\n",
       "  <tbody>\n",
       "    <tr>\n",
       "      <th>0</th>\n",
       "      <td>you just do not get it next time you are relyi...</td>\n",
       "      <td>0</td>\n",
       "      <td>0</td>\n",
       "      <td>1</td>\n",
       "      <td>1</td>\n",
       "      <td>0</td>\n",
       "      <td>0</td>\n",
       "      <td>0</td>\n",
       "      <td>1</td>\n",
       "      <td>0</td>\n",
       "      <td>OFFN</td>\n",
       "    </tr>\n",
       "    <tr>\n",
       "      <th>1</th>\n",
       "      <td>it takes a certain kind of stupid to believe s...</td>\n",
       "      <td>0</td>\n",
       "      <td>1</td>\n",
       "      <td>0</td>\n",
       "      <td>1</td>\n",
       "      <td>0</td>\n",
       "      <td>0</td>\n",
       "      <td>1</td>\n",
       "      <td>0</td>\n",
       "      <td>0</td>\n",
       "      <td>NOT</td>\n",
       "    </tr>\n",
       "    <tr>\n",
       "      <th>2</th>\n",
       "      <td>the looney left liberal sjw cuck a sad delusio...</td>\n",
       "      <td>1</td>\n",
       "      <td>0</td>\n",
       "      <td>0</td>\n",
       "      <td>1</td>\n",
       "      <td>0</td>\n",
       "      <td>0</td>\n",
       "      <td>0</td>\n",
       "      <td>1</td>\n",
       "      <td>0</td>\n",
       "      <td>HATE</td>\n",
       "    </tr>\n",
       "    <tr>\n",
       "      <th>3</th>\n",
       "      <td>blacks are only of the yous population therefo...</td>\n",
       "      <td>0</td>\n",
       "      <td>0</td>\n",
       "      <td>1</td>\n",
       "      <td>0</td>\n",
       "      <td>1</td>\n",
       "      <td>0</td>\n",
       "      <td>0</td>\n",
       "      <td>0</td>\n",
       "      <td>0</td>\n",
       "      <td>OFFN</td>\n",
       "    </tr>\n",
       "    <tr>\n",
       "      <th>4</th>\n",
       "      <td>its the islamic signal they are ready and will...</td>\n",
       "      <td>1</td>\n",
       "      <td>0</td>\n",
       "      <td>0</td>\n",
       "      <td>1</td>\n",
       "      <td>0</td>\n",
       "      <td>1</td>\n",
       "      <td>0</td>\n",
       "      <td>0</td>\n",
       "      <td>0</td>\n",
       "      <td>HATE</td>\n",
       "    </tr>\n",
       "  </tbody>\n",
       "</table>\n",
       "</div>"
      ],
      "text/plain": [
       "                                                text  HATE  NOT  OFFN  PRFN  \\\n",
       "0  you just do not get it next time you are relyi...     0    0     1     1   \n",
       "1  it takes a certain kind of stupid to believe s...     0    1     0     1   \n",
       "2  the looney left liberal sjw cuck a sad delusio...     1    0     0     1   \n",
       "3  blacks are only of the yous population therefo...     0    0     1     0   \n",
       "4  its the islamic signal they are ready and will...     1    0     0     1   \n",
       "\n",
       "   Race  Religion  Gender  Other  None subtask1  \n",
       "0     0         0       0      1     0     OFFN  \n",
       "1     0         0       1      0     0      NOT  \n",
       "2     0         0       0      1     0     HATE  \n",
       "3     1         0       0      0     0     OFFN  \n",
       "4     0         1       0      0     0     HATE  "
      ]
     },
     "execution_count": 31,
     "metadata": {},
     "output_type": "execute_result"
    }
   ],
   "source": [
    "train_df.head()"
   ]
  },
  {
   "cell_type": "code",
   "execution_count": 32,
   "metadata": {},
   "outputs": [
    {
     "data": {
      "text/plain": [
       "Index(['HATE', 'NOT', 'OFFN'], dtype='object')"
      ]
     },
     "execution_count": 32,
     "metadata": {},
     "output_type": "execute_result"
    }
   ],
   "source": [
    "t1_headers = t1a2_headers[:-1]\n",
    "t1_headers"
   ]
  },
  {
   "cell_type": "code",
   "execution_count": 33,
   "metadata": {},
   "outputs": [],
   "source": [
    "# Instantiate Classifier\n",
    "ovr_classifier = make_pipeline(\n",
    "    TfidfVectorizer(),\n",
    "    OneVsRestClassifier(svm.SVC(kernel='linear', probability=True))\n",
    ")"
   ]
  },
  {
   "cell_type": "code",
   "execution_count": 34,
   "metadata": {},
   "outputs": [
    {
     "data": {
      "text/plain": [
       "Pipeline(steps=[('tfidfvectorizer', TfidfVectorizer()),\n",
       "                ('onevsrestclassifier',\n",
       "                 OneVsRestClassifier(estimator=SVC(kernel='linear',\n",
       "                                                   probability=True)))])"
      ]
     },
     "execution_count": 34,
     "metadata": {},
     "output_type": "execute_result"
    }
   ],
   "source": [
    "t1_classifier = ovr_classifier.fit(X=train_df[\"text\"], y=train_df[\"subtask1\"])\n",
    "t1_classifier"
   ]
  },
  {
   "cell_type": "code",
   "execution_count": 35,
   "metadata": {},
   "outputs": [
    {
     "name": "stdout",
     "output_type": "stream",
     "text": [
      "SVM subtask 1 Accuracy Score ->  0.6568457538994801\n"
     ]
    }
   ],
   "source": [
    "predictions_t1 = t1_classifier.predict(test_df[\"text\"])\n",
    "t1_score = accuracy_score(predictions_t1, test_df[\"subtask1\"])\n",
    "print(\"SVM subtask 1 Accuracy Score -> \",t1_score)"
   ]
  },
  {
   "cell_type": "markdown",
   "metadata": {},
   "source": [
    "<h5>Export Model</h5>"
   ]
  },
  {
   "cell_type": "code",
   "execution_count": 36,
   "metadata": {},
   "outputs": [
    {
     "data": {
      "text/plain": [
       "['../out/final/t1_classifier.joblib.z']"
      ]
     },
     "execution_count": 36,
     "metadata": {},
     "output_type": "execute_result"
    }
   ],
   "source": [
    "filename = \"t1_classifier.joblib.z\"\n",
    "path = out_directory + filename\n",
    "dump(t1_classifier, path)"
   ]
  },
  {
   "cell_type": "markdown",
   "metadata": {},
   "source": [
    "<h5>Tests</h5>"
   ]
  },
  {
   "cell_type": "code",
   "execution_count": 37,
   "metadata": {},
   "outputs": [
    {
     "name": "stdout",
     "output_type": "stream",
     "text": [
      "INPUT: Girl bitches should just kill themselves if they don't know how to cook\n",
      "  HATE: 9.659057556831858\n",
      "  NOT: 27.75550812281356\n",
      "  OFFN: 62.585434320354594\n",
      "PREDICTION: OFFN\n",
      "\n",
      "INPUT: gay people are mentally ill\n",
      "  HATE: 23.230039581585302\n",
      "  NOT: 64.1930241444039\n",
      "  OFFN: 12.576936274010775\n",
      "PREDICTION: NOT\n",
      "\n",
      "INPUT: Islam people are all terrorists\n",
      "  HATE: 42.562990436538975\n",
      "  NOT: 23.037367294286398\n",
      "  OFFN: 34.39964226917462\n",
      "PREDICTION: HATE\n",
      "\n",
      "INPUT: Asians should just go back to their country, all they do is take our jobs\n",
      "  HATE: 40.457485013275026\n",
      "  NOT: 39.42592795898445\n",
      "  OFFN: 20.116587027740525\n",
      "PREDICTION: HATE\n",
      "\n",
      "INPUT: If you want to make the world a better place, look at yourself and make a change\n",
      "  HATE: 9.954450796350864\n",
      "  NOT: 59.35407761532565\n",
      "  OFFN: 30.69147158832348\n",
      "PREDICTION: NOT\n",
      "\n"
     ]
    }
   ],
   "source": [
    "text1 = \"Girl bitches should just kill themselves if they don't know how to cook\"\n",
    "text2 = \"gay people are mentally ill\"\n",
    "text3 = \"Islam people are all terrorists\"\n",
    "text4 = \"Asians should just go back to their country, all they do is take our jobs\"\n",
    "text5 = \"If you want to make the world a better place, look at yourself and make a change\"\n",
    "sample_texts = [text1, text2, text3, text4, text5]\n",
    "\n",
    "for text in sample_texts:\n",
    "    arr = [text]\n",
    "    classes = t1_classifier.classes_\n",
    "    proba = t1_classifier.predict_proba(arr)[0]\n",
    "    pred = t1_classifier.predict(arr)[0]\n",
    "\n",
    "    headers = t1_headers\n",
    "\n",
    "    print(f'INPUT: {text}')\n",
    "    for i,e in enumerate(classes):\n",
    "        print(f'  {headers[i]}: {proba[i]*100}')\n",
    "    print(f'PREDICTION: {pred}\\n')"
   ]
  },
  {
   "cell_type": "code",
   "execution_count": 38,
   "metadata": {},
   "outputs": [
    {
     "ename": "SyntaxError",
     "evalue": "invalid syntax (3530142609.py, line 1)",
     "output_type": "error",
     "traceback": [
      "\u001b[1;36m  Input \u001b[1;32mIn [38]\u001b[1;36m\u001b[0m\n\u001b[1;33m    sdglksgklsjag stop here\u001b[0m\n\u001b[1;37m                  ^\u001b[0m\n\u001b[1;31mSyntaxError\u001b[0m\u001b[1;31m:\u001b[0m invalid syntax\n"
     ]
    }
   ],
   "source": [
    "sdglksgklsjag stop here "
   ]
  },
  {
   "cell_type": "markdown",
   "metadata": {},
   "source": [
    "<h4>Subtask 2</h4>"
   ]
  },
  {
   "cell_type": "code",
   "execution_count": null,
   "metadata": {},
   "outputs": [],
   "source": [
    "t2_headers = [\"PRFN\"]"
   ]
  },
  {
   "cell_type": "code",
   "execution_count": null,
   "metadata": {},
   "outputs": [],
   "source": [
    "# Instantiate Classifier\n",
    "ovr_classifier = make_pipeline(\n",
    "    TfidfVectorizer(),\n",
    "    svm.SVC(kernel='linear', probability=True)\n",
    ")"
   ]
  },
  {
   "cell_type": "code",
   "execution_count": null,
   "metadata": {},
   "outputs": [
    {
     "name": "stderr",
     "output_type": "stream",
     "text": [
      "C:\\Users\\bayquen\\AppData\\Local\\Programs\\Python\\Python310\\lib\\site-packages\\sklearn\\utils\\validation.py:993: DataConversionWarning: A column-vector y was passed when a 1d array was expected. Please change the shape of y to (n_samples, ), for example using ravel().\n",
      "  y = column_or_1d(y, warn=True)\n"
     ]
    },
    {
     "data": {
      "text/plain": [
       "Pipeline(steps=[('tfidfvectorizer', TfidfVectorizer()),\n",
       "                ('svc', SVC(kernel='linear', probability=True))])"
      ]
     },
     "execution_count": 15,
     "metadata": {},
     "output_type": "execute_result"
    }
   ],
   "source": [
    "t2_classifier = ovr_classifier.fit(X=train_df[\"text\"], y=train_df[t2_headers])\n",
    "t2_classifier"
   ]
  },
  {
   "cell_type": "code",
   "execution_count": null,
   "metadata": {},
   "outputs": [
    {
     "name": "stdout",
     "output_type": "stream",
     "text": [
      "SVM subtask 2 Accuracy Score ->  0.8918544194107453\n"
     ]
    }
   ],
   "source": [
    "predictions_t2 = t2_classifier.predict(test_df[\"text\"])\n",
    "t2_score = accuracy_score(predictions_t2, test_df[t2_headers])\n",
    "print(\"SVM subtask 2 Accuracy Score -> \",t2_score)"
   ]
  },
  {
   "cell_type": "markdown",
   "metadata": {},
   "source": [
    "<h5>Export Model</h5>"
   ]
  },
  {
   "cell_type": "code",
   "execution_count": null,
   "metadata": {},
   "outputs": [
    {
     "data": {
      "text/plain": [
       "['../out/final/t2_classifier.joblib.z']"
      ]
     },
     "execution_count": 17,
     "metadata": {},
     "output_type": "execute_result"
    }
   ],
   "source": [
    "filename = \"t2_classifier.joblib.z\"\n",
    "path = out_directory + filename\n",
    "dump(t1_classifier, path)"
   ]
  },
  {
   "cell_type": "markdown",
   "metadata": {},
   "source": [
    "<h5>Tests</h5>"
   ]
  },
  {
   "cell_type": "code",
   "execution_count": null,
   "metadata": {},
   "outputs": [
    {
     "name": "stdout",
     "output_type": "stream",
     "text": [
      "INPUT: Girl bitches should just kill themselves if they don't know how to cook\n",
      "  0: 1.3704278319750957e-10\n",
      "  1: 99.99999999986295\n",
      "PREDICTION: 1\n",
      "\n",
      "INPUT: gay people are mentally ill\n",
      "  0: 8.713404416906598e-05\n",
      "  1: 99.99991286595582\n",
      "PREDICTION: 1\n",
      "\n",
      "INPUT: Islam people are all terrorists\n",
      "  0: 79.63866943409144\n",
      "  1: 20.361330565908574\n",
      "PREDICTION: 0\n",
      "\n",
      "INPUT: Asians should just go back to their country, all they do is take our jobs\n",
      "  0: 2.3670969395954167\n",
      "  1: 97.63290306040456\n",
      "PREDICTION: 1\n",
      "\n",
      "INPUT: If you want to make the world a better place, look at yourself and make a change\n",
      "  0: 89.72826370030427\n",
      "  1: 10.27173629969573\n",
      "PREDICTION: 0\n",
      "\n"
     ]
    }
   ],
   "source": [
    "text1 = \"Girl bitches should just kill themselves if they don't know how to cook\"\n",
    "text2 = \"gay people are mentally ill\"\n",
    "text3 = \"Islam people are all terrorists\"\n",
    "text4 = \"Asians should just go back to their country, all they do is take our jobs\"\n",
    "text5 = \"If you want to make the world a better place, look at yourself and make a change\"\n",
    "sample_texts = [text1, text2, text3, text4, text5]\n",
    "\n",
    "for text in sample_texts:\n",
    "    arr = [text]\n",
    "    classes = t2_classifier.classes_\n",
    "    proba = t2_classifier.predict_proba(arr)[0]\n",
    "    pred = t2_classifier.predict(arr)[0]\n",
    "\n",
    "    headers = classes\n",
    "\n",
    "    print(f'INPUT: {text}')\n",
    "    for i,e in enumerate(classes):\n",
    "        print(f'  {headers[i]}: {proba[i]*100}')\n",
    "    print(f'PREDICTION: {pred}\\n')"
   ]
  },
  {
   "cell_type": "markdown",
   "metadata": {},
   "source": [
    "<h4>Subtask 3 - One VS Rest</h4>"
   ]
  },
  {
   "cell_type": "code",
   "execution_count": null,
   "metadata": {},
   "outputs": [],
   "source": [
    "# Instantiate Classifier\n",
    "ovr_classifier = make_pipeline(\n",
    "    TfidfVectorizer(),\n",
    "    OneVsRestClassifier(svm.SVC(kernel='linear', probability=True))\n",
    ")"
   ]
  },
  {
   "cell_type": "code",
   "execution_count": null,
   "metadata": {},
   "outputs": [
    {
     "data": {
      "text/plain": [
       "Pipeline(steps=[('tfidfvectorizer', TfidfVectorizer()),\n",
       "                ('onevsrestclassifier',\n",
       "                 OneVsRestClassifier(estimator=SVC(kernel='linear',\n",
       "                                                   probability=True)))])"
      ]
     },
     "execution_count": 20,
     "metadata": {},
     "output_type": "execute_result"
    }
   ],
   "source": [
    "t3_classifier = ovr_classifier.fit(X=train_df[\"text\"], y=train_df[t3_headers])\n",
    "t3_classifier"
   ]
  },
  {
   "cell_type": "code",
   "execution_count": null,
   "metadata": {},
   "outputs": [
    {
     "name": "stdout",
     "output_type": "stream",
     "text": [
      "SVM subtask 1 and 2 Accuracy Score ->  0.549740034662045\n"
     ]
    }
   ],
   "source": [
    "predictions_t3 = t3_classifier.predict(test_df[\"text\"])\n",
    "t3_score = accuracy_score(predictions_t3, test_df[t3_headers])\n",
    "print(\"SVM subtask 1 and 2 Accuracy Score -> \",t3_score)"
   ]
  },
  {
   "cell_type": "markdown",
   "metadata": {},
   "source": [
    "<h5>Export Model</h5>"
   ]
  },
  {
   "cell_type": "code",
   "execution_count": null,
   "metadata": {},
   "outputs": [
    {
     "data": {
      "text/plain": [
       "['../out/final/t3ovr_classifier.joblib.z']"
      ]
     },
     "execution_count": 22,
     "metadata": {},
     "output_type": "execute_result"
    }
   ],
   "source": [
    "filename = \"t3ovr_classifier.joblib.z\"\n",
    "path = out_directory + filename\n",
    "dump(t3_classifier, path)"
   ]
  },
  {
   "cell_type": "markdown",
   "metadata": {},
   "source": [
    "<h5>Tests</h5>"
   ]
  },
  {
   "cell_type": "code",
   "execution_count": null,
   "metadata": {},
   "outputs": [
    {
     "name": "stdout",
     "output_type": "stream",
     "text": [
      "INPUT: Girl bitches should just kill themselves if they don't know how to cook\n",
      "  Race: 11.75379719431163\n",
      "  Religion: 6.421644202373381\n",
      "  Gender: 67.27895515428628\n",
      "  Other: 1.6924467656948243\n",
      "  None: 9.065448674904832\n",
      "PREDICTION: [0 0 1 0 0]\n",
      "\n",
      "INPUT: gay people are mentally ill\n",
      "  Race: 1.6919530235211915\n",
      "  Religion: 0.67731452007853\n",
      "  Gender: 97.82626125983933\n",
      "  Other: 4.435847976874744\n",
      "  None: 12.679742290302098\n",
      "PREDICTION: [0 0 1 0 0]\n",
      "\n",
      "INPUT: Islam people are all terrorists\n",
      "  Race: 1.7058264285510345\n",
      "  Religion: 99.9999759092002\n",
      "  Gender: 0.5097839942267998\n",
      "  Other: 4.144152075635503\n",
      "  None: 4.558307230786959\n",
      "PREDICTION: [0 1 0 0 0]\n",
      "\n",
      "INPUT: Asians should just go back to their country, all they do is take our jobs\n",
      "  Race: 86.50984729448147\n",
      "  Religion: 5.194768774555001\n",
      "  Gender: 23.13596108545355\n",
      "  Other: 14.664750291608827\n",
      "  None: 4.849081292194469\n",
      "PREDICTION: [1 0 0 0 0]\n",
      "\n",
      "INPUT: If you want to make the world a better place, look at yourself and make a change\n",
      "  Race: 7.572798455385815\n",
      "  Religion: 2.525814553480461\n",
      "  Gender: 7.951401401349677\n",
      "  Other: 5.994605966796353\n",
      "  None: 62.88168750594362\n",
      "PREDICTION: [0 0 0 0 1]\n",
      "\n"
     ]
    }
   ],
   "source": [
    "text1 = \"Girl bitches should just kill themselves if they don't know how to cook\"\n",
    "text2 = \"gay people are mentally ill\"\n",
    "text3 = \"Islam people are all terrorists\"\n",
    "text4 = \"Asians should just go back to their country, all they do is take our jobs\"\n",
    "text5 = \"If you want to make the world a better place, look at yourself and make a change\"\n",
    "sample_texts = [text1, text2, text3, text4, text5]\n",
    "\n",
    "for text in sample_texts:\n",
    "    arr = [text]\n",
    "    classes = t3_classifier.classes_\n",
    "    proba = t3_classifier.predict_proba(arr)[0]\n",
    "    pred = t3_classifier.predict(arr)[0]\n",
    "\n",
    "    headers = t3_headers\n",
    "\n",
    "    print(f'INPUT: {text}')\n",
    "    for i,e in enumerate(classes):\n",
    "        print(f'  {headers[i]}: {proba[i]*100}')\n",
    "    print(f'PREDICTION: {pred}\\n')"
   ]
  },
  {
   "cell_type": "markdown",
   "metadata": {},
   "source": [
    "<h4>Subtask 3 - Binary Classifier</h4>"
   ]
  },
  {
   "cell_type": "code",
   "execution_count": null,
   "metadata": {},
   "outputs": [],
   "source": [
    "# Instantiate Classifier\n",
    "ovr_classifier = make_pipeline(\n",
    "    TfidfVectorizer(),\n",
    "    BinaryRelevance(svm.SVC(kernel='linear', probability=True))\n",
    ")"
   ]
  },
  {
   "cell_type": "code",
   "execution_count": null,
   "metadata": {},
   "outputs": [
    {
     "data": {
      "text/plain": [
       "Pipeline(steps=[('tfidfvectorizer', TfidfVectorizer()),\n",
       "                ('binaryrelevance',\n",
       "                 BinaryRelevance(classifier=SVC(kernel='linear',\n",
       "                                                probability=True),\n",
       "                                 require_dense=[True, True]))])"
      ]
     },
     "execution_count": 25,
     "metadata": {},
     "output_type": "execute_result"
    }
   ],
   "source": [
    "t3bc_classifier = ovr_classifier.fit(X=train_df[\"text\"], y=train_df[t3_headers])\n",
    "t3bc_classifier"
   ]
  },
  {
   "cell_type": "code",
   "execution_count": null,
   "metadata": {},
   "outputs": [
    {
     "name": "stdout",
     "output_type": "stream",
     "text": [
      "SVM subtask 3 BC Accuracy Score ->  0.549740034662045\n"
     ]
    }
   ],
   "source": [
    "predictions_t3bc = t3bc_classifier.predict(test_df[\"text\"])\n",
    "t3bc_score = accuracy_score(predictions_t3bc, test_df[t3_headers])\n",
    "print(\"SVM subtask 3 BC Accuracy Score -> \",t3bc_score)"
   ]
  },
  {
   "cell_type": "markdown",
   "metadata": {},
   "source": [
    "<h5>Export Model</h5>"
   ]
  },
  {
   "cell_type": "code",
   "execution_count": null,
   "metadata": {},
   "outputs": [
    {
     "data": {
      "text/plain": [
       "['../out/final/t3bc_classifier.joblib.z']"
      ]
     },
     "execution_count": 27,
     "metadata": {},
     "output_type": "execute_result"
    }
   ],
   "source": [
    "filename = \"t3bc_classifier.joblib.z\"\n",
    "path = out_directory + filename\n",
    "dump(t3bc_classifier, path)"
   ]
  },
  {
   "cell_type": "markdown",
   "metadata": {},
   "source": [
    "<h5>Tests</h5>"
   ]
  },
  {
   "cell_type": "code",
   "execution_count": null,
   "metadata": {},
   "outputs": [
    {
     "name": "stdout",
     "output_type": "stream",
     "text": [
      "INPUT: Girl bitches should just kill themselves if they don't know how to cook\n",
      "  Race: 11.676843658330045\n",
      "  Religion: 6.4020767269985654\n",
      "  Gender: 67.24992593486961\n",
      "  Other: 1.6447626732104272\n",
      "  None: 9.017671816443542\n",
      "PREDICTION: [0 0 1 0 0]\n",
      "\n",
      "INPUT: gay people are mentally ill\n",
      "  Race: 1.7016277251102447\n",
      "  Religion: 0.6717252294114877\n",
      "  Gender: 97.79678450863238\n",
      "  Other: 4.369544893128461\n",
      "  None: 12.626230438482919\n",
      "PREDICTION: [0 0 1 0 0]\n",
      "\n",
      "INPUT: Islam people are all terrorists\n",
      "  Race: 1.715490638313218\n",
      "  Religion: 99.9999768678945\n",
      "  Gender: 0.5215949327349715\n",
      "  Other: 4.078265332744945\n",
      "  None: 4.523533847755687\n",
      "PREDICTION: [0 1 0 0 0]\n",
      "\n",
      "INPUT: Asians should just go back to their country, all they do is take our jobs\n",
      "  Race: 86.12927907625367\n",
      "  Religion: 5.1753229724840395\n",
      "  Gender: 23.250704645850096\n",
      "  Other: 14.704214593581266\n",
      "  None: 4.812937480265837\n",
      "PREDICTION: [1 0 0 0 0]\n",
      "\n",
      "INPUT: If you want to make the world a better place, look at yourself and make a change\n",
      "  Race: 7.5424796900682\n",
      "  Religion: 2.512228641514519\n",
      "  Gender: 8.03584948528251\n",
      "  Other: 5.930469168736865\n",
      "  None: 62.91813624727318\n",
      "PREDICTION: [0 0 0 0 1]\n",
      "\n"
     ]
    }
   ],
   "source": [
    "text1 = \"Girl bitches should just kill themselves if they don't know how to cook\"\n",
    "text2 = \"gay people are mentally ill\"\n",
    "text3 = \"Islam people are all terrorists\"\n",
    "text4 = \"Asians should just go back to their country, all they do is take our jobs\"\n",
    "text5 = \"If you want to make the world a better place, look at yourself and make a change\"\n",
    "sample_texts = [text1, text2, text3, text4, text5]\n",
    "\n",
    "for text in sample_texts:\n",
    "    arr = [text]\n",
    "    proba = t3bc_classifier.predict_proba(arr).toarray()[0]\n",
    "    pred = t3bc_classifier.predict(arr).toarray()[0]\n",
    "\n",
    "    headers = t3_headers\n",
    "\n",
    "    print(f'INPUT: {text}')\n",
    "    for i,e in enumerate(headers):\n",
    "        print(f'  {headers[i]}: {proba[i]*100}')\n",
    "    print(f'PREDICTION: {pred}\\n')"
   ]
  },
  {
   "cell_type": "markdown",
   "metadata": {},
   "source": [
    "<h4>Subtask 3 - Classifier Chain</h4>"
   ]
  },
  {
   "cell_type": "code",
   "execution_count": null,
   "metadata": {},
   "outputs": [],
   "source": [
    "# Instantiate Classifier\n",
    "ovr_classifier = make_pipeline(\n",
    "    TfidfVectorizer(),\n",
    "    ClassifierChain(svm.SVC(kernel='linear', probability=True))\n",
    ")"
   ]
  },
  {
   "cell_type": "code",
   "execution_count": null,
   "metadata": {},
   "outputs": [
    {
     "ename": "MemoryError",
     "evalue": "Unable to allocate 2.26 GiB for an array with shape (13460, 22537) and data type float64",
     "output_type": "error",
     "traceback": [
      "\u001b[1;31m---------------------------------------------------------------------------\u001b[0m",
      "\u001b[1;31mMemoryError\u001b[0m                               Traceback (most recent call last)",
      "\u001b[1;32mc:\\Users\\bayquen\\Desktop\\hate-speech-SVM-model\\src\\final-test-nostops.ipynb Cell 44'\u001b[0m in \u001b[0;36m<cell line: 1>\u001b[1;34m()\u001b[0m\n\u001b[1;32m----> <a href='vscode-notebook-cell:/c%3A/Users/bayquen/Desktop/hate-speech-SVM-model/src/final-test-nostops.ipynb#ch0000043?line=0'>1</a>\u001b[0m t3cc_classifier \u001b[39m=\u001b[39m ovr_classifier\u001b[39m.\u001b[39;49mfit(X\u001b[39m=\u001b[39;49mtrain_df[\u001b[39m\"\u001b[39;49m\u001b[39mtext\u001b[39;49m\u001b[39m\"\u001b[39;49m], y\u001b[39m=\u001b[39;49mtrain_df[t3_headers])\n\u001b[0;32m      <a href='vscode-notebook-cell:/c%3A/Users/bayquen/Desktop/hate-speech-SVM-model/src/final-test-nostops.ipynb#ch0000043?line=1'>2</a>\u001b[0m t3cc_classifier\n",
      "File \u001b[1;32m~\\AppData\\Local\\Programs\\Python\\Python310\\lib\\site-packages\\sklearn\\pipeline.py:394\u001b[0m, in \u001b[0;36mPipeline.fit\u001b[1;34m(self, X, y, **fit_params)\u001b[0m\n\u001b[0;32m    <a href='file:///c%3A/Users/bayquen/AppData/Local/Programs/Python/Python310/lib/site-packages/sklearn/pipeline.py?line=391'>392</a>\u001b[0m     \u001b[39mif\u001b[39;00m \u001b[39mself\u001b[39m\u001b[39m.\u001b[39m_final_estimator \u001b[39m!=\u001b[39m \u001b[39m\"\u001b[39m\u001b[39mpassthrough\u001b[39m\u001b[39m\"\u001b[39m:\n\u001b[0;32m    <a href='file:///c%3A/Users/bayquen/AppData/Local/Programs/Python/Python310/lib/site-packages/sklearn/pipeline.py?line=392'>393</a>\u001b[0m         fit_params_last_step \u001b[39m=\u001b[39m fit_params_steps[\u001b[39mself\u001b[39m\u001b[39m.\u001b[39msteps[\u001b[39m-\u001b[39m\u001b[39m1\u001b[39m][\u001b[39m0\u001b[39m]]\n\u001b[1;32m--> <a href='file:///c%3A/Users/bayquen/AppData/Local/Programs/Python/Python310/lib/site-packages/sklearn/pipeline.py?line=393'>394</a>\u001b[0m         \u001b[39mself\u001b[39m\u001b[39m.\u001b[39m_final_estimator\u001b[39m.\u001b[39mfit(Xt, y, \u001b[39m*\u001b[39m\u001b[39m*\u001b[39mfit_params_last_step)\n\u001b[0;32m    <a href='file:///c%3A/Users/bayquen/AppData/Local/Programs/Python/Python310/lib/site-packages/sklearn/pipeline.py?line=395'>396</a>\u001b[0m \u001b[39mreturn\u001b[39;00m \u001b[39mself\u001b[39m\n",
      "File \u001b[1;32m~\\AppData\\Local\\Programs\\Python\\Python310\\lib\\site-packages\\skmultilearn\\problem_transform\\cc.py:154\u001b[0m, in \u001b[0;36mClassifierChain.fit\u001b[1;34m(self, X, y, order)\u001b[0m\n\u001b[0;32m    <a href='file:///c%3A/Users/bayquen/AppData/Local/Programs/Python/Python310/lib/site-packages/skmultilearn/problem_transform/cc.py?line=150'>151</a>\u001b[0m     \u001b[39mself\u001b[39m\u001b[39m.\u001b[39mclassifier \u001b[39m=\u001b[39m copy\u001b[39m.\u001b[39mdeepcopy(\u001b[39mself\u001b[39m\u001b[39m.\u001b[39mclassifier)\n\u001b[0;32m    <a href='file:///c%3A/Users/bayquen/AppData/Local/Programs/Python/Python310/lib/site-packages/skmultilearn/problem_transform/cc.py?line=151'>152</a>\u001b[0m     y_subset \u001b[39m=\u001b[39m \u001b[39mself\u001b[39m\u001b[39m.\u001b[39m_generate_data_subset(y, label, axis\u001b[39m=\u001b[39m\u001b[39m1\u001b[39m)\n\u001b[1;32m--> <a href='file:///c%3A/Users/bayquen/AppData/Local/Programs/Python/Python310/lib/site-packages/skmultilearn/problem_transform/cc.py?line=153'>154</a>\u001b[0m     \u001b[39mself\u001b[39m\u001b[39m.\u001b[39mclassifiers_[label] \u001b[39m=\u001b[39m \u001b[39mself\u001b[39;49m\u001b[39m.\u001b[39;49mclassifier\u001b[39m.\u001b[39;49mfit(\u001b[39mself\u001b[39;49m\u001b[39m.\u001b[39;49m_ensure_input_format(\n\u001b[0;32m    <a href='file:///c%3A/Users/bayquen/AppData/Local/Programs/Python/Python310/lib/site-packages/skmultilearn/problem_transform/cc.py?line=154'>155</a>\u001b[0m         X_extended), \u001b[39mself\u001b[39;49m\u001b[39m.\u001b[39;49m_ensure_output_format(y_subset))\n\u001b[0;32m    <a href='file:///c%3A/Users/bayquen/AppData/Local/Programs/Python/Python310/lib/site-packages/skmultilearn/problem_transform/cc.py?line=155'>156</a>\u001b[0m     X_extended \u001b[39m=\u001b[39m hstack([X_extended, y_subset])\n\u001b[0;32m    <a href='file:///c%3A/Users/bayquen/AppData/Local/Programs/Python/Python310/lib/site-packages/skmultilearn/problem_transform/cc.py?line=157'>158</a>\u001b[0m \u001b[39mreturn\u001b[39;00m \u001b[39mself\u001b[39m\n",
      "File \u001b[1;32m~\\AppData\\Local\\Programs\\Python\\Python310\\lib\\site-packages\\sklearn\\svm\\_base.py:238\u001b[0m, in \u001b[0;36mBaseLibSVM.fit\u001b[1;34m(self, X, y, sample_weight)\u001b[0m\n\u001b[0;32m    <a href='file:///c%3A/Users/bayquen/AppData/Local/Programs/Python/Python310/lib/site-packages/sklearn/svm/_base.py?line=234'>235</a>\u001b[0m \u001b[39melif\u001b[39;00m \u001b[39misinstance\u001b[39m(\u001b[39mself\u001b[39m\u001b[39m.\u001b[39mgamma, \u001b[39mstr\u001b[39m):\n\u001b[0;32m    <a href='file:///c%3A/Users/bayquen/AppData/Local/Programs/Python/Python310/lib/site-packages/sklearn/svm/_base.py?line=235'>236</a>\u001b[0m     \u001b[39mif\u001b[39;00m \u001b[39mself\u001b[39m\u001b[39m.\u001b[39mgamma \u001b[39m==\u001b[39m \u001b[39m\"\u001b[39m\u001b[39mscale\u001b[39m\u001b[39m\"\u001b[39m:\n\u001b[0;32m    <a href='file:///c%3A/Users/bayquen/AppData/Local/Programs/Python/Python310/lib/site-packages/sklearn/svm/_base.py?line=236'>237</a>\u001b[0m         \u001b[39m# var = E[X^2] - E[X]^2 if sparse\u001b[39;00m\n\u001b[1;32m--> <a href='file:///c%3A/Users/bayquen/AppData/Local/Programs/Python/Python310/lib/site-packages/sklearn/svm/_base.py?line=237'>238</a>\u001b[0m         X_var \u001b[39m=\u001b[39m (X\u001b[39m.\u001b[39mmultiply(X))\u001b[39m.\u001b[39mmean() \u001b[39m-\u001b[39m (X\u001b[39m.\u001b[39mmean()) \u001b[39m*\u001b[39m\u001b[39m*\u001b[39m \u001b[39m2\u001b[39m \u001b[39mif\u001b[39;00m sparse \u001b[39melse\u001b[39;00m X\u001b[39m.\u001b[39;49mvar()\n\u001b[0;32m    <a href='file:///c%3A/Users/bayquen/AppData/Local/Programs/Python/Python310/lib/site-packages/sklearn/svm/_base.py?line=238'>239</a>\u001b[0m         \u001b[39mself\u001b[39m\u001b[39m.\u001b[39m_gamma \u001b[39m=\u001b[39m \u001b[39m1.0\u001b[39m \u001b[39m/\u001b[39m (X\u001b[39m.\u001b[39mshape[\u001b[39m1\u001b[39m] \u001b[39m*\u001b[39m X_var) \u001b[39mif\u001b[39;00m X_var \u001b[39m!=\u001b[39m \u001b[39m0\u001b[39m \u001b[39melse\u001b[39;00m \u001b[39m1.0\u001b[39m\n\u001b[0;32m    <a href='file:///c%3A/Users/bayquen/AppData/Local/Programs/Python/Python310/lib/site-packages/sklearn/svm/_base.py?line=239'>240</a>\u001b[0m     \u001b[39melif\u001b[39;00m \u001b[39mself\u001b[39m\u001b[39m.\u001b[39mgamma \u001b[39m==\u001b[39m \u001b[39m\"\u001b[39m\u001b[39mauto\u001b[39m\u001b[39m\"\u001b[39m:\n",
      "File \u001b[1;32m~\\AppData\\Local\\Programs\\Python\\Python310\\lib\\site-packages\\numpy\\core\\_methods.py:232\u001b[0m, in \u001b[0;36m_var\u001b[1;34m(a, axis, dtype, out, ddof, keepdims, where)\u001b[0m\n\u001b[0;32m    <a href='file:///c%3A/Users/bayquen/AppData/Local/Programs/Python/Python310/lib/site-packages/numpy/core/_methods.py?line=226'>227</a>\u001b[0m     arrmean \u001b[39m=\u001b[39m arrmean \u001b[39m/\u001b[39m rcount\n\u001b[0;32m    <a href='file:///c%3A/Users/bayquen/AppData/Local/Programs/Python/Python310/lib/site-packages/numpy/core/_methods.py?line=228'>229</a>\u001b[0m \u001b[39m# Compute sum of squared deviations from mean\u001b[39;00m\n\u001b[0;32m    <a href='file:///c%3A/Users/bayquen/AppData/Local/Programs/Python/Python310/lib/site-packages/numpy/core/_methods.py?line=229'>230</a>\u001b[0m \u001b[39m# Note that x may not be inexact and that we need it to be an array,\u001b[39;00m\n\u001b[0;32m    <a href='file:///c%3A/Users/bayquen/AppData/Local/Programs/Python/Python310/lib/site-packages/numpy/core/_methods.py?line=230'>231</a>\u001b[0m \u001b[39m# not a scalar.\u001b[39;00m\n\u001b[1;32m--> <a href='file:///c%3A/Users/bayquen/AppData/Local/Programs/Python/Python310/lib/site-packages/numpy/core/_methods.py?line=231'>232</a>\u001b[0m x \u001b[39m=\u001b[39m asanyarray(arr \u001b[39m-\u001b[39;49m arrmean)\n\u001b[0;32m    <a href='file:///c%3A/Users/bayquen/AppData/Local/Programs/Python/Python310/lib/site-packages/numpy/core/_methods.py?line=233'>234</a>\u001b[0m \u001b[39mif\u001b[39;00m \u001b[39missubclass\u001b[39m(arr\u001b[39m.\u001b[39mdtype\u001b[39m.\u001b[39mtype, (nt\u001b[39m.\u001b[39mfloating, nt\u001b[39m.\u001b[39minteger)):\n\u001b[0;32m    <a href='file:///c%3A/Users/bayquen/AppData/Local/Programs/Python/Python310/lib/site-packages/numpy/core/_methods.py?line=234'>235</a>\u001b[0m     x \u001b[39m=\u001b[39m um\u001b[39m.\u001b[39mmultiply(x, x, out\u001b[39m=\u001b[39mx)\n",
      "\u001b[1;31mMemoryError\u001b[0m: Unable to allocate 2.26 GiB for an array with shape (13460, 22537) and data type float64"
     ]
    }
   ],
   "source": [
    "t3cc_classifier = ovr_classifier.fit(X=train_df[\"text\"], y=train_df[t3_headers])\n",
    "t3cc_classifier"
   ]
  },
  {
   "cell_type": "code",
   "execution_count": null,
   "metadata": {},
   "outputs": [
    {
     "name": "stdout",
     "output_type": "stream",
     "text": [
      "SVM subtask 3 CC Accuracy Score ->  0.4856152512998267\n"
     ]
    }
   ],
   "source": [
    "predictions_t3cc = t3cc_classifier.predict(test_df[\"text\"])\n",
    "t3cc_score = accuracy_score(predictions_t3cc, test_df[t3_headers])\n",
    "print(\"SVM subtask 3 CC Accuracy Score -> \",t3cc_score)"
   ]
  },
  {
   "cell_type": "markdown",
   "metadata": {},
   "source": [
    "<h5>Export Model</h5>"
   ]
  },
  {
   "cell_type": "code",
   "execution_count": null,
   "metadata": {},
   "outputs": [
    {
     "data": {
      "text/plain": [
       "['../out/final/t3cc_classifier.joblib.z']"
      ]
     },
     "execution_count": 44,
     "metadata": {},
     "output_type": "execute_result"
    }
   ],
   "source": [
    "filename = \"t3cc_classifier.joblib.z\"\n",
    "path = out_directory + filename\n",
    "dump(t3cc_classifier, path)"
   ]
  },
  {
   "cell_type": "markdown",
   "metadata": {},
   "source": [
    "<h5>Tests</h5>"
   ]
  },
  {
   "cell_type": "code",
   "execution_count": null,
   "metadata": {},
   "outputs": [
    {
     "name": "stdout",
     "output_type": "stream",
     "text": [
      "INPUT: Girl bitches should just kill themselves if they don't know how to cook\n",
      "  Race: 7.983149489163929\n",
      "  Religion: 3.7705484616404883\n",
      "  Gender: 12.065269078684155\n",
      "  Other: 4.832572138522008\n",
      "  None: 84.91721629850211\n",
      "PREDICTION: [0. 0. 0. 0. 1.]\n",
      "\n",
      "INPUT: gay people are mentally ill\n",
      "  Race: 1.7170055305583471\n",
      "  Religion: 16.773442737502172\n",
      "  Gender: 92.09872058735607\n",
      "  Other: 35.40592708898736\n",
      "  None: 0.7185430973270114\n",
      "PREDICTION: [0. 0. 1. 0. 0.]\n",
      "\n",
      "INPUT: Islam people are all terrorists\n",
      "  Race: 5.6334441030530575\n",
      "  Religion: 99.99973683060782\n",
      "  Gender: 1.078511022639815\n",
      "  Other: 16.93588355531013\n",
      "  None: 0.8550955775487236\n",
      "PREDICTION: [0. 1. 0. 0. 0.]\n",
      "\n",
      "INPUT: Asians should just go back to their country, all they do is take our jobs\n",
      "  Race: 62.53570350623865\n",
      "  Religion: 5.505663900768042\n",
      "  Gender: 5.337683597493268\n",
      "  Other: 44.908840148292086\n",
      "  None: 84.67591306869883\n",
      "PREDICTION: [0. 0. 0. 0. 1.]\n",
      "\n",
      "INPUT: If you want to make the world a better place, look at yourself and make a change\n",
      "  Race: 11.753754605613352\n",
      "  Religion: 6.457047603120918\n",
      "  Gender: 49.462229302480324\n",
      "  Other: 1.2152924784014276\n",
      "  None: 89.63997499143365\n",
      "PREDICTION: [0. 0. 0. 0. 1.]\n",
      "\n"
     ]
    }
   ],
   "source": [
    "text1 = \"Girl bitches should just kill themselves if they don't know how to cook\"\n",
    "text2 = \"gay people are mentally ill\"\n",
    "text3 = \"Islam people are all terrorists\"\n",
    "text4 = \"Asians should just go back to their country, all they do is take our jobs\"\n",
    "text5 = \"If you want to make the world a better place, look at yourself and make a change\"\n",
    "sample_texts = [text1, text2, text3, text4, text5]\n",
    "\n",
    "for text in sample_texts:\n",
    "    arr = [text]\n",
    "    proba = t3cc_classifier.predict_proba(arr).toarray()[0]\n",
    "    pred = t3cc_classifier.predict(arr).toarray()[0]\n",
    "\n",
    "    headers = t3_headers\n",
    "\n",
    "    print(f'INPUT: {text}')\n",
    "    for i,e in enumerate(headers):\n",
    "        print(f'  {headers[i]}: {proba[i]*100}')\n",
    "    print(f'PREDICTION: {pred}\\n')"
   ]
  },
  {
   "cell_type": "markdown",
   "metadata": {},
   "source": [
    "<h4>Subtask 3 - LabelPowerSet</h4>"
   ]
  },
  {
   "cell_type": "code",
   "execution_count": null,
   "metadata": {},
   "outputs": [],
   "source": [
    "# Instantiate Classifier\n",
    "ovr_classifier = make_pipeline(\n",
    "    TfidfVectorizer(),\n",
    "    LabelPowerset(svm.SVC(kernel='linear', probability=True))\n",
    ")"
   ]
  },
  {
   "cell_type": "code",
   "execution_count": null,
   "metadata": {},
   "outputs": [
    {
     "data": {
      "text/plain": [
       "Pipeline(steps=[('tfidfvectorizer', TfidfVectorizer()),\n",
       "                ('labelpowerset',\n",
       "                 LabelPowerset(classifier=SVC(kernel='linear',\n",
       "                                              probability=True),\n",
       "                               require_dense=[True, True]))])"
      ]
     },
     "execution_count": 47,
     "metadata": {},
     "output_type": "execute_result"
    }
   ],
   "source": [
    "t3lp_classifier = ovr_classifier.fit(X=train_df[\"text\"], y=train_df[t3_headers])\n",
    "t3lp_classifier"
   ]
  },
  {
   "cell_type": "code",
   "execution_count": null,
   "metadata": {},
   "outputs": [
    {
     "name": "stdout",
     "output_type": "stream",
     "text": [
      "SVM subtask 3 LP Accuracy Score ->  0.48076256499133446\n"
     ]
    }
   ],
   "source": [
    "predictions_t3lp = t3lp_classifier.predict(test_df[\"text\"])\n",
    "t3lp_score = accuracy_score(predictions_t3lp, test_df[t3_headers])\n",
    "print(\"SVM subtask 3 LP Accuracy Score -> \",t3lp_score)"
   ]
  },
  {
   "cell_type": "markdown",
   "metadata": {},
   "source": [
    "<h5>Export Model</h5>"
   ]
  },
  {
   "cell_type": "code",
   "execution_count": null,
   "metadata": {},
   "outputs": [
    {
     "data": {
      "text/plain": [
       "['../out/final/t3lp_classifier.joblib.z']"
      ]
     },
     "execution_count": 49,
     "metadata": {},
     "output_type": "execute_result"
    }
   ],
   "source": [
    "filename = \"t3lp_classifier.joblib.z\"\n",
    "path = out_directory + filename\n",
    "dump(t3lp_classifier, path)"
   ]
  },
  {
   "cell_type": "markdown",
   "metadata": {},
   "source": [
    "<h5>Tests</h5>"
   ]
  },
  {
   "cell_type": "code",
   "execution_count": null,
   "metadata": {},
   "outputs": [
    {
     "name": "stdout",
     "output_type": "stream",
     "text": [
      "INPUT: Girl bitches should just kill themselves if they don't know how to cook\n",
      "  Race: 15.667599094410086\n",
      "  Religion: 8.381325610812459\n",
      "  Gender: 16.04588312364875\n",
      "  Other: 8.028950180578489\n",
      "  None: 55.104405428643645\n",
      "PREDICTION: [0 0 0 0 1]\n",
      "\n",
      "INPUT: gay people are mentally ill\n",
      "  Race: 21.349589591899104\n",
      "  Religion: 20.735660752070554\n",
      "  Gender: 29.017497385442738\n",
      "  Other: 29.71870946931432\n",
      "  None: 20.52853419764931\n",
      "PREDICTION: [0 0 1 0 0]\n",
      "\n",
      "INPUT: Islam people are all terrorists\n",
      "  Race: 35.28292294841878\n",
      "  Religion: 46.99384492497711\n",
      "  Gender: 21.155485745426724\n",
      "  Other: 21.80992867126253\n",
      "  None: 14.68579928631919\n",
      "PREDICTION: [0 1 0 0 0]\n",
      "\n",
      "INPUT: Asians should just go back to their country, all they do is take our jobs\n",
      "  Race: 56.86566367623418\n",
      "  Religion: 15.532841925984709\n",
      "  Gender: 7.961149226703382\n",
      "  Other: 20.824768468654757\n",
      "  None: 10.36084120148507\n",
      "PREDICTION: [1 0 0 0 0]\n",
      "\n",
      "INPUT: If you want to make the world a better place, look at yourself and make a change\n",
      "  Race: 10.071323703404286\n",
      "  Religion: 6.6560690917787015\n",
      "  Gender: 40.613999209948105\n",
      "  Other: 2.781027546973151\n",
      "  None: 43.159354064587106\n",
      "PREDICTION: [0 0 0 0 1]\n",
      "\n"
     ]
    }
   ],
   "source": [
    "text1 = \"Girl bitches should just kill themselves if they don't know how to cook\"\n",
    "text2 = \"gay people are mentally ill\"\n",
    "text3 = \"Islam people are all terrorists\"\n",
    "text4 = \"Asians should just go back to their country, all they do is take our jobs\"\n",
    "text5 = \"If you want to make the world a better place, look at yourself and make a change\"\n",
    "sample_texts = [text1, text2, text3, text4, text5]\n",
    "\n",
    "for text in sample_texts:\n",
    "    arr = [text]\n",
    "    proba = t3lp_classifier.predict_proba(arr).toarray()[0]\n",
    "    pred = t3lp_classifier.predict(arr).toarray()[0]\n",
    "\n",
    "    headers = t3_headers\n",
    "\n",
    "    print(f'INPUT: {text}')\n",
    "    for i,e in enumerate(headers):\n",
    "        print(f'  {headers[i]}: {proba[i]*100}')\n",
    "    print(f'PREDICTION: {pred}\\n')"
   ]
  },
  {
   "cell_type": "code",
   "execution_count": null,
   "metadata": {},
   "outputs": [
    {
     "name": "stdout",
     "output_type": "stream",
     "text": [
      "accuracies:\n",
      "0.32270363951473136 - subtask 1\n",
      "0.8564991334488735 - subtask 2\n",
      "0.2873483535528596 - t3 OneVsRest\n",
      "0.2873483535528596 - t3 Binary Relevance\n",
      "0.4856152512998267 - t3 Classifier Chain\n",
      "0.48076256499133446 - t3 Label Powerset\n"
     ]
    }
   ],
   "source": [
    "labels = [\"subtask 1\", \"subtask 2\", \"t3 OneVsRest\", \"t3 Binary Relevance\", \"t3 Classifier Chain\", \"t3 Label Powerset\"]\n",
    "scores = [t1_score, t2_score, t3_score, t3bc_score, t3cc_score, t3lp_score]\n",
    "print(\"accuracies:\")\n",
    "for i,e in enumerate(labels):\n",
    "    print(f\"{scores[i]} - {e}\")"
   ]
  }
 ],
 "metadata": {
  "interpreter": {
   "hash": "2be5faf79681da6f2a61fdfdd5405d65d042280f7fba6178067603e3a2925119"
  },
  "kernelspec": {
   "display_name": "Python 3 (ipykernel)",
   "language": "python",
   "name": "python3"
  },
  "language_info": {
   "codemirror_mode": {
    "name": "ipython",
    "version": 3
   },
   "file_extension": ".py",
   "mimetype": "text/x-python",
   "name": "python",
   "nbconvert_exporter": "python",
   "pygments_lexer": "ipython3",
   "version": "3.10.4"
  },
  "orig_nbformat": 4
 },
 "nbformat": 4,
 "nbformat_minor": 4
}

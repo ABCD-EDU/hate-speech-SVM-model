{
 "cells": [
  {
   "cell_type": "code",
   "execution_count": 30,
   "metadata": {},
   "outputs": [],
   "source": [
    "import pandas as pd\n",
    "import numpy as np\n",
    "# Model\n",
    "from sklearn import model_selection, svm\n",
    "from sklearn.preprocessing import LabelEncoder\n",
    "from sklearn.feature_extraction.text import TfidfVectorizer\n",
    "from sklearn.metrics import accuracy_score\n",
    "from sklearn.multiclass import OneVsRestClassifier\n",
    "# Pipeline\n",
    "from sklearn.pipeline import make_pipeline\n",
    "from joblib import dump"
   ]
  },
  {
   "cell_type": "code",
   "execution_count": 31,
   "metadata": {},
   "outputs": [],
   "source": [
    "out_directory = \"../out/final-test-nostops/\""
   ]
  },
  {
   "cell_type": "markdown",
   "metadata": {},
   "source": [
    "<h2>Organize Data</h2>"
   ]
  },
  {
   "cell_type": "code",
   "execution_count": 32,
   "metadata": {},
   "outputs": [
    {
     "data": {
      "text/html": [
       "<div>\n",
       "<style scoped>\n",
       "    .dataframe tbody tr th:only-of-type {\n",
       "        vertical-align: middle;\n",
       "    }\n",
       "\n",
       "    .dataframe tbody tr th {\n",
       "        vertical-align: top;\n",
       "    }\n",
       "\n",
       "    .dataframe thead th {\n",
       "        text-align: right;\n",
       "    }\n",
       "</style>\n",
       "<table border=\"1\" class=\"dataframe\">\n",
       "  <thead>\n",
       "    <tr style=\"text-align: right;\">\n",
       "      <th></th>\n",
       "      <th>text</th>\n",
       "      <th>HATE</th>\n",
       "      <th>NOT</th>\n",
       "      <th>OFFN</th>\n",
       "      <th>PRFN</th>\n",
       "      <th>Race</th>\n",
       "      <th>Religion</th>\n",
       "      <th>Gender</th>\n",
       "      <th>Other</th>\n",
       "      <th>None</th>\n",
       "    </tr>\n",
       "  </thead>\n",
       "  <tbody>\n",
       "    <tr>\n",
       "      <th>0</th>\n",
       "      <td>a vote for max is a vote for the white christi...</td>\n",
       "      <td>0</td>\n",
       "      <td>1</td>\n",
       "      <td>0</td>\n",
       "      <td>0</td>\n",
       "      <td>0</td>\n",
       "      <td>0</td>\n",
       "      <td>0</td>\n",
       "      <td>0</td>\n",
       "      <td>1</td>\n",
       "    </tr>\n",
       "    <tr>\n",
       "      <th>1</th>\n",
       "      <td>what a muslim does in the privacy of his own g...</td>\n",
       "      <td>1</td>\n",
       "      <td>0</td>\n",
       "      <td>0</td>\n",
       "      <td>0</td>\n",
       "      <td>1</td>\n",
       "      <td>1</td>\n",
       "      <td>0</td>\n",
       "      <td>0</td>\n",
       "      <td>0</td>\n",
       "    </tr>\n",
       "    <tr>\n",
       "      <th>2</th>\n",
       "      <td>it is in some circles but in others it the sam...</td>\n",
       "      <td>1</td>\n",
       "      <td>0</td>\n",
       "      <td>0</td>\n",
       "      <td>1</td>\n",
       "      <td>1</td>\n",
       "      <td>0</td>\n",
       "      <td>0</td>\n",
       "      <td>0</td>\n",
       "      <td>0</td>\n",
       "    </tr>\n",
       "    <tr>\n",
       "      <th>3</th>\n",
       "      <td>president trumps opinion get the son of the bi...</td>\n",
       "      <td>0</td>\n",
       "      <td>1</td>\n",
       "      <td>1</td>\n",
       "      <td>1</td>\n",
       "      <td>1</td>\n",
       "      <td>0</td>\n",
       "      <td>0</td>\n",
       "      <td>1</td>\n",
       "      <td>1</td>\n",
       "    </tr>\n",
       "    <tr>\n",
       "      <th>4</th>\n",
       "      <td>id2020 is also jabbing refugees with its micro...</td>\n",
       "      <td>0</td>\n",
       "      <td>1</td>\n",
       "      <td>1</td>\n",
       "      <td>0</td>\n",
       "      <td>0</td>\n",
       "      <td>0</td>\n",
       "      <td>0</td>\n",
       "      <td>1</td>\n",
       "      <td>1</td>\n",
       "    </tr>\n",
       "  </tbody>\n",
       "</table>\n",
       "</div>"
      ],
      "text/plain": [
       "                                                text  HATE  NOT  OFFN  PRFN  \\\n",
       "0  a vote for max is a vote for the white christi...     0    1     0     0   \n",
       "1  what a muslim does in the privacy of his own g...     1    0     0     0   \n",
       "2  it is in some circles but in others it the sam...     1    0     0     1   \n",
       "3  president trumps opinion get the son of the bi...     0    1     1     1   \n",
       "4  id2020 is also jabbing refugees with its micro...     0    1     1     0   \n",
       "\n",
       "   Race  Religion  Gender  Other  None  \n",
       "0     0         0       0      0     1  \n",
       "1     1         1       0      0     0  \n",
       "2     1         0       0      0     0  \n",
       "3     1         0       0      1     1  \n",
       "4     0         0       0      1     1  "
      ]
     },
     "execution_count": 32,
     "metadata": {},
     "output_type": "execute_result"
    }
   ],
   "source": [
    "# Read data\n",
    "# df = pd.read_csv(\"../res/dataset-final.csv\")\n",
    "\n",
    "train_df = pd.read_csv(\"../res/train_final.csv\")\n",
    "val_df = pd.read_csv(\"../res/val_final.csv\")\n",
    "test_df = pd.read_csv(\"../res/test_final.csv\")\n",
    "train_df.head()"
   ]
  },
  {
   "cell_type": "code",
   "execution_count": 33,
   "metadata": {},
   "outputs": [],
   "source": [
    "# # Organize targets\n",
    "# # Get target columns\n",
    "# headers = train_df.columns[1:]\n",
    "# # Create separate df for targets\n",
    "# y_train = train_df[headers]\n",
    "# y_val = val_df[headers]\n",
    "# y_test = test_df[headers]"
   ]
  },
  {
   "cell_type": "code",
   "execution_count": 34,
   "metadata": {},
   "outputs": [
    {
     "name": "stdout",
     "output_type": "stream",
     "text": [
      "subtask 1 and 2 headers:\n",
      "Index(['HATE', 'NOT', 'OFFN', 'PRFN'], dtype='object')\n",
      "subtask 3 headers:\n",
      "Index(['Race', 'Religion', 'Gender', 'Other', 'None'], dtype='object')\n"
     ]
    }
   ],
   "source": [
    "# Organize targets\n",
    "# Get target columns\n",
    "t1a2_headers = train_df.columns[1:5]\n",
    "print(\"subtask 1 and 2 headers:\")\n",
    "print(t1a2_headers)\n",
    "t3_headers = train_df.columns[5:]\n",
    "print(\"subtask 3 headers:\")\n",
    "print(t3_headers)"
   ]
  },
  {
   "cell_type": "markdown",
   "metadata": {},
   "source": [
    "<h2>Model Creation</h2>"
   ]
  },
  {
   "cell_type": "code",
   "execution_count": 35,
   "metadata": {},
   "outputs": [],
   "source": [
    "# Set number of samples to train with\n",
    "# train_df = train_df.iloc[:1000]"
   ]
  },
  {
   "cell_type": "markdown",
   "metadata": {},
   "source": [
    "<h4>Subtask 1 and 2</h4>"
   ]
  },
  {
   "cell_type": "code",
   "execution_count": 36,
   "metadata": {},
   "outputs": [],
   "source": [
    "# Instantiate Classifier\n",
    "ovr_classifier = make_pipeline(\n",
    "    TfidfVectorizer(),\n",
    "    OneVsRestClassifier(svm.SVC(kernel='linear', probability=True))\n",
    ")"
   ]
  },
  {
   "cell_type": "code",
   "execution_count": 37,
   "metadata": {},
   "outputs": [
    {
     "data": {
      "text/plain": [
       "Pipeline(steps=[('tfidfvectorizer', TfidfVectorizer()),\n",
       "                ('onevsrestclassifier',\n",
       "                 OneVsRestClassifier(estimator=SVC(kernel='linear',\n",
       "                                                   probability=True)))])"
      ]
     },
     "execution_count": 37,
     "metadata": {},
     "output_type": "execute_result"
    }
   ],
   "source": [
    "# Train\n",
    "t1a2_classifier = ovr_classifier.fit(X=train_df[\"text\"], y=train_df[t1a2_headers])\n",
    "t1a2_classifier"
   ]
  },
  {
   "cell_type": "code",
   "execution_count": 38,
   "metadata": {},
   "outputs": [
    {
     "name": "stdout",
     "output_type": "stream",
     "text": [
      "SVM subtask 1 and 2 Accuracy Score ->  0.39034072113794244\n"
     ]
    }
   ],
   "source": [
    "predictions_t1a2 = t1a2_classifier.predict(test_df[\"text\"])\n",
    "t1a2_score = accuracy_score(predictions_t1a2, test_df[t1a2_headers])\n",
    "print(\"SVM subtask 1 and 2 Accuracy Score -> \",t1a2_score)"
   ]
  },
  {
   "cell_type": "markdown",
   "metadata": {},
   "source": [
    "<h5>Export Model</h5>"
   ]
  },
  {
   "cell_type": "code",
   "execution_count": 39,
   "metadata": {},
   "outputs": [
    {
     "data": {
      "text/plain": [
       "['../out/final-test-nostops/t1a2_classifier.joblib.z']"
      ]
     },
     "execution_count": 39,
     "metadata": {},
     "output_type": "execute_result"
    }
   ],
   "source": [
    "filename = \"t1a2_classifier.joblib.z\"\n",
    "path = out_directory + filename\n",
    "dump(t1a2_classifier, path)"
   ]
  },
  {
   "cell_type": "markdown",
   "metadata": {},
   "source": [
    "<h5>Tests</h5>"
   ]
  },
  {
   "cell_type": "code",
   "execution_count": 40,
   "metadata": {},
   "outputs": [
    {
     "name": "stdout",
     "output_type": "stream",
     "text": [
      "INPUT: Girl bitches should just kill themselves if they don't know how to cook\n",
      "  HATE: 19.34094222187061\n",
      "  NOT: 61.779271912698796\n",
      "  OFFN: 69.92316938604924\n",
      "  PRFN: 99.9999999999709\n",
      "PREDICTION: [0 1 1 1]\n",
      "\n",
      "INPUT: gay people are mentally ill\n",
      "  HATE: 48.67992557006854\n",
      "  NOT: 73.27263032828809\n",
      "  OFFN: 72.41146445440374\n",
      "  PRFN: 98.96863239469876\n",
      "PREDICTION: [0 1 1 1]\n",
      "\n",
      "INPUT: Islam people are all terrorists\n",
      "  HATE: 49.18705794258973\n",
      "  NOT: 27.263204849894933\n",
      "  OFFN: 50.0\n",
      "  PRFN: 16.00543754801794\n",
      "PREDICTION: [0 0 0 0]\n",
      "\n",
      "INPUT: Asians should just go back to their country, all they do is take our jobs\n",
      "  HATE: 37.00219081270031\n",
      "  NOT: 47.00754411722002\n",
      "  OFFN: 65.06227043322387\n",
      "  PRFN: 98.1638015170598\n",
      "PREDICTION: [0 0 1 1]\n",
      "\n",
      "INPUT: If you want to make the world a better place, look at yourself and make a change\n",
      "  HATE: 17.289782571314188\n",
      "  NOT: 82.10225517172674\n",
      "  OFFN: 43.754278921580706\n",
      "  PRFN: 24.185374528516014\n",
      "PREDICTION: [0 1 0 0]\n",
      "\n"
     ]
    }
   ],
   "source": [
    "text1 = \"Girl bitches should just kill themselves if they don't know how to cook\"\n",
    "text2 = \"gay people are mentally ill\"\n",
    "text3 = \"Islam people are all terrorists\"\n",
    "text4 = \"Asians should just go back to their country, all they do is take our jobs\"\n",
    "text5 = \"If you want to make the world a better place, look at yourself and make a change\"\n",
    "sample_texts = [text1, text2, text3, text4, text5]\n",
    "\n",
    "for text in sample_texts:\n",
    "    arr = [text]\n",
    "    classes = t1a2_classifier.classes_\n",
    "    proba = t1a2_classifier.predict_proba(arr)[0]\n",
    "    pred = t1a2_classifier.predict(arr)[0]\n",
    "\n",
    "    headers = t1a2_headers\n",
    "\n",
    "    print(f'INPUT: {text}')\n",
    "    for i,e in enumerate(classes):\n",
    "        print(f'  {headers[i]}: {proba[i]*100}')\n",
    "    print(f'PREDICTION: {pred}\\n')"
   ]
  },
  {
   "cell_type": "markdown",
   "metadata": {},
   "source": [
    "<h4>Subtask 3</h4>"
   ]
  },
  {
   "cell_type": "code",
   "execution_count": 41,
   "metadata": {},
   "outputs": [],
   "source": [
    "# Instantiate Classifier\n",
    "ovr_classifier = make_pipeline(\n",
    "    TfidfVectorizer(),\n",
    "    OneVsRestClassifier(svm.SVC(kernel='linear', probability=True))\n",
    ")"
   ]
  },
  {
   "cell_type": "code",
   "execution_count": 42,
   "metadata": {},
   "outputs": [
    {
     "data": {
      "text/plain": [
       "Pipeline(steps=[('tfidfvectorizer', TfidfVectorizer()),\n",
       "                ('onevsrestclassifier',\n",
       "                 OneVsRestClassifier(estimator=SVC(kernel='linear',\n",
       "                                                   probability=True)))])"
      ]
     },
     "execution_count": 42,
     "metadata": {},
     "output_type": "execute_result"
    }
   ],
   "source": [
    "t3_classifier = ovr_classifier.fit(X=train_df[\"text\"], y=train_df[t3_headers])\n",
    "t3_classifier"
   ]
  },
  {
   "cell_type": "code",
   "execution_count": 43,
   "metadata": {},
   "outputs": [
    {
     "name": "stdout",
     "output_type": "stream",
     "text": [
      "SVM subtask 1 and 2 Accuracy Score ->  0.3833939794905723\n"
     ]
    }
   ],
   "source": [
    "predictions_t3 = t3_classifier.predict(test_df[\"text\"])\n",
    "t3_score = accuracy_score(predictions_t3, test_df[t3_headers])\n",
    "print(\"SVM subtask 1 and 2 Accuracy Score -> \",t3_score)"
   ]
  },
  {
   "cell_type": "markdown",
   "metadata": {},
   "source": [
    "<h5>Export Model</h5>"
   ]
  },
  {
   "cell_type": "code",
   "execution_count": 44,
   "metadata": {},
   "outputs": [
    {
     "data": {
      "text/plain": [
       "['../out/final-test-nostops/t3_classifier.joblib.z']"
      ]
     },
     "execution_count": 44,
     "metadata": {},
     "output_type": "execute_result"
    }
   ],
   "source": [
    "filename = \"t3_classifier.joblib.z\"\n",
    "path = out_directory + filename\n",
    "dump(t1a2_classifier, path)"
   ]
  },
  {
   "cell_type": "markdown",
   "metadata": {},
   "source": [
    "<h5>Tests</h5>"
   ]
  },
  {
   "cell_type": "code",
   "execution_count": 45,
   "metadata": {},
   "outputs": [
    {
     "name": "stdout",
     "output_type": "stream",
     "text": [
      "INPUT: Girl bitches should just kill themselves if they don't know how to cook\n",
      "  Race: 22.068550709828425\n",
      "  Religion: 4.820036569733136\n",
      "  Gender: 85.47144894867743\n",
      "  Other: 11.41074283651475\n",
      "  None: 47.015173708505664\n",
      "PREDICTION: [0 0 1 0 0]\n",
      "\n",
      "INPUT: gay people are mentally ill\n",
      "  Race: 4.0901712430497525\n",
      "  Religion: 2.951851797444794\n",
      "  Gender: 96.84546869334537\n",
      "  Other: 30.674459500369206\n",
      "  None: 50.81909326730175\n",
      "PREDICTION: [0 0 1 0 1]\n",
      "\n",
      "INPUT: Islam people are all terrorists\n",
      "  Race: 6.974315012089632\n",
      "  Religion: 99.99999545306156\n",
      "  Gender: 5.477769694373715\n",
      "  Other: 6.6962736243897005\n",
      "  None: 22.26416130048259\n",
      "PREDICTION: [0 1 0 0 0]\n",
      "\n",
      "INPUT: Asians should just go back to their country, all they do is take our jobs\n",
      "  Race: 76.6809546094667\n",
      "  Religion: 8.735921432654989\n",
      "  Gender: 7.708548770355665\n",
      "  Other: 22.191840057143565\n",
      "  None: 65.1076391680706\n",
      "PREDICTION: [1 0 0 0 1]\n",
      "\n",
      "INPUT: If you want to make the world a better place, look at yourself and make a change\n",
      "  Race: 10.30940685384564\n",
      "  Religion: 3.17150022781742\n",
      "  Gender: 12.130242196582653\n",
      "  Other: 21.82956523673981\n",
      "  None: 72.28320787602824\n",
      "PREDICTION: [0 0 0 0 1]\n",
      "\n"
     ]
    }
   ],
   "source": [
    "text1 = \"Girl bitches should just kill themselves if they don't know how to cook\"\n",
    "text2 = \"gay people are mentally ill\"\n",
    "text3 = \"Islam people are all terrorists\"\n",
    "text4 = \"Asians should just go back to their country, all they do is take our jobs\"\n",
    "text5 = \"If you want to make the world a better place, look at yourself and make a change\"\n",
    "sample_texts = [text1, text2, text3, text4, text5]\n",
    "\n",
    "for text in sample_texts:\n",
    "    arr = [text]\n",
    "    classes = t3_classifier.classes_\n",
    "    proba = t3_classifier.predict_proba(arr)[0]\n",
    "    pred = t3_classifier.predict(arr)[0]\n",
    "\n",
    "    headers = t3_headers\n",
    "\n",
    "    print(f'INPUT: {text}')\n",
    "    for i,e in enumerate(classes):\n",
    "        print(f'  {headers[i]}: {proba[i]*100}')\n",
    "    print(f'PREDICTION: {pred}\\n')"
   ]
  },
  {
   "cell_type": "markdown",
   "metadata": {},
   "source": [
    "<h3>Subtask 1 only</h3>"
   ]
  },
  {
   "cell_type": "code",
   "execution_count": 46,
   "metadata": {},
   "outputs": [
    {
     "data": {
      "text/plain": [
       "Index(['HATE', 'NOT', 'OFFN'], dtype='object')"
      ]
     },
     "execution_count": 46,
     "metadata": {},
     "output_type": "execute_result"
    }
   ],
   "source": [
    "t1_headers = t1a2_headers[:-1]\n",
    "t1_headers"
   ]
  },
  {
   "cell_type": "code",
   "execution_count": 47,
   "metadata": {},
   "outputs": [],
   "source": [
    "# Instantiate Classifier\n",
    "ovr_classifier = make_pipeline(\n",
    "    TfidfVectorizer(),\n",
    "    OneVsRestClassifier(svm.SVC(kernel='linear', probability=True))\n",
    ")"
   ]
  },
  {
   "cell_type": "code",
   "execution_count": 48,
   "metadata": {},
   "outputs": [
    {
     "data": {
      "text/plain": [
       "Pipeline(steps=[('tfidfvectorizer', TfidfVectorizer()),\n",
       "                ('onevsrestclassifier',\n",
       "                 OneVsRestClassifier(estimator=SVC(kernel='linear',\n",
       "                                                   probability=True)))])"
      ]
     },
     "execution_count": 48,
     "metadata": {},
     "output_type": "execute_result"
    }
   ],
   "source": [
    "t1_classifier = ovr_classifier.fit(X=train_df[\"text\"], y=train_df[t1_headers])\n",
    "t1_classifier"
   ]
  },
  {
   "cell_type": "code",
   "execution_count": 49,
   "metadata": {},
   "outputs": [
    {
     "name": "stdout",
     "output_type": "stream",
     "text": [
      "SVM subtask 1 Accuracy Score ->  0.42904399603043336\n"
     ]
    }
   ],
   "source": [
    "predictions_t1 = t1_classifier.predict(test_df[\"text\"])\n",
    "t1_score = accuracy_score(predictions_t1, test_df[t1_headers])\n",
    "print(\"SVM subtask 1 Accuracy Score -> \",t1_score)"
   ]
  },
  {
   "cell_type": "markdown",
   "metadata": {},
   "source": [
    "<h5>Export Model</h5>"
   ]
  },
  {
   "cell_type": "code",
   "execution_count": 50,
   "metadata": {},
   "outputs": [
    {
     "data": {
      "text/plain": [
       "['../out/final-test-nostops/t1_classifier.joblib.z']"
      ]
     },
     "execution_count": 50,
     "metadata": {},
     "output_type": "execute_result"
    }
   ],
   "source": [
    "filename = \"t1_classifier.joblib.z\"\n",
    "path = out_directory + filename\n",
    "dump(t1_classifier, path)"
   ]
  },
  {
   "cell_type": "markdown",
   "metadata": {},
   "source": [
    "<h5>Tests</h5>"
   ]
  },
  {
   "cell_type": "code",
   "execution_count": 51,
   "metadata": {},
   "outputs": [
    {
     "name": "stdout",
     "output_type": "stream",
     "text": [
      "INPUT: Girl bitches should just kill themselves if they don't know how to cook\n",
      "  HATE: 19.35464123582532\n",
      "  NOT: 61.83813268828543\n",
      "  OFFN: 70.42833729740113\n",
      "PREDICTION: [0 1 1]\n",
      "\n",
      "INPUT: gay people are mentally ill\n",
      "  HATE: 48.69173745923237\n",
      "  NOT: 73.4120027372516\n",
      "  OFFN: 72.97846106693707\n",
      "PREDICTION: [0 1 1]\n",
      "\n",
      "INPUT: Islam people are all terrorists\n",
      "  HATE: 49.198726142226135\n",
      "  NOT: 27.053304969725435\n",
      "  OFFN: 50.0\n",
      "PREDICTION: [0 0 0]\n",
      "\n",
      "INPUT: Asians should just go back to their country, all they do is take our jobs\n",
      "  HATE: 37.015984163785724\n",
      "  NOT: 46.93459711988959\n",
      "  OFFN: 65.42602146831305\n",
      "PREDICTION: [0 0 1]\n",
      "\n",
      "INPUT: If you want to make the world a better place, look at yourself and make a change\n",
      "  HATE: 17.302918773454596\n",
      "  NOT: 82.27405626641668\n",
      "  OFFN: 43.36786996358617\n",
      "PREDICTION: [0 1 0]\n",
      "\n"
     ]
    }
   ],
   "source": [
    "text1 = \"Girl bitches should just kill themselves if they don't know how to cook\"\n",
    "text2 = \"gay people are mentally ill\"\n",
    "text3 = \"Islam people are all terrorists\"\n",
    "text4 = \"Asians should just go back to their country, all they do is take our jobs\"\n",
    "text5 = \"If you want to make the world a better place, look at yourself and make a change\"\n",
    "sample_texts = [text1, text2, text3, text4, text5]\n",
    "\n",
    "for text in sample_texts:\n",
    "    arr = [text]\n",
    "    classes = t1_classifier.classes_\n",
    "    proba = t1_classifier.predict_proba(arr)[0]\n",
    "    pred = t1_classifier.predict(arr)[0]\n",
    "\n",
    "    headers = t1_headers\n",
    "\n",
    "    print(f'INPUT: {text}')\n",
    "    for i,e in enumerate(classes):\n",
    "        print(f'  {headers[i]}: {proba[i]*100}')\n",
    "    print(f'PREDICTION: {pred}\\n')"
   ]
  },
  {
   "cell_type": "markdown",
   "metadata": {},
   "source": [
    "<h4>Subtask 2</h4>"
   ]
  },
  {
   "cell_type": "code",
   "execution_count": 52,
   "metadata": {},
   "outputs": [],
   "source": [
    "t2_headers = [\"PRFN\"]"
   ]
  },
  {
   "cell_type": "code",
   "execution_count": 53,
   "metadata": {},
   "outputs": [],
   "source": [
    "# Instantiate Classifier\n",
    "ovr_classifier = make_pipeline(\n",
    "    TfidfVectorizer(),\n",
    "    svm.SVC(kernel='linear', probability=True)\n",
    ")"
   ]
  },
  {
   "cell_type": "code",
   "execution_count": 54,
   "metadata": {},
   "outputs": [
    {
     "name": "stderr",
     "output_type": "stream",
     "text": [
      "C:\\Users\\bayquen\\AppData\\Local\\Programs\\Python\\Python310\\lib\\site-packages\\sklearn\\utils\\validation.py:993: DataConversionWarning: A column-vector y was passed when a 1d array was expected. Please change the shape of y to (n_samples, ), for example using ravel().\n",
      "  y = column_or_1d(y, warn=True)\n"
     ]
    },
    {
     "data": {
      "text/plain": [
       "Pipeline(steps=[('tfidfvectorizer', TfidfVectorizer()),\n",
       "                ('svc', SVC(kernel='linear', probability=True))])"
      ]
     },
     "execution_count": 54,
     "metadata": {},
     "output_type": "execute_result"
    }
   ],
   "source": [
    "t2_classifier = ovr_classifier.fit(X=train_df[\"text\"], y=train_df[t2_headers])\n",
    "t2_classifier"
   ]
  },
  {
   "cell_type": "code",
   "execution_count": 55,
   "metadata": {},
   "outputs": [
    {
     "name": "stdout",
     "output_type": "stream",
     "text": [
      "SVM subtask 2 Accuracy Score ->  0.9047304002646378\n"
     ]
    }
   ],
   "source": [
    "predictions_t2 = t2_classifier.predict(test_df[\"text\"])\n",
    "t2_score = accuracy_score(predictions_t2, test_df[t2_headers])\n",
    "print(\"SVM subtask 2 Accuracy Score -> \",t2_score)"
   ]
  },
  {
   "cell_type": "markdown",
   "metadata": {},
   "source": [
    "<h5>Export Model</h5>"
   ]
  },
  {
   "cell_type": "code",
   "execution_count": 56,
   "metadata": {},
   "outputs": [
    {
     "data": {
      "text/plain": [
       "['../out/final-test-nostops/t2_classifier.joblib.z']"
      ]
     },
     "execution_count": 56,
     "metadata": {},
     "output_type": "execute_result"
    }
   ],
   "source": [
    "filename = \"t2_classifier.joblib.z\"\n",
    "path = out_directory + filename\n",
    "dump(t1_classifier, path)"
   ]
  },
  {
   "cell_type": "markdown",
   "metadata": {},
   "source": [
    "<h5>Tests</h5>"
   ]
  },
  {
   "cell_type": "code",
   "execution_count": 57,
   "metadata": {},
   "outputs": [
    {
     "name": "stdout",
     "output_type": "stream",
     "text": [
      "INPUT: Girl bitches should just kill themselves if they don't know how to cook\n",
      "  0: 1.3471971910918366e-11\n",
      "  1: 99.99999999998653\n",
      "PREDICTION: 1\n",
      "\n",
      "INPUT: gay people are mentally ill\n",
      "  0: 0.9356237404091984\n",
      "  1: 99.06437625959079\n",
      "PREDICTION: 1\n",
      "\n",
      "INPUT: Islam people are all terrorists\n",
      "  0: 84.95115837014046\n",
      "  1: 15.048841629859533\n",
      "PREDICTION: 0\n",
      "\n",
      "INPUT: Asians should just go back to their country, all they do is take our jobs\n",
      "  0: 1.693657396981723\n",
      "  1: 98.30634260301827\n",
      "PREDICTION: 1\n",
      "\n",
      "INPUT: If you want to make the world a better place, look at yourself and make a change\n",
      "  0: 76.8756405306856\n",
      "  1: 23.124359469314406\n",
      "PREDICTION: 0\n",
      "\n"
     ]
    }
   ],
   "source": [
    "text1 = \"Girl bitches should just kill themselves if they don't know how to cook\"\n",
    "text2 = \"gay people are mentally ill\"\n",
    "text3 = \"Islam people are all terrorists\"\n",
    "text4 = \"Asians should just go back to their country, all they do is take our jobs\"\n",
    "text5 = \"If you want to make the world a better place, look at yourself and make a change\"\n",
    "sample_texts = [text1, text2, text3, text4, text5]\n",
    "\n",
    "for text in sample_texts:\n",
    "    arr = [text]\n",
    "    classes = t2_classifier.classes_\n",
    "    proba = t2_classifier.predict_proba(arr)[0]\n",
    "    pred = t2_classifier.predict(arr)[0]\n",
    "\n",
    "    headers = classes\n",
    "\n",
    "    print(f'INPUT: {text}')\n",
    "    for i,e in enumerate(classes):\n",
    "        print(f'  {headers[i]}: {proba[i]*100}')\n",
    "    print(f'PREDICTION: {pred}\\n')"
   ]
  },
  {
   "cell_type": "code",
   "execution_count": 58,
   "metadata": {},
   "outputs": [
    {
     "name": "stdout",
     "output_type": "stream",
     "text": [
      "no stop words accuracies:\n",
      "[0.39034072113794244, 0.3833939794905723, 0.42904399603043336, 0.9047304002646378]\n"
     ]
    }
   ],
   "source": [
    "scores = [t1a2_score, t3_score, t1_score, t2_score]\n",
    "print(\"no stop words accuracies:\")\n",
    "print(scores)"
   ]
  }
 ],
 "metadata": {
  "interpreter": {
   "hash": "2be5faf79681da6f2a61fdfdd5405d65d042280f7fba6178067603e3a2925119"
  },
  "kernelspec": {
   "display_name": "Python 3.10.0 64-bit",
   "language": "python",
   "name": "python3"
  },
  "language_info": {
   "codemirror_mode": {
    "name": "ipython",
    "version": 3
   },
   "file_extension": ".py",
   "mimetype": "text/x-python",
   "name": "python",
   "nbconvert_exporter": "python",
   "pygments_lexer": "ipython3",
   "version": "3.10.4"
  },
  "orig_nbformat": 4
 },
 "nbformat": 4,
 "nbformat_minor": 2
}

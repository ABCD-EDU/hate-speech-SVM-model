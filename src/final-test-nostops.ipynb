{
 "cells": [
  {
   "cell_type": "code",
   "execution_count": 39,
   "metadata": {},
   "outputs": [],
   "source": [
    "import pandas as pd\n",
    "import numpy as np\n",
    "# Model\n",
    "from sklearn import model_selection, svm\n",
    "from sklearn.preprocessing import LabelEncoder\n",
    "from sklearn.feature_extraction.text import TfidfVectorizer\n",
    "from sklearn.metrics import accuracy_score\n",
    "from sklearn.multiclass import OneVsRestClassifier\n",
    "# Pipeline\n",
    "from sklearn.pipeline import make_pipeline\n",
    "from joblib import dump"
   ]
  },
  {
   "cell_type": "code",
   "execution_count": 40,
   "metadata": {},
   "outputs": [],
   "source": [
    "out_directory = \"../out/final-test-nostops/\""
   ]
  },
  {
   "cell_type": "markdown",
   "metadata": {},
   "source": [
    "<h2>Organize Data</h2>"
   ]
  },
  {
   "cell_type": "code",
   "execution_count": 41,
   "metadata": {},
   "outputs": [
    {
     "data": {
      "text/html": [
       "<div>\n",
       "<style scoped>\n",
       "    .dataframe tbody tr th:only-of-type {\n",
       "        vertical-align: middle;\n",
       "    }\n",
       "\n",
       "    .dataframe tbody tr th {\n",
       "        vertical-align: top;\n",
       "    }\n",
       "\n",
       "    .dataframe thead th {\n",
       "        text-align: right;\n",
       "    }\n",
       "</style>\n",
       "<table border=\"1\" class=\"dataframe\">\n",
       "  <thead>\n",
       "    <tr style=\"text-align: right;\">\n",
       "      <th></th>\n",
       "      <th>text</th>\n",
       "      <th>HATE</th>\n",
       "      <th>NOT</th>\n",
       "      <th>OFFN</th>\n",
       "      <th>PRFN</th>\n",
       "      <th>Race</th>\n",
       "      <th>Religion</th>\n",
       "      <th>Gender</th>\n",
       "      <th>Other</th>\n",
       "      <th>None</th>\n",
       "    </tr>\n",
       "  </thead>\n",
       "  <tbody>\n",
       "    <tr>\n",
       "      <th>0</th>\n",
       "      <td>a vote for max is a vote for the white christi...</td>\n",
       "      <td>0</td>\n",
       "      <td>1</td>\n",
       "      <td>0</td>\n",
       "      <td>0</td>\n",
       "      <td>0</td>\n",
       "      <td>0</td>\n",
       "      <td>0</td>\n",
       "      <td>0</td>\n",
       "      <td>1</td>\n",
       "    </tr>\n",
       "    <tr>\n",
       "      <th>1</th>\n",
       "      <td>what a muslim does in the privacy of his own g...</td>\n",
       "      <td>1</td>\n",
       "      <td>0</td>\n",
       "      <td>0</td>\n",
       "      <td>0</td>\n",
       "      <td>1</td>\n",
       "      <td>1</td>\n",
       "      <td>0</td>\n",
       "      <td>0</td>\n",
       "      <td>0</td>\n",
       "    </tr>\n",
       "    <tr>\n",
       "      <th>2</th>\n",
       "      <td>it is in some circles but in others it the sam...</td>\n",
       "      <td>1</td>\n",
       "      <td>0</td>\n",
       "      <td>0</td>\n",
       "      <td>1</td>\n",
       "      <td>1</td>\n",
       "      <td>0</td>\n",
       "      <td>0</td>\n",
       "      <td>0</td>\n",
       "      <td>0</td>\n",
       "    </tr>\n",
       "    <tr>\n",
       "      <th>3</th>\n",
       "      <td>president trumps opinion get the son of the bi...</td>\n",
       "      <td>0</td>\n",
       "      <td>1</td>\n",
       "      <td>1</td>\n",
       "      <td>1</td>\n",
       "      <td>1</td>\n",
       "      <td>0</td>\n",
       "      <td>0</td>\n",
       "      <td>1</td>\n",
       "      <td>1</td>\n",
       "    </tr>\n",
       "    <tr>\n",
       "      <th>4</th>\n",
       "      <td>id2020 is also jabbing refugees with its micro...</td>\n",
       "      <td>0</td>\n",
       "      <td>1</td>\n",
       "      <td>1</td>\n",
       "      <td>0</td>\n",
       "      <td>0</td>\n",
       "      <td>0</td>\n",
       "      <td>0</td>\n",
       "      <td>1</td>\n",
       "      <td>1</td>\n",
       "    </tr>\n",
       "  </tbody>\n",
       "</table>\n",
       "</div>"
      ],
      "text/plain": [
       "                                                text  HATE  NOT  OFFN  PRFN  \\\n",
       "0  a vote for max is a vote for the white christi...     0    1     0     0   \n",
       "1  what a muslim does in the privacy of his own g...     1    0     0     0   \n",
       "2  it is in some circles but in others it the sam...     1    0     0     1   \n",
       "3  president trumps opinion get the son of the bi...     0    1     1     1   \n",
       "4  id2020 is also jabbing refugees with its micro...     0    1     1     0   \n",
       "\n",
       "   Race  Religion  Gender  Other  None  \n",
       "0     0         0       0      0     1  \n",
       "1     1         1       0      0     0  \n",
       "2     1         0       0      0     0  \n",
       "3     1         0       0      1     1  \n",
       "4     0         0       0      1     1  "
      ]
     },
     "execution_count": 41,
     "metadata": {},
     "output_type": "execute_result"
    }
   ],
   "source": [
    "# Read data\n",
    "# df = pd.read_csv(\"../res/dataset-final.csv\")\n",
    "\n",
    "train_df = pd.read_csv(\"../res/train_final.csv\")\n",
    "val_df = pd.read_csv(\"../res/val_final.csv\")\n",
    "test_df = pd.read_csv(\"../res/test_final.csv\")\n",
    "train_df.head()"
   ]
  },
  {
   "cell_type": "code",
   "execution_count": 42,
   "metadata": {},
   "outputs": [],
   "source": [
    "# # Organize targets\n",
    "# # Get target columns\n",
    "# headers = train_df.columns[1:]\n",
    "# # Create separate df for targets\n",
    "# y_train = train_df[headers]\n",
    "# y_val = val_df[headers]\n",
    "# y_test = test_df[headers]"
   ]
  },
  {
   "cell_type": "code",
   "execution_count": 43,
   "metadata": {},
   "outputs": [
    {
     "name": "stdout",
     "output_type": "stream",
     "text": [
      "subtask 1 and 2 headers:\n",
      "Index(['HATE', 'NOT', 'OFFN', 'PRFN'], dtype='object')\n",
      "subtask 3 headers:\n",
      "Index(['Race', 'Religion', 'Gender', 'Other', 'None'], dtype='object')\n"
     ]
    }
   ],
   "source": [
    "# Organize targets\n",
    "# Get target columns\n",
    "t1a2_headers = train_df.columns[1:5]\n",
    "print(\"subtask 1 and 2 headers:\")\n",
    "print(t1a2_headers)\n",
    "t3_headers = train_df.columns[5:]\n",
    "print(\"subtask 3 headers:\")\n",
    "print(t3_headers)"
   ]
  },
  {
   "cell_type": "markdown",
   "metadata": {},
   "source": [
    "<h2>Model Creation</h2>"
   ]
  },
  {
   "cell_type": "code",
   "execution_count": 44,
   "metadata": {},
   "outputs": [],
   "source": [
    "# Set number of samples to train with\n",
    "# train_df = train_df.iloc[:1000]"
   ]
  },
  {
   "cell_type": "markdown",
   "metadata": {},
   "source": [
    "<h4>Subtask 1 and 2</h4>"
   ]
  },
  {
   "cell_type": "code",
   "execution_count": 45,
   "metadata": {},
   "outputs": [],
   "source": [
    "# Instantiate Classifier\n",
    "ovr_classifier = make_pipeline(\n",
    "    TfidfVectorizer(),\n",
    "    OneVsRestClassifier(svm.SVC(kernel='linear', probability=True))\n",
    ")"
   ]
  },
  {
   "cell_type": "code",
   "execution_count": 46,
   "metadata": {},
   "outputs": [
    {
     "data": {
      "text/plain": [
       "Pipeline(steps=[('tfidfvectorizer', TfidfVectorizer()),\n",
       "                ('onevsrestclassifier',\n",
       "                 OneVsRestClassifier(estimator=SVC(kernel='linear',\n",
       "                                                   probability=True)))])"
      ]
     },
     "execution_count": 46,
     "metadata": {},
     "output_type": "execute_result"
    }
   ],
   "source": [
    "# Train\n",
    "t1a2_classifier = ovr_classifier.fit(X=train_df[\"text\"], y=train_df[t1a2_headers])\n",
    "t1a2_classifier"
   ]
  },
  {
   "cell_type": "code",
   "execution_count": 47,
   "metadata": {},
   "outputs": [
    {
     "name": "stdout",
     "output_type": "stream",
     "text": [
      "SVM subtask 1 and 2 Accuracy Score ->  0.29374793251736686\n"
     ]
    }
   ],
   "source": [
    "predictions_t1a2 = t1a2_classifier.predict(test_df[\"text\"])\n",
    "t1a2_score = accuracy_score(predictions_t1a2, test_df[t1a2_headers])\n",
    "print(\"SVM subtask 1 and 2 Accuracy Score -> \",t1a2_score)"
   ]
  },
  {
   "cell_type": "markdown",
   "metadata": {},
   "source": [
    "<h5>Export Model</h5>"
   ]
  },
  {
   "cell_type": "code",
   "execution_count": 48,
   "metadata": {},
   "outputs": [
    {
     "data": {
      "text/plain": [
       "['../out/final-test-nostops/t1a2_classifier.joblib.z']"
      ]
     },
     "execution_count": 48,
     "metadata": {},
     "output_type": "execute_result"
    }
   ],
   "source": [
    "filename = \"t1a2_classifier.joblib.z\"\n",
    "path = out_directory + filename\n",
    "dump(t1a2_classifier, path)"
   ]
  },
  {
   "cell_type": "markdown",
   "metadata": {},
   "source": [
    "<h5>Tests</h5>"
   ]
  },
  {
   "cell_type": "code",
   "execution_count": 49,
   "metadata": {},
   "outputs": [
    {
     "name": "stdout",
     "output_type": "stream",
     "text": [
      "INPUT: Girl bitches should just kill themselves if they don't know how to cook\n",
      "  HATE: 16.688951269961656\n",
      "  NOT: 80.4014103515127\n",
      "  OFFN: 53.94776045476994\n",
      "  PRFN: 98.96074370607147\n",
      "PREDICTION: [0 1 1 1]\n",
      "\n",
      "INPUT: gay people are mentally ill\n",
      "  HATE: 35.35444396389673\n",
      "  NOT: 43.59879339763791\n",
      "  OFFN: 44.836467577003546\n",
      "  PRFN: 90.90679558369877\n",
      "PREDICTION: [0 0 0 1]\n",
      "\n",
      "INPUT: Islam people are all terrorists\n",
      "  HATE: 69.84350145014395\n",
      "  NOT: 19.69572802884418\n",
      "  OFFN: 56.618592796242865\n",
      "  PRFN: 34.97268521214012\n",
      "PREDICTION: [1 0 1 1]\n",
      "\n",
      "INPUT: Asians should just go back to their country, all they do is take our jobs\n",
      "  HATE: 63.89309203143735\n",
      "  NOT: 34.80352651865118\n",
      "  OFFN: 55.72525595857244\n",
      "  PRFN: 91.59353783121483\n",
      "PREDICTION: [1 0 1 1]\n",
      "\n",
      "INPUT: If you want to make the world a better place, look at yourself and make a change\n",
      "  HATE: 11.317672252060964\n",
      "  NOT: 62.799544666276105\n",
      "  OFFN: 42.86882436898312\n",
      "  PRFN: 71.68835567985627\n",
      "PREDICTION: [0 1 0 1]\n",
      "\n"
     ]
    }
   ],
   "source": [
    "text1 = \"Girl bitches should just kill themselves if they don't know how to cook\"\n",
    "text2 = \"gay people are mentally ill\"\n",
    "text3 = \"Islam people are all terrorists\"\n",
    "text4 = \"Asians should just go back to their country, all they do is take our jobs\"\n",
    "text5 = \"If you want to make the world a better place, look at yourself and make a change\"\n",
    "sample_texts = [text1, text2, text3, text4, text5]\n",
    "\n",
    "for text in sample_texts:\n",
    "    arr = [text]\n",
    "    classes = t1a2_classifier.classes_\n",
    "    proba = t1a2_classifier.predict_proba(arr)[0]\n",
    "    pred = t1a2_classifier.predict(arr)[0]\n",
    "\n",
    "    headers = t1a2_headers\n",
    "\n",
    "    print(f'INPUT: {text}')\n",
    "    for i,e in enumerate(classes):\n",
    "        print(f'  {headers[i]}: {proba[i]*100}')\n",
    "    print(f'PREDICTION: {pred}\\n')"
   ]
  },
  {
   "cell_type": "markdown",
   "metadata": {},
   "source": [
    "<h4>Subtask 3</h4>"
   ]
  },
  {
   "cell_type": "code",
   "execution_count": 50,
   "metadata": {},
   "outputs": [],
   "source": [
    "# Instantiate Classifier\n",
    "ovr_classifier = make_pipeline(\n",
    "    TfidfVectorizer(),\n",
    "    OneVsRestClassifier(svm.SVC(kernel='linear', probability=True))\n",
    ")"
   ]
  },
  {
   "cell_type": "code",
   "execution_count": 51,
   "metadata": {},
   "outputs": [
    {
     "data": {
      "text/plain": [
       "Pipeline(steps=[('tfidfvectorizer', TfidfVectorizer()),\n",
       "                ('onevsrestclassifier',\n",
       "                 OneVsRestClassifier(estimator=SVC(kernel='linear',\n",
       "                                                   probability=True)))])"
      ]
     },
     "execution_count": 51,
     "metadata": {},
     "output_type": "execute_result"
    }
   ],
   "source": [
    "t3_classifier = ovr_classifier.fit(X=train_df[\"text\"], y=train_df[t3_headers])\n",
    "t3_classifier"
   ]
  },
  {
   "cell_type": "code",
   "execution_count": 52,
   "metadata": {},
   "outputs": [
    {
     "name": "stdout",
     "output_type": "stream",
     "text": [
      "SVM subtask 1 and 2 Accuracy Score ->  0.2911015547469401\n"
     ]
    }
   ],
   "source": [
    "predictions_t3 = t3_classifier.predict(test_df[\"text\"])\n",
    "t3_score = accuracy_score(predictions_t3, test_df[t3_headers])\n",
    "print(\"SVM subtask 1 and 2 Accuracy Score -> \",t3_score)"
   ]
  },
  {
   "cell_type": "markdown",
   "metadata": {},
   "source": [
    "<h5>Export Model</h5>"
   ]
  },
  {
   "cell_type": "code",
   "execution_count": 53,
   "metadata": {},
   "outputs": [
    {
     "data": {
      "text/plain": [
       "['../out/final-test-nostops/t3_classifier.joblib.z']"
      ]
     },
     "execution_count": 53,
     "metadata": {},
     "output_type": "execute_result"
    }
   ],
   "source": [
    "filename = \"t3_classifier.joblib.z\"\n",
    "path = out_directory + filename\n",
    "dump(t1a2_classifier, path)"
   ]
  },
  {
   "cell_type": "markdown",
   "metadata": {},
   "source": [
    "<h5>Tests</h5>"
   ]
  },
  {
   "cell_type": "code",
   "execution_count": 54,
   "metadata": {},
   "outputs": [
    {
     "name": "stdout",
     "output_type": "stream",
     "text": [
      "INPUT: Girl bitches should just kill themselves if they don't know how to cook\n",
      "  Race: 14.43491640860422\n",
      "  Religion: 2.89825195805383\n",
      "  Gender: 29.797242129469804\n",
      "  Other: 24.594931028273148\n",
      "  None: 59.569613163122256\n",
      "PREDICTION: [0 0 0 0 1]\n",
      "\n",
      "INPUT: gay people are mentally ill\n",
      "  Race: 8.622738436952131\n",
      "  Religion: 2.9648306949244514\n",
      "  Gender: 95.4941147416722\n",
      "  Other: 15.380402162795507\n",
      "  None: 50.0\n",
      "PREDICTION: [0 0 1 0 1]\n",
      "\n",
      "INPUT: Islam people are all terrorists\n",
      "  Race: 21.395105523155124\n",
      "  Religion: 99.99970388068407\n",
      "  Gender: 4.6727686001530095\n",
      "  Other: 20.8901010627742\n",
      "  None: 63.64659491706336\n",
      "PREDICTION: [0 1 0 0 1]\n",
      "\n",
      "INPUT: Asians should just go back to their country, all they do is take our jobs\n",
      "  Race: 67.03743308152758\n",
      "  Religion: 25.364683811918837\n",
      "  Gender: 11.278464823594671\n",
      "  Other: 44.18450648660156\n",
      "  None: 45.77299252607448\n",
      "PREDICTION: [1 0 0 0 0]\n",
      "\n",
      "INPUT: If you want to make the world a better place, look at yourself and make a change\n",
      "  Race: 3.723876677582325\n",
      "  Religion: 6.946434884907328\n",
      "  Gender: 11.675433499651923\n",
      "  Other: 6.991973821644559\n",
      "  None: 47.57404664439398\n",
      "PREDICTION: [0 0 0 0 0]\n",
      "\n"
     ]
    }
   ],
   "source": [
    "text1 = \"Girl bitches should just kill themselves if they don't know how to cook\"\n",
    "text2 = \"gay people are mentally ill\"\n",
    "text3 = \"Islam people are all terrorists\"\n",
    "text4 = \"Asians should just go back to their country, all they do is take our jobs\"\n",
    "text5 = \"If you want to make the world a better place, look at yourself and make a change\"\n",
    "sample_texts = [text1, text2, text3, text4, text5]\n",
    "\n",
    "for text in sample_texts:\n",
    "    arr = [text]\n",
    "    classes = t3_classifier.classes_\n",
    "    proba = t3_classifier.predict_proba(arr)[0]\n",
    "    pred = t3_classifier.predict(arr)[0]\n",
    "\n",
    "    headers = t3_headers\n",
    "\n",
    "    print(f'INPUT: {text}')\n",
    "    for i,e in enumerate(classes):\n",
    "        print(f'  {headers[i]}: {proba[i]*100}')\n",
    "    print(f'PREDICTION: {pred}\\n')"
   ]
  },
  {
   "cell_type": "markdown",
   "metadata": {},
   "source": [
    "<h3>Subtask 1 only</h3>"
   ]
  },
  {
   "cell_type": "code",
   "execution_count": 55,
   "metadata": {},
   "outputs": [
    {
     "data": {
      "text/plain": [
       "Index(['HATE', 'NOT', 'OFFN'], dtype='object')"
      ]
     },
     "execution_count": 55,
     "metadata": {},
     "output_type": "execute_result"
    }
   ],
   "source": [
    "t1_headers = t1a2_headers[:-1]\n",
    "t1_headers"
   ]
  },
  {
   "cell_type": "code",
   "execution_count": 56,
   "metadata": {},
   "outputs": [],
   "source": [
    "# Instantiate Classifier\n",
    "ovr_classifier = make_pipeline(\n",
    "    TfidfVectorizer(),\n",
    "    OneVsRestClassifier(svm.SVC(kernel='linear', probability=True))\n",
    ")"
   ]
  },
  {
   "cell_type": "code",
   "execution_count": 57,
   "metadata": {},
   "outputs": [
    {
     "data": {
      "text/plain": [
       "Pipeline(steps=[('tfidfvectorizer', TfidfVectorizer()),\n",
       "                ('onevsrestclassifier',\n",
       "                 OneVsRestClassifier(estimator=SVC(kernel='linear',\n",
       "                                                   probability=True)))])"
      ]
     },
     "execution_count": 57,
     "metadata": {},
     "output_type": "execute_result"
    }
   ],
   "source": [
    "t1_classifier = ovr_classifier.fit(X=train_df[\"text\"], y=train_df[t1_headers])\n",
    "t1_classifier"
   ]
  },
  {
   "cell_type": "code",
   "execution_count": 58,
   "metadata": {},
   "outputs": [
    {
     "name": "stdout",
     "output_type": "stream",
     "text": [
      "SVM subtask 1 Accuracy Score ->  0.33245120740985773\n"
     ]
    }
   ],
   "source": [
    "predictions_t1 = t1_classifier.predict(test_df[\"text\"])\n",
    "t1_score = accuracy_score(predictions_t1, test_df[t1_headers])\n",
    "print(\"SVM subtask 1 Accuracy Score -> \",t1_score)"
   ]
  },
  {
   "cell_type": "markdown",
   "metadata": {},
   "source": [
    "<h5>Export Model</h5>"
   ]
  },
  {
   "cell_type": "code",
   "execution_count": 59,
   "metadata": {},
   "outputs": [
    {
     "data": {
      "text/plain": [
       "['../out/final-test-nostops/t1_classifier.joblib.z']"
      ]
     },
     "execution_count": 59,
     "metadata": {},
     "output_type": "execute_result"
    }
   ],
   "source": [
    "filename = \"t1_classifier.joblib.z\"\n",
    "path = out_directory + filename\n",
    "dump(t1_classifier, path)"
   ]
  },
  {
   "cell_type": "markdown",
   "metadata": {},
   "source": [
    "<h5>Tests</h5>"
   ]
  },
  {
   "cell_type": "code",
   "execution_count": 60,
   "metadata": {},
   "outputs": [
    {
     "name": "stdout",
     "output_type": "stream",
     "text": [
      "INPUT: Girl bitches should just kill themselves if they don't know how to cook\n",
      "  HATE: 17.851060316972823\n",
      "  NOT: 80.7070080463895\n",
      "  OFFN: 53.84108409922527\n",
      "PREDICTION: [0 1 1]\n",
      "\n",
      "INPUT: gay people are mentally ill\n",
      "  HATE: 35.73990999602871\n",
      "  NOT: 42.672201913973105\n",
      "  OFFN: 45.78756288617723\n",
      "PREDICTION: [0 0 0]\n",
      "\n",
      "INPUT: Islam people are all terrorists\n",
      "  HATE: 68.23297036324374\n",
      "  NOT: 18.496165273659003\n",
      "  OFFN: 56.20019420206632\n",
      "PREDICTION: [1 0 1]\n",
      "\n",
      "INPUT: Asians should just go back to their country, all they do is take our jobs\n",
      "  HATE: 62.4548260720699\n",
      "  NOT: 33.71503135004421\n",
      "  OFFN: 55.411081648067025\n",
      "PREDICTION: [1 0 1]\n",
      "\n",
      "INPUT: If you want to make the world a better place, look at yourself and make a change\n",
      "  HATE: 12.47209568472437\n",
      "  NOT: 62.51237387034363\n",
      "  OFFN: 44.037257874573044\n",
      "PREDICTION: [0 1 0]\n",
      "\n"
     ]
    }
   ],
   "source": [
    "text1 = \"Girl bitches should just kill themselves if they don't know how to cook\"\n",
    "text2 = \"gay people are mentally ill\"\n",
    "text3 = \"Islam people are all terrorists\"\n",
    "text4 = \"Asians should just go back to their country, all they do is take our jobs\"\n",
    "text5 = \"If you want to make the world a better place, look at yourself and make a change\"\n",
    "sample_texts = [text1, text2, text3, text4, text5]\n",
    "\n",
    "for text in sample_texts:\n",
    "    arr = [text]\n",
    "    classes = t1_classifier.classes_\n",
    "    proba = t1_classifier.predict_proba(arr)[0]\n",
    "    pred = t1_classifier.predict(arr)[0]\n",
    "\n",
    "    headers = t1_headers\n",
    "\n",
    "    print(f'INPUT: {text}')\n",
    "    for i,e in enumerate(classes):\n",
    "        print(f'  {headers[i]}: {proba[i]*100}')\n",
    "    print(f'PREDICTION: {pred}\\n')"
   ]
  },
  {
   "cell_type": "markdown",
   "metadata": {},
   "source": [
    "<h4>Subtask 2</h4>"
   ]
  },
  {
   "cell_type": "code",
   "execution_count": 61,
   "metadata": {},
   "outputs": [],
   "source": [
    "t2_headers = [\"PRFN\"]"
   ]
  },
  {
   "cell_type": "code",
   "execution_count": 62,
   "metadata": {},
   "outputs": [],
   "source": [
    "# Instantiate Classifier\n",
    "ovr_classifier = make_pipeline(\n",
    "    TfidfVectorizer(),\n",
    "    svm.SVC(kernel='linear', probability=True)\n",
    ")"
   ]
  },
  {
   "cell_type": "code",
   "execution_count": 63,
   "metadata": {},
   "outputs": [
    {
     "name": "stderr",
     "output_type": "stream",
     "text": [
      "C:\\Python310\\lib\\site-packages\\sklearn\\utils\\validation.py:993: DataConversionWarning: A column-vector y was passed when a 1d array was expected. Please change the shape of y to (n_samples, ), for example using ravel().\n",
      "  y = column_or_1d(y, warn=True)\n"
     ]
    },
    {
     "data": {
      "text/plain": [
       "Pipeline(steps=[('tfidfvectorizer', TfidfVectorizer()),\n",
       "                ('svc', SVC(kernel='linear', probability=True))])"
      ]
     },
     "execution_count": 63,
     "metadata": {},
     "output_type": "execute_result"
    }
   ],
   "source": [
    "t2_classifier = ovr_classifier.fit(X=train_df[\"text\"], y=train_df[t2_headers])\n",
    "t2_classifier"
   ]
  },
  {
   "cell_type": "code",
   "execution_count": 64,
   "metadata": {},
   "outputs": [
    {
     "name": "stdout",
     "output_type": "stream",
     "text": [
      "SVM subtask 2 Accuracy Score ->  0.8647039364869336\n"
     ]
    }
   ],
   "source": [
    "predictions_t2 = t2_classifier.predict(test_df[\"text\"])\n",
    "t2_score = accuracy_score(predictions_t2, test_df[t2_headers])\n",
    "print(\"SVM subtask 2 Accuracy Score -> \",t2_score)"
   ]
  },
  {
   "cell_type": "markdown",
   "metadata": {},
   "source": [
    "<h5>Export Model</h5>"
   ]
  },
  {
   "cell_type": "code",
   "execution_count": 65,
   "metadata": {},
   "outputs": [
    {
     "data": {
      "text/plain": [
       "['../out/final-test-nostops/t2_classifier.joblib.z']"
      ]
     },
     "execution_count": 65,
     "metadata": {},
     "output_type": "execute_result"
    }
   ],
   "source": [
    "filename = \"t2_classifier.joblib.z\"\n",
    "path = out_directory + filename\n",
    "dump(t1_classifier, path)"
   ]
  },
  {
   "cell_type": "markdown",
   "metadata": {},
   "source": [
    "<h5>Tests</h5>"
   ]
  },
  {
   "cell_type": "code",
   "execution_count": 66,
   "metadata": {},
   "outputs": [
    {
     "name": "stdout",
     "output_type": "stream",
     "text": [
      "INPUT: Girl bitches should just kill themselves if they don't know how to cook\n",
      "  0: 1.0072771405956031\n",
      "  1: 98.9927228594044\n",
      "PREDICTION: 1\n",
      "\n",
      "INPUT: gay people are mentally ill\n",
      "  0: 8.918834545458237\n",
      "  1: 91.08116545454178\n",
      "PREDICTION: 1\n",
      "\n",
      "INPUT: Islam people are all terrorists\n",
      "  0: 64.85715792425549\n",
      "  1: 35.14284207574451\n",
      "PREDICTION: 1\n",
      "\n",
      "INPUT: Asians should just go back to their country, all they do is take our jobs\n",
      "  0: 8.241157510842068\n",
      "  1: 91.75884248915793\n",
      "PREDICTION: 1\n",
      "\n",
      "INPUT: If you want to make the world a better place, look at yourself and make a change\n",
      "  0: 28.007993838223694\n",
      "  1: 71.99200616177632\n",
      "PREDICTION: 1\n",
      "\n"
     ]
    }
   ],
   "source": [
    "text1 = \"Girl bitches should just kill themselves if they don't know how to cook\"\n",
    "text2 = \"gay people are mentally ill\"\n",
    "text3 = \"Islam people are all terrorists\"\n",
    "text4 = \"Asians should just go back to their country, all they do is take our jobs\"\n",
    "text5 = \"If you want to make the world a better place, look at yourself and make a change\"\n",
    "sample_texts = [text1, text2, text3, text4, text5]\n",
    "\n",
    "for text in sample_texts:\n",
    "    arr = [text]\n",
    "    classes = t2_classifier.classes_\n",
    "    proba = t2_classifier.predict_proba(arr)[0]\n",
    "    pred = t2_classifier.predict(arr)[0]\n",
    "\n",
    "    headers = classes\n",
    "\n",
    "    print(f'INPUT: {text}')\n",
    "    for i,e in enumerate(classes):\n",
    "        print(f'  {headers[i]}: {proba[i]*100}')\n",
    "    print(f'PREDICTION: {pred}\\n')"
   ]
  },
  {
   "cell_type": "code",
   "execution_count": 69,
   "metadata": {},
   "outputs": [
    {
     "name": "stdout",
     "output_type": "stream",
     "text": [
      "no stop words accuracies:\n",
      "[0.29374793251736686, 0.2911015547469401, 0.33245120740985773, 0.8647039364869336]\n"
     ]
    }
   ],
   "source": [
    "scores = [t1a2_score, t3_score, t1_score, t2_score]\n",
    "print(\"no stop words accuracies:\")\n",
    "print(scores)"
   ]
  }
 ],
 "metadata": {
  "interpreter": {
   "hash": "2be5faf79681da6f2a61fdfdd5405d65d042280f7fba6178067603e3a2925119"
  },
  "kernelspec": {
   "display_name": "Python 3.10.0 64-bit",
   "language": "python",
   "name": "python3"
  },
  "language_info": {
   "codemirror_mode": {
    "name": "ipython",
    "version": 3
   },
   "file_extension": ".py",
   "mimetype": "text/x-python",
   "name": "python",
   "nbconvert_exporter": "python",
   "pygments_lexer": "ipython3",
   "version": "3.10.0"
  },
  "orig_nbformat": 4
 },
 "nbformat": 4,
 "nbformat_minor": 2
}

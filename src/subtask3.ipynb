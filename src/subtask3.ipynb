{
 "cells": [
  {
   "cell_type": "code",
   "execution_count": 1,
   "metadata": {},
   "outputs": [],
   "source": [
    "import pandas as pd\n",
    "import numpy as np\n",
    "# Preprocessing\n",
    "import preprocessor as p\n",
    "import string\n",
    "import contractions\n",
    "from collections import defaultdict\n",
    "import nltk\n",
    "from nltk.tokenize import word_tokenize\n",
    "from nltk.stem import WordNetLemmatizer\n",
    "from nltk.corpus import wordnet as wn\n",
    "from nltk import pos_tag\n",
    "from nltk.corpus import stopwords\n",
    "# Model\n",
    "from sklearn import model_selection, svm\n",
    "from sklearn.preprocessing import LabelEncoder\n",
    "from sklearn.feature_extraction.text import TfidfVectorizer\n",
    "from sklearn.metrics import accuracy_score\n",
    "# Pipeline\n",
    "from sklearn.pipeline import make_pipeline\n",
    "from joblib import dump"
   ]
  },
  {
   "cell_type": "code",
   "execution_count": 2,
   "metadata": {},
   "outputs": [
    {
     "name": "stderr",
     "output_type": "stream",
     "text": [
      "[nltk_data] Downloading package punkt to\n",
      "[nltk_data]     C:\\Users\\LANCE\\AppData\\Roaming\\nltk_data...\n",
      "[nltk_data]   Package punkt is already up-to-date!\n",
      "[nltk_data] Downloading package wordnet to\n",
      "[nltk_data]     C:\\Users\\LANCE\\AppData\\Roaming\\nltk_data...\n",
      "[nltk_data]   Package wordnet is already up-to-date!\n",
      "[nltk_data] Downloading package omw-1.4 to\n",
      "[nltk_data]     C:\\Users\\LANCE\\AppData\\Roaming\\nltk_data...\n",
      "[nltk_data]   Package omw-1.4 is already up-to-date!\n",
      "[nltk_data] Downloading package averaged_perceptron_tagger to\n",
      "[nltk_data]     C:\\Users\\LANCE\\AppData\\Roaming\\nltk_data...\n",
      "[nltk_data]   Package averaged_perceptron_tagger is already up-to-\n",
      "[nltk_data]       date!\n",
      "[nltk_data] Downloading package stopwords to\n",
      "[nltk_data]     C:\\Users\\LANCE\\AppData\\Roaming\\nltk_data...\n",
      "[nltk_data]   Package stopwords is already up-to-date!\n"
     ]
    },
    {
     "data": {
      "text/plain": [
       "True"
      ]
     },
     "execution_count": 2,
     "metadata": {},
     "output_type": "execute_result"
    }
   ],
   "source": [
    "# Download requires corpus\n",
    "nltk.download('punkt')\n",
    "nltk.download('wordnet')\n",
    "nltk.download('omw-1.4')\n",
    "nltk.download('averaged_perceptron_tagger')\n",
    "nltk.download('stopwords')"
   ]
  },
  {
   "cell_type": "code",
   "execution_count": 3,
   "metadata": {},
   "outputs": [
    {
     "data": {
      "text/html": [
       "<div>\n",
       "<style scoped>\n",
       "    .dataframe tbody tr th:only-of-type {\n",
       "        vertical-align: middle;\n",
       "    }\n",
       "\n",
       "    .dataframe tbody tr th {\n",
       "        vertical-align: top;\n",
       "    }\n",
       "\n",
       "    .dataframe thead th {\n",
       "        text-align: right;\n",
       "    }\n",
       "</style>\n",
       "<table border=\"1\" class=\"dataframe\">\n",
       "  <thead>\n",
       "    <tr style=\"text-align: right;\">\n",
       "      <th></th>\n",
       "      <th>text</th>\n",
       "      <th>Homophobe</th>\n",
       "      <th>NotHate</th>\n",
       "      <th>OtherHate</th>\n",
       "      <th>Racist</th>\n",
       "      <th>Religion</th>\n",
       "      <th>Sexist</th>\n",
       "    </tr>\n",
       "  </thead>\n",
       "  <tbody>\n",
       "    <tr>\n",
       "      <th>0</th>\n",
       "      <td>@FriskDontMiss Nigga https://t.co/cAsaLWEpue</td>\n",
       "      <td>1</td>\n",
       "      <td>0</td>\n",
       "      <td>0</td>\n",
       "      <td>1</td>\n",
       "      <td>1</td>\n",
       "      <td>0</td>\n",
       "    </tr>\n",
       "    <tr>\n",
       "      <th>1</th>\n",
       "      <td>My horses are retarded https://t.co/HYhqc6d5WN</td>\n",
       "      <td>0</td>\n",
       "      <td>0</td>\n",
       "      <td>1</td>\n",
       "      <td>0</td>\n",
       "      <td>0</td>\n",
       "      <td>0</td>\n",
       "    </tr>\n",
       "    <tr>\n",
       "      <th>2</th>\n",
       "      <td>“NIGGA ON MA MOMMA YOUNGBOY BE SPITTING REAL S...</td>\n",
       "      <td>0</td>\n",
       "      <td>1</td>\n",
       "      <td>0</td>\n",
       "      <td>0</td>\n",
       "      <td>0</td>\n",
       "      <td>0</td>\n",
       "    </tr>\n",
       "    <tr>\n",
       "      <th>3</th>\n",
       "      <td>RT xxSuGVNGxx: I ran into this HOLY NIGGA TODA...</td>\n",
       "      <td>0</td>\n",
       "      <td>1</td>\n",
       "      <td>0</td>\n",
       "      <td>1</td>\n",
       "      <td>0</td>\n",
       "      <td>0</td>\n",
       "    </tr>\n",
       "    <tr>\n",
       "      <th>4</th>\n",
       "      <td>“EVERYbody calling you Nigger now!” https://t....</td>\n",
       "      <td>0</td>\n",
       "      <td>1</td>\n",
       "      <td>0</td>\n",
       "      <td>1</td>\n",
       "      <td>0</td>\n",
       "      <td>0</td>\n",
       "    </tr>\n",
       "  </tbody>\n",
       "</table>\n",
       "</div>"
      ],
      "text/plain": [
       "                                                text  Homophobe  NotHate  \\\n",
       "0       @FriskDontMiss Nigga https://t.co/cAsaLWEpue          1        0   \n",
       "1     My horses are retarded https://t.co/HYhqc6d5WN          0        0   \n",
       "2  “NIGGA ON MA MOMMA YOUNGBOY BE SPITTING REAL S...          0        1   \n",
       "3  RT xxSuGVNGxx: I ran into this HOLY NIGGA TODA...          0        1   \n",
       "4  “EVERYbody calling you Nigger now!” https://t....          0        1   \n",
       "\n",
       "   OtherHate  Racist  Religion  Sexist  \n",
       "0          0       1         1       0  \n",
       "1          1       0         0       0  \n",
       "2          0       0         0       0  \n",
       "3          0       1         0       0  \n",
       "4          0       1         0       0  "
      ]
     },
     "execution_count": 3,
     "metadata": {},
     "output_type": "execute_result"
    }
   ],
   "source": [
    "# Read data\n",
    "df = pd.read_csv(\"../res/preprocessed_dataset4.csv\")\n",
    "df.rename(columns={\"tweet_text\":\"text\"}, inplace=True)\n",
    "df.head()"
   ]
  },
  {
   "cell_type": "code",
   "execution_count": 4,
   "metadata": {},
   "outputs": [
    {
     "data": {
      "text/plain": [
       "5000"
      ]
     },
     "execution_count": 4,
     "metadata": {},
     "output_type": "execute_result"
    }
   ],
   "source": [
    "# FOR TRIAL AND ERROR PURPOSES\n",
    "# TODO: Remove when training for final model\n",
    "# DF is split to reduce training time for trial and error purposes\n",
    "df = df.iloc[:5000,:]\n",
    "len(df)"
   ]
  },
  {
   "cell_type": "code",
   "execution_count": 5,
   "metadata": {},
   "outputs": [],
   "source": [
    "# Clean text with twitter-preprocessor\n",
    "clean = []\n",
    "for i,v in enumerate(df['text']):\n",
    "    clean.append(p.clean(v))\n",
    "df[\"text\"] = clean\n",
    "\n",
    "# Convert to lower case\n",
    "df[\"text\"] = [entry.lower() for entry in df[\"text\"]]\n",
    "\n",
    "# Expand Contractions\n",
    "def expand_contractions(s):\n",
    "    expanded = []\n",
    "    for word in s.split():\n",
    "        expanded.append(contractions.fix(word))\n",
    "    return(' '.join(expanded))\n",
    "\n",
    "df[\"text\"] = [expand_contractions(entry) for entry in df['text']]\n",
    "\n",
    "# Remove punctuation marks\n",
    "df[\"text\"] = [entry.translate(str.maketrans('', '', string.punctuation)) for entry in df[\"text\"]]\n",
    "\n",
    "# Tokenization\n",
    "df['text']= [word_tokenize(entry) for entry in df['text']]"
   ]
  },
  {
   "cell_type": "code",
   "execution_count": 6,
   "metadata": {},
   "outputs": [],
   "source": [
    "# TODO: Experiment if NOT removing stop words will improve model accuracy\n",
    "\n",
    "# Remove Stop words, Non-Numeric and perfom Word Stemming/Lemmenting.\n",
    "# WordNetLemmatizer requires Pos tags to understand if the word is noun or verb or adjective etc. By default it is set to Noun\n",
    "tag_map = defaultdict(lambda : wn.NOUN)\n",
    "tag_map['J'] = wn.ADJ\n",
    "tag_map['V'] = wn.VERB\n",
    "tag_map['R'] = wn.ADV\n",
    "for index,entry in enumerate(df['text']):\n",
    "    # Declaring Empty List to store the words that follow the rules for this step\n",
    "    Final_words = []\n",
    "    # Initializing WordNetLemmatizer()\n",
    "    word_Lemmatized = WordNetLemmatizer()\n",
    "    # pos_tag function below will provide the 'tag' i.e if the word is Noun(N) or Verb(V) or something else.\n",
    "    for word, tag in pos_tag(entry):\n",
    "        # Below condition is to check for Stop words and consider only alphabets\n",
    "        if word not in stopwords.words('english') and word.isalpha():\n",
    "            word_Final = word_Lemmatized.lemmatize(word,tag_map[tag[0]])\n",
    "            Final_words.append(word_Final)\n",
    "    # The final processed set of words for each iteration will be stored in 'text_final'\n",
    "    df.loc[index,'text_final'] = str(Final_words)"
   ]
  },
  {
   "cell_type": "code",
   "execution_count": 7,
   "metadata": {},
   "outputs": [
    {
     "data": {
      "text/html": [
       "<div>\n",
       "<style scoped>\n",
       "    .dataframe tbody tr th:only-of-type {\n",
       "        vertical-align: middle;\n",
       "    }\n",
       "\n",
       "    .dataframe tbody tr th {\n",
       "        vertical-align: top;\n",
       "    }\n",
       "\n",
       "    .dataframe thead th {\n",
       "        text-align: right;\n",
       "    }\n",
       "</style>\n",
       "<table border=\"1\" class=\"dataframe\">\n",
       "  <thead>\n",
       "    <tr style=\"text-align: right;\">\n",
       "      <th></th>\n",
       "      <th>text</th>\n",
       "      <th>Homophobe</th>\n",
       "      <th>NotHate</th>\n",
       "      <th>OtherHate</th>\n",
       "      <th>Racist</th>\n",
       "      <th>Religion</th>\n",
       "      <th>Sexist</th>\n",
       "      <th>text_final</th>\n",
       "    </tr>\n",
       "  </thead>\n",
       "  <tbody>\n",
       "    <tr>\n",
       "      <th>0</th>\n",
       "      <td>[nigga]</td>\n",
       "      <td>1</td>\n",
       "      <td>0</td>\n",
       "      <td>0</td>\n",
       "      <td>1</td>\n",
       "      <td>1</td>\n",
       "      <td>0</td>\n",
       "      <td>['nigga']</td>\n",
       "    </tr>\n",
       "    <tr>\n",
       "      <th>1</th>\n",
       "      <td>[my, horses, are, retarded]</td>\n",
       "      <td>0</td>\n",
       "      <td>0</td>\n",
       "      <td>1</td>\n",
       "      <td>0</td>\n",
       "      <td>0</td>\n",
       "      <td>0</td>\n",
       "      <td>['horse', 'retard']</td>\n",
       "    </tr>\n",
       "    <tr>\n",
       "      <th>2</th>\n",
       "      <td>[nigga, on, ma, momma, youngboy, be, spitting,...</td>\n",
       "      <td>0</td>\n",
       "      <td>1</td>\n",
       "      <td>0</td>\n",
       "      <td>0</td>\n",
       "      <td>0</td>\n",
       "      <td>0</td>\n",
       "      <td>['nigga', 'momma', 'youngboy', 'spit', 'real',...</td>\n",
       "    </tr>\n",
       "    <tr>\n",
       "      <th>3</th>\n",
       "      <td>[xxsugvngxx, i, ran, into, this, holy, nigga, ...</td>\n",
       "      <td>0</td>\n",
       "      <td>1</td>\n",
       "      <td>0</td>\n",
       "      <td>1</td>\n",
       "      <td>0</td>\n",
       "      <td>0</td>\n",
       "      <td>['xxsugvngxx', 'run', 'holy', 'nigga', 'today']</td>\n",
       "    </tr>\n",
       "    <tr>\n",
       "      <th>4</th>\n",
       "      <td>[everybody, calling, you, nigger, now]</td>\n",
       "      <td>0</td>\n",
       "      <td>1</td>\n",
       "      <td>0</td>\n",
       "      <td>1</td>\n",
       "      <td>0</td>\n",
       "      <td>0</td>\n",
       "      <td>['everybody', 'call', 'nigger']</td>\n",
       "    </tr>\n",
       "  </tbody>\n",
       "</table>\n",
       "</div>"
      ],
      "text/plain": [
       "                                                text  Homophobe  NotHate  \\\n",
       "0                                            [nigga]          1        0   \n",
       "1                        [my, horses, are, retarded]          0        0   \n",
       "2  [nigga, on, ma, momma, youngboy, be, spitting,...          0        1   \n",
       "3  [xxsugvngxx, i, ran, into, this, holy, nigga, ...          0        1   \n",
       "4             [everybody, calling, you, nigger, now]          0        1   \n",
       "\n",
       "   OtherHate  Racist  Religion  Sexist  \\\n",
       "0          0       1         1       0   \n",
       "1          1       0         0       0   \n",
       "2          0       0         0       0   \n",
       "3          0       1         0       0   \n",
       "4          0       1         0       0   \n",
       "\n",
       "                                          text_final  \n",
       "0                                          ['nigga']  \n",
       "1                                ['horse', 'retard']  \n",
       "2  ['nigga', 'momma', 'youngboy', 'spit', 'real',...  \n",
       "3    ['xxsugvngxx', 'run', 'holy', 'nigga', 'today']  \n",
       "4                    ['everybody', 'call', 'nigger']  "
      ]
     },
     "execution_count": 7,
     "metadata": {},
     "output_type": "execute_result"
    }
   ],
   "source": [
    "df.head()"
   ]
  },
  {
   "cell_type": "markdown",
   "metadata": {},
   "source": [
    "Reference for multilabel preprocessing: https://www.section.io/engineering-education/multi-label-classification-with-scikit-multilearn/"
   ]
  },
  {
   "cell_type": "code",
   "execution_count": 8,
   "metadata": {},
   "outputs": [],
   "source": [
    "# Get labels\n",
    "y = df[[\"Homophobe\", \"NotHate\", \"OtherHate\", \"Racist\", \"Religion\", \"Sexist\"]]\n",
    "# Split train - test; 70/30\n",
    "train_x, test_x, train_y, test_y = model_selection.train_test_split(df['text_final'],y,test_size=0.3)"
   ]
  },
  {
   "cell_type": "markdown",
   "metadata": {},
   "source": [
    "<H1>Creation of Model </H1>"
   ]
  },
  {
   "cell_type": "code",
   "execution_count": 9,
   "metadata": {},
   "outputs": [],
   "source": [
    "# pip install scikit-multilearn\n",
    "from skmultilearn.problem_transform import BinaryRelevance\n",
    "from sklearn.multiclass import OneVsRestClassifier\n",
    "from skmultilearn.problem_transform import ClassifierChain\n",
    "from skmultilearn.problem_transform import LabelPowerset"
   ]
  },
  {
   "cell_type": "markdown",
   "metadata": {},
   "source": [
    "<h4>BinaryRevelance</h4>"
   ]
  },
  {
   "cell_type": "code",
   "execution_count": 10,
   "metadata": {},
   "outputs": [
    {
     "data": {
      "text/plain": [
       "Pipeline(steps=[('tfidfvectorizer', TfidfVectorizer()),\n",
       "                ('binaryrelevance',\n",
       "                 BinaryRelevance(classifier=SVC(kernel='linear',\n",
       "                                                probability=True),\n",
       "                                 require_dense=[True, True]))])"
      ]
     },
     "execution_count": 10,
     "metadata": {},
     "output_type": "execute_result"
    }
   ],
   "source": [
    "br_classifier = make_pipeline(\n",
    "    TfidfVectorizer(),\n",
    "    BinaryRelevance(svm.SVC(kernel='linear', probability=True))\n",
    ")\n",
    "br_classifier = br_classifier.fit(X=train_x, y=train_y)\n",
    "br_classifier"
   ]
  },
  {
   "cell_type": "code",
   "execution_count": 11,
   "metadata": {},
   "outputs": [
    {
     "name": "stdout",
     "output_type": "stream",
     "text": [
      "SVM Accuracy Score ->  0.40066666666666667\n"
     ]
    }
   ],
   "source": [
    "predictions_br = br_classifier.predict(test_x)\n",
    "print(\"SVM Accuracy Score -> \",accuracy_score(predictions_br, test_y))"
   ]
  },
  {
   "cell_type": "markdown",
   "metadata": {},
   "source": [
    "<h4>One vs Rest</h4>"
   ]
  },
  {
   "cell_type": "code",
   "execution_count": 12,
   "metadata": {},
   "outputs": [
    {
     "data": {
      "text/plain": [
       "Pipeline(steps=[('tfidfvectorizer', TfidfVectorizer()),\n",
       "                ('onevsrestclassifier',\n",
       "                 OneVsRestClassifier(estimator=SVC(kernel='linear',\n",
       "                                                   probability=True)))])"
      ]
     },
     "execution_count": 12,
     "metadata": {},
     "output_type": "execute_result"
    }
   ],
   "source": [
    "ovr_classifier = make_pipeline(\n",
    "    TfidfVectorizer(),\n",
    "    OneVsRestClassifier(svm.SVC(kernel='linear', probability=True))\n",
    ")\n",
    "ovr_classifier = ovr_classifier.fit(X=train_x, y=train_y)\n",
    "ovr_classifier"
   ]
  },
  {
   "cell_type": "code",
   "execution_count": 13,
   "metadata": {},
   "outputs": [
    {
     "name": "stdout",
     "output_type": "stream",
     "text": [
      "SVM Accuracy Score ->  0.40066666666666667\n"
     ]
    }
   ],
   "source": [
    "predictions_ovr = ovr_classifier.predict(test_x)\n",
    "print(\"SVM Accuracy Score -> \",accuracy_score(predictions_ovr, test_y))"
   ]
  },
  {
   "cell_type": "markdown",
   "metadata": {},
   "source": [
    "<h4>Classifer Chain</h4>"
   ]
  },
  {
   "cell_type": "code",
   "execution_count": 14,
   "metadata": {},
   "outputs": [
    {
     "data": {
      "text/plain": [
       "Pipeline(steps=[('tfidfvectorizer', TfidfVectorizer()),\n",
       "                ('classifierchain',\n",
       "                 ClassifierChain(classifier=SVC(kernel='linear',\n",
       "                                                probability=True),\n",
       "                                 require_dense=[True, True]))])"
      ]
     },
     "execution_count": 14,
     "metadata": {},
     "output_type": "execute_result"
    }
   ],
   "source": [
    "cf_classifier = make_pipeline(\n",
    "    TfidfVectorizer(),\n",
    "    ClassifierChain(svm.SVC(kernel='linear', probability=True))\n",
    ")\n",
    "cf_classifier = cf_classifier.fit(X=train_x, y=train_y)\n",
    "cf_classifier"
   ]
  },
  {
   "cell_type": "code",
   "execution_count": 15,
   "metadata": {},
   "outputs": [
    {
     "name": "stdout",
     "output_type": "stream",
     "text": [
      "SVM Accuracy Score ->  0.4013333333333333\n"
     ]
    }
   ],
   "source": [
    "predictions_cf = cf_classifier.predict(test_x)\n",
    "print(\"SVM Accuracy Score -> \",accuracy_score(predictions_cf, test_y))"
   ]
  },
  {
   "cell_type": "markdown",
   "metadata": {},
   "source": [
    "<h4>Label Powerset</h4> "
   ]
  },
  {
   "cell_type": "code",
   "execution_count": 16,
   "metadata": {},
   "outputs": [
    {
     "data": {
      "text/plain": [
       "Pipeline(steps=[('tfidfvectorizer', TfidfVectorizer()),\n",
       "                ('labelpowerset',\n",
       "                 LabelPowerset(classifier=SVC(kernel='linear',\n",
       "                                              probability=True),\n",
       "                               require_dense=[True, True]))])"
      ]
     },
     "execution_count": 16,
     "metadata": {},
     "output_type": "execute_result"
    }
   ],
   "source": [
    "lp_classifier = make_pipeline(\n",
    "    TfidfVectorizer(),\n",
    "    LabelPowerset(svm.SVC(kernel='linear', probability=True))\n",
    ")\n",
    "lp_classifier = lp_classifier.fit(X=train_x, y=train_y)\n",
    "lp_classifier"
   ]
  },
  {
   "cell_type": "code",
   "execution_count": 17,
   "metadata": {},
   "outputs": [
    {
     "name": "stdout",
     "output_type": "stream",
     "text": [
      "SVM Accuracy Score ->  0.38466666666666666\n"
     ]
    }
   ],
   "source": [
    "predictions_lp = lp_classifier.predict(test_x)\n",
    "print(\"SVM Accuracy Score -> \",accuracy_score(predictions_lp, test_y))"
   ]
  },
  {
   "cell_type": "code",
   "execution_count": 18,
   "metadata": {},
   "outputs": [],
   "source": [
    "classifer_names = [\"BinaryRelevance\", \"OneVSRest\", \"ClassifierChain\", \"LabelPowerset\"]\n",
    "classifiers = [br_classifier, ovr_classifier, cf_classifier, lp_classifier]"
   ]
  },
  {
   "cell_type": "markdown",
   "metadata": {},
   "source": [
    "<h2>Make a Single prediction</h2>"
   ]
  },
  {
   "cell_type": "code",
   "execution_count": 19,
   "metadata": {},
   "outputs": [],
   "source": [
    "# Create preprocessing function\n",
    "def preprocess(text):\n",
    "    # twitter-presprocessor\n",
    "    text = p.clean(text)\n",
    "    # lower case\n",
    "    text = text.lower()\n",
    "    # Expand Contractions\n",
    "    expanded = []\n",
    "    for word in text.split():\n",
    "        expanded.append(contractions.fix(word))\n",
    "    text = ' '.join(expanded)\n",
    "    # Remove punctuation marks\n",
    "    text = text.translate(str.maketrans('', '', string.punctuation))\n",
    "    # Tokenization\n",
    "    text = word_tokenize(text)\n",
    "    \n",
    "    lemmanized = preprocess_part2(text)\n",
    "\n",
    "    # return str(text)\n",
    "    return lemmanized\n",
    "\n",
    "def preprocess_part2(text):\n",
    "    tag_map = defaultdict(lambda : wn.NOUN)\n",
    "    tag_map['J'] = wn.ADJ\n",
    "    tag_map['V'] = wn.VERB\n",
    "    tag_map['R'] = wn.ADV\n",
    "    # Declaring Empty List to store the words that follow the rules for this step\n",
    "    Final_words = []\n",
    "    # Initializing WordNetLemmatizer()\n",
    "    word_Lemmatized = WordNetLemmatizer()\n",
    "    # pos_tag function below will provide the 'tag' i.e if the word is Noun(N) or Verb(V) or something else.\n",
    "    for word, tag in pos_tag(text):\n",
    "        # Below condition is to check for Stop words and consider only alphabets\n",
    "        if word not in stopwords.words('english') and word.isalpha():\n",
    "            word_Final = word_Lemmatized.lemmatize(word,tag_map[tag[0]])\n",
    "            Final_words.append(word_Final)\n",
    "    return str(Final_words)\n"
   ]
  },
  {
   "cell_type": "code",
   "execution_count": 20,
   "metadata": {},
   "outputs": [
    {
     "name": "stdout",
     "output_type": "stream",
     "text": [
      "INPUT: Girl bitches should just kill themselves if they don't know how to cook\n",
      "  Homophobe: 3.417265185378283\n",
      "  NotHate: 95.08715609313548\n",
      "  OtherHate: 15.957655844436799\n",
      "  Racist: 27.252884323461775\n",
      "  Religion: 1.5984497986154251\n",
      "  Sexist: 14.28566715101337\n",
      "PREDICTION: [0 1 0 0 0 0]\n",
      "\n",
      "INPUT: gay people are mentally ill\n",
      "  Homophobe: 45.41112484013117\n",
      "  NotHate: 90.52057736482844\n",
      "  OtherHate: 50.74865019187449\n",
      "  Racist: 25.283556688546444\n",
      "  Religion: 1.4666829793156884\n",
      "  Sexist: 10.843994189985157\n",
      "PREDICTION: [1 1 1 0 0 0]\n",
      "\n",
      "INPUT: Islam people are all terrorists\n",
      "  Homophobe: 6.697683877919598\n",
      "  NotHate: 94.36657668527072\n",
      "  OtherHate: 11.51885068948646\n",
      "  Racist: 30.595237924415574\n",
      "  Religion: 45.29051010145928\n",
      "  Sexist: 7.929021617020744\n",
      "PREDICTION: [0 1 0 0 0 0]\n",
      "\n",
      "INPUT: Asians should just go back to their country, all they do is take our jobs\n",
      "  Homophobe: 2.409895364250828\n",
      "  NotHate: 93.27200330271448\n",
      "  OtherHate: 12.963688800543943\n",
      "  Racist: 45.17053790875567\n",
      "  Religion: 1.4732540693644378\n",
      "  Sexist: 14.797615304578807\n",
      "PREDICTION: [0 1 0 0 0 0]\n",
      "\n"
     ]
    }
   ],
   "source": [
    "text1 = \"Girl bitches should just kill themselves if they don't know how to cook\"\n",
    "text2 = \"gay people are mentally ill\"\n",
    "text3 = \"Islam people are all terrorists\"\n",
    "text4 = \"Asians should just go back to their country, all they do is take our jobs\"\n",
    "text5 = \"If you want to make the world a better place, look at yourself and make a change\"\n",
    "sample_texts = [text1, text2, text3, text4, text5]\n",
    "\n",
    "for text in sample_texts:\n",
    "    arr = [preprocess(text)]\n",
    "    classes = ovr_classifier.classes_\n",
    "    proba = ovr_classifier.predict_proba(arr)[0]\n",
    "    pred = ovr_classifier.predict(arr)[0]\n",
    "\n",
    "    headers = y.columns\n",
    "\n",
    "    print(f'INPUT: {text}')\n",
    "    for i,e in enumerate(classes):\n",
    "        print(f'  {headers[i]}: {proba[i]*100}')\n",
    "    print(f'PREDICTION: {pred}\\n')"
   ]
  },
  {
   "cell_type": "code",
   "execution_count": 23,
   "metadata": {},
   "outputs": [
    {
     "name": "stdout",
     "output_type": "stream",
     "text": [
      "------------ BinaryRelevance ------------\n",
      "\n"
     ]
    },
    {
     "ename": "AttributeError",
     "evalue": "'BinaryRelevance' object has no attribute 'classes_'",
     "output_type": "error",
     "traceback": [
      "\u001b[1;31m---------------------------------------------------------------------------\u001b[0m",
      "\u001b[1;31mAttributeError\u001b[0m                            Traceback (most recent call last)",
      "Input \u001b[1;32mIn [23]\u001b[0m, in \u001b[0;36m<cell line: 1>\u001b[1;34m()\u001b[0m\n\u001b[0;32m      3\u001b[0m \u001b[38;5;28;01mfor\u001b[39;00m text \u001b[38;5;129;01min\u001b[39;00m sample_texts:\n\u001b[0;32m      4\u001b[0m     arr \u001b[38;5;241m=\u001b[39m [preprocess(text)]\n\u001b[1;32m----> 5\u001b[0m     classes \u001b[38;5;241m=\u001b[39m \u001b[43mclassifier\u001b[49m\u001b[38;5;241;43m.\u001b[39;49m\u001b[43mclasses_\u001b[49m\n\u001b[0;32m      6\u001b[0m     proba \u001b[38;5;241m=\u001b[39m classifier\u001b[38;5;241m.\u001b[39mpredict_proba(arr)[\u001b[38;5;241m0\u001b[39m]\n\u001b[0;32m      7\u001b[0m     pred \u001b[38;5;241m=\u001b[39m classifier\u001b[38;5;241m.\u001b[39mpredict(arr)[\u001b[38;5;241m0\u001b[39m]\n",
      "File \u001b[1;32m~\\anaconda3\\envs\\jessie\\lib\\site-packages\\sklearn\\pipeline.py:716\u001b[0m, in \u001b[0;36mPipeline.classes_\u001b[1;34m(self)\u001b[0m\n\u001b[0;32m    713\u001b[0m \u001b[38;5;129m@property\u001b[39m\n\u001b[0;32m    714\u001b[0m \u001b[38;5;28;01mdef\u001b[39;00m \u001b[38;5;21mclasses_\u001b[39m(\u001b[38;5;28mself\u001b[39m):\n\u001b[0;32m    715\u001b[0m     \u001b[38;5;124;03m\"\"\"The classes labels. Only exist if the last step is a classifier.\"\"\"\u001b[39;00m\n\u001b[1;32m--> 716\u001b[0m     \u001b[38;5;28;01mreturn\u001b[39;00m \u001b[38;5;28;43mself\u001b[39;49m\u001b[38;5;241;43m.\u001b[39;49m\u001b[43msteps\u001b[49m\u001b[43m[\u001b[49m\u001b[38;5;241;43m-\u001b[39;49m\u001b[38;5;241;43m1\u001b[39;49m\u001b[43m]\u001b[49m\u001b[43m[\u001b[49m\u001b[38;5;241;43m1\u001b[39;49m\u001b[43m]\u001b[49m\u001b[38;5;241;43m.\u001b[39;49m\u001b[43mclasses_\u001b[49m\n",
      "\u001b[1;31mAttributeError\u001b[0m: 'BinaryRelevance' object has no attribute 'classes_'"
     ]
    }
   ],
   "source": [
    "for i,classifier in enumerate(classifiers):\n",
    "    print(f\"------------ {classifer_names[i]} ------------\\n\")\n",
    "    for text in sample_texts:\n",
    "        arr = [preprocess(text)]\n",
    "        classes = classifier.classes_\n",
    "        proba = classifier.predict_proba(arr)[0]\n",
    "        pred = classifier.predict(arr)[0]\n",
    "\n",
    "        headers = y.columns\n",
    "\n",
    "        print(f'INPUT: {text}')\n",
    "        for i,e in enumerate(classes):\n",
    "            print(f'  {headers[i]}: {proba[i]*100}')\n",
    "        print(f'PREDICTION: {pred}\\n')"
   ]
  },
  {
   "cell_type": "markdown",
   "metadata": {},
   "source": [
    "<h2>Export Classifier Models</h2>"
   ]
  },
  {
   "cell_type": "code",
   "execution_count": 25,
   "metadata": {},
   "outputs": [],
   "source": [
    "# Export model as joblib file\n",
    "for i,classifier in enumerate(classifiers):\n",
    "    filename = classifer_names[i] + \".joblib.z\"\n",
    "    path = \"../out/subtask3/\" + filename\n",
    "    dump(classifier, path)"
   ]
  },
  {
   "cell_type": "markdown",
   "metadata": {},
   "source": [
    "<H2>Load Models</H2>"
   ]
  },
  {
   "cell_type": "code",
   "execution_count": 35,
   "metadata": {},
   "outputs": [],
   "source": [
    "from joblib import load "
   ]
  },
  {
   "cell_type": "code",
   "execution_count": 61,
   "metadata": {},
   "outputs": [],
   "source": [
    "text1 = \"Girl bitches should just kill themselves if they don't know how to cook\"\n",
    "text2 = \"gay people are mentally ill\"\n",
    "text3 = \"Islam people are all terrorists\"\n",
    "text4 = \"Asians should just go back to their country, all they do is take our jobs\"\n",
    "text5 = \"If you want to make the world a better place, look at yourself and make a change\"\n",
    "text6 = \"The mentally ill should seek help no cap\"\n",
    "sample_texts = [text1, text2, text3, text4, text5, text6]"
   ]
  },
  {
   "cell_type": "code",
   "execution_count": 53,
   "metadata": {},
   "outputs": [],
   "source": [
    "# Initialize\n",
    "path = \"../out/subtask3/\"\n",
    "extension = \".joblib.z\"\n",
    "br_classifier = load(path + \"BinaryRelevance\" + extension)\n",
    "ovr_classifier = load(path + \"OneVSRest\" + extension)\n",
    "cf_classifier = load(path + \"ClassifierChain\" + extension)\n",
    "lp_classifier = load(path + \"LabelPowerset\" + extension)"
   ]
  },
  {
   "cell_type": "code",
   "execution_count": 62,
   "metadata": {},
   "outputs": [],
   "source": [
    "classifer_names = [\"BinaryRelevance\", \"ClassifierChain\", \"LabelPowerset\"]\n",
    "classifiers = [br_classifier, cf_classifier, lp_classifier]\n",
    "headers = y.columns"
   ]
  },
  {
   "cell_type": "code",
   "execution_count": 63,
   "metadata": {},
   "outputs": [
    {
     "name": "stdout",
     "output_type": "stream",
     "text": [
      "------------ BinaryRelevance ------------\n",
      "\n",
      "INPUT: Girl bitches should just kill themselves if they don't know how to cook\n",
      "  Homophobe: 3.2266965875375706\n",
      "  NotHate: 95.10907093835792\n",
      "  OtherHate: 15.938275183210504\n",
      "  Racist: 26.94560942783787\n",
      "  Religion: 1.5721904256209234\n",
      "  Sexist: 14.230099565607837\n",
      "PREDICTION: [0 1 0 0 0 0]\n",
      "\n",
      "INPUT: gay people are mentally ill\n",
      "  Homophobe: 47.723661884801714\n",
      "  NotHate: 90.20893668375912\n",
      "  OtherHate: 53.00006168680037\n",
      "  Racist: 25.009825716168443\n",
      "  Religion: 1.4332809260186665\n",
      "  Sexist: 10.687020317583498\n",
      "PREDICTION: [1 1 1 0 0 0]\n",
      "\n",
      "INPUT: Islam people are all terrorists\n",
      "  Homophobe: 6.562874384697421\n",
      "  NotHate: 94.34908851227136\n",
      "  OtherHate: 11.297616861267496\n",
      "  Racist: 30.231812673323017\n",
      "  Religion: 50.0\n",
      "  Sexist: 7.717969503386206\n",
      "PREDICTION: [0 1 0 0 0 0]\n",
      "\n",
      "INPUT: Asians should just go back to their country, all they do is take our jobs\n",
      "  Homophobe: 2.236149474555906\n",
      "  NotHate: 93.1774648952431\n",
      "  OtherHate: 12.799872117093495\n",
      "  Racist: 44.59404307567064\n",
      "  Religion: 1.44316262454374\n",
      "  Sexist: 14.759796986080037\n",
      "PREDICTION: [0 1 0 0 0 0]\n",
      "\n",
      "INPUT: If you want to make the world a better place, look at yourself and make a change\n",
      "  Homophobe: 5.328075837816361\n",
      "  NotHate: 91.68834361845714\n",
      "  OtherHate: 19.992161692046473\n",
      "  Racist: 36.12552629858865\n",
      "  Religion: 0.902107922720342\n",
      "  Sexist: 10.581854230243284\n",
      "PREDICTION: [0 1 0 0 0 0]\n",
      "\n",
      "INPUT: The mentally ill should seek help no cap\n",
      "  Homophobe: 7.288362753593589\n",
      "  NotHate: 92.0375951930932\n",
      "  OtherHate: 36.63701802374732\n",
      "  Racist: 20.250404454874406\n",
      "  Religion: 1.0922868213552337\n",
      "  Sexist: 13.710977006798771\n",
      "PREDICTION: [0 1 0 0 0 0]\n",
      "\n",
      "------------ ClassifierChain ------------\n",
      "\n",
      "INPUT: Girl bitches should just kill themselves if they don't know how to cook\n",
      "  Homophobe: 3.2821270395070448\n",
      "  NotHate: 95.6930704911618\n",
      "  OtherHate: 12.922993217038844\n",
      "  Racist: 28.04662793859506\n",
      "  Religion: 2.0919645996515843\n",
      "  Sexist: 14.886259383099073\n",
      "PREDICTION: [0. 1. 0. 0. 0. 0.]\n",
      "\n",
      "INPUT: gay people are mentally ill\n",
      "  Homophobe: 46.26372964407871\n",
      "  NotHate: 83.90884672057219\n",
      "  OtherHate: 41.61572930334588\n",
      "  Racist: 15.292532749860225\n",
      "  Religion: 1.0915148564904582\n",
      "  Sexist: 6.192964324414195\n",
      "PREDICTION: [1. 1. 0. 0. 0. 0.]\n",
      "\n",
      "INPUT: Islam people are all terrorists\n",
      "  Homophobe: 6.560602856266998\n",
      "  NotHate: 95.10333857802927\n",
      "  OtherHate: 13.326777008953938\n",
      "  Racist: 29.84211095902829\n",
      "  Religion: 58.44877002383665\n",
      "  Sexist: 13.412208078831844\n",
      "PREDICTION: [0. 1. 0. 0. 0. 0.]\n",
      "\n",
      "INPUT: Asians should just go back to their country, all they do is take our jobs\n",
      "  Homophobe: 2.2938282278709323\n",
      "  NotHate: 92.46002913936606\n",
      "  OtherHate: 11.953696541597619\n",
      "  Racist: 46.943162458239456\n",
      "  Religion: 1.1680787834123205\n",
      "  Sexist: 9.856947991302496\n",
      "PREDICTION: [0. 1. 0. 1. 0. 0.]\n",
      "\n",
      "INPUT: If you want to make the world a better place, look at yourself and make a change\n",
      "  Homophobe: 5.35735163681736\n",
      "  NotHate: 89.92565388600666\n",
      "  OtherHate: 18.271011024819845\n",
      "  Racist: 38.87164104364804\n",
      "  Religion: 0.9838565916749528\n",
      "  Sexist: 10.672587135524548\n",
      "PREDICTION: [0. 1. 0. 0. 0. 0.]\n",
      "\n",
      "INPUT: The mentally ill should seek help no cap\n",
      "  Homophobe: 7.268584162162509\n",
      "  NotHate: 90.32762149816517\n",
      "  OtherHate: 38.38277881619464\n",
      "  Racist: 20.018433175815794\n",
      "  Religion: 1.1694231033318332\n",
      "  Sexist: 12.083250186300145\n",
      "PREDICTION: [0. 1. 0. 0. 0. 0.]\n",
      "\n",
      "------------ LabelPowerset ------------\n",
      "\n",
      "INPUT: Girl bitches should just kill themselves if they don't know how to cook\n",
      "  Homophobe: 6.234936560562432\n",
      "  NotHate: 93.42586321450251\n",
      "  OtherHate: 16.86605737403174\n",
      "  Racist: 33.90618614642186\n",
      "  Religion: 2.7497568250475712\n",
      "  Sexist: 13.0830596373269\n",
      "PREDICTION: [0 1 0 0 0 0]\n",
      "\n",
      "INPUT: gay people are mentally ill\n",
      "  Homophobe: 28.80986627224927\n",
      "  NotHate: 82.41733304987548\n",
      "  OtherHate: 36.916669231763535\n",
      "  Racist: 21.35067739576009\n",
      "  Religion: 4.4680967712907265\n",
      "  Sexist: 15.20853758696155\n",
      "PREDICTION: [0 1 1 0 0 0]\n",
      "\n",
      "INPUT: Islam people are all terrorists\n",
      "  Homophobe: 11.80249188771589\n",
      "  NotHate: 87.37680382593493\n",
      "  OtherHate: 27.367035660162088\n",
      "  Racist: 30.298856297819366\n",
      "  Religion: 8.091206456483365\n",
      "  Sexist: 14.186533694186382\n",
      "PREDICTION: [0 1 0 0 0 0]\n",
      "\n",
      "INPUT: Asians should just go back to their country, all they do is take our jobs\n",
      "  Homophobe: 5.22662089472833\n",
      "  NotHate: 95.23434006847864\n",
      "  OtherHate: 12.59259476349107\n",
      "  Racist: 41.37681278658745\n",
      "  Religion: 1.6390978628179307\n",
      "  Sexist: 10.068381201343847\n",
      "PREDICTION: [0 1 0 1 0 0]\n",
      "\n",
      "INPUT: If you want to make the world a better place, look at yourself and make a change\n",
      "  Homophobe: 8.822893813126619\n",
      "  NotHate: 92.54074038452758\n",
      "  OtherHate: 14.086752658359488\n",
      "  Racist: 37.559369298392944\n",
      "  Religion: 1.8803153413618472\n",
      "  Sexist: 12.94464429969918\n",
      "PREDICTION: [0 1 0 0 0 0]\n",
      "\n",
      "INPUT: The mentally ill should seek help no cap\n",
      "  Homophobe: 8.01074597133679\n",
      "  NotHate: 93.03558082758948\n",
      "  OtherHate: 30.1766647854362\n",
      "  Racist: 25.067019755972197\n",
      "  Religion: 2.018179423526295\n",
      "  Sexist: 12.090210078973865\n",
      "PREDICTION: [0 1 0 0 0 0]\n",
      "\n"
     ]
    }
   ],
   "source": [
    "for i,classifier in enumerate(classifiers):\n",
    "    print(f\"------------ {classifer_names[i]} ------------\\n\")\n",
    "    for text in sample_texts:\n",
    "        arr = [preprocess(text)]\n",
    "        proba = classifier.predict_proba(arr).toarray()[0]\n",
    "        pred = classifier.predict(arr).toarray()[0]\n",
    "\n",
    "        print(f'INPUT: {text}')\n",
    "        for i,e in enumerate(proba):\n",
    "            print(f'  {headers[i]}: {e*100}')\n",
    "        print(f'PREDICTION: {pred}\\n')"
   ]
  }
 ],
 "metadata": {
  "interpreter": {
   "hash": "2be5faf79681da6f2a61fdfdd5405d65d042280f7fba6178067603e3a2925119"
  },
  "kernelspec": {
   "display_name": "Python 3 (ipykernel)",
   "language": "python",
   "name": "python3"
  },
  "language_info": {
   "codemirror_mode": {
    "name": "ipython",
    "version": 3
   },
   "file_extension": ".py",
   "mimetype": "text/x-python",
   "name": "python",
   "nbconvert_exporter": "python",
   "pygments_lexer": "ipython3",
   "version": "3.9.12"
  }
 },
 "nbformat": 4,
 "nbformat_minor": 2
}

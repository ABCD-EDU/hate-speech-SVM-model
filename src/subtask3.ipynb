{
 "cells": [
  {
   "cell_type": "code",
   "execution_count": 1,
   "metadata": {},
   "outputs": [],
   "source": [
    "import pandas as pd\n",
    "import numpy as np\n",
    "# Preprocessing\n",
    "import preprocessor as p\n",
    "import string\n",
    "import contractions\n",
    "from collections import defaultdict\n",
    "import nltk\n",
    "from nltk.tokenize import word_tokenize\n",
    "from nltk.stem import WordNetLemmatizer\n",
    "from nltk.corpus import wordnet as wn\n",
    "from nltk import pos_tag\n",
    "from nltk.corpus import stopwords\n",
    "# Model\n",
    "from sklearn import model_selection, svm\n",
    "from sklearn.preprocessing import LabelEncoder\n",
    "from sklearn.feature_extraction.text import TfidfVectorizer\n",
    "from sklearn.metrics import accuracy_score\n",
    "# Pipeline\n",
    "from sklearn.pipeline import make_pipeline\n",
    "from joblib import dump"
   ]
  },
  {
   "cell_type": "code",
   "execution_count": 2,
   "metadata": {},
   "outputs": [
    {
     "name": "stderr",
     "output_type": "stream",
     "text": [
      "[nltk_data] Downloading package punkt to\n",
      "[nltk_data]     C:\\Users\\cgab\\AppData\\Roaming\\nltk_data...\n",
      "[nltk_data]   Package punkt is already up-to-date!\n",
      "[nltk_data] Downloading package wordnet to\n",
      "[nltk_data]     C:\\Users\\cgab\\AppData\\Roaming\\nltk_data...\n",
      "[nltk_data]   Package wordnet is already up-to-date!\n",
      "[nltk_data] Downloading package omw-1.4 to\n",
      "[nltk_data]     C:\\Users\\cgab\\AppData\\Roaming\\nltk_data...\n",
      "[nltk_data]   Package omw-1.4 is already up-to-date!\n",
      "[nltk_data] Downloading package averaged_perceptron_tagger to\n",
      "[nltk_data]     C:\\Users\\cgab\\AppData\\Roaming\\nltk_data...\n",
      "[nltk_data]   Package averaged_perceptron_tagger is already up-to-\n",
      "[nltk_data]       date!\n",
      "[nltk_data] Downloading package stopwords to\n",
      "[nltk_data]     C:\\Users\\cgab\\AppData\\Roaming\\nltk_data...\n",
      "[nltk_data]   Package stopwords is already up-to-date!\n"
     ]
    },
    {
     "data": {
      "text/plain": [
       "True"
      ]
     },
     "execution_count": 2,
     "metadata": {},
     "output_type": "execute_result"
    }
   ],
   "source": [
    "# Download requires corpus\n",
    "nltk.download('punkt')\n",
    "nltk.download('wordnet')\n",
    "nltk.download('omw-1.4')\n",
    "nltk.download('averaged_perceptron_tagger')\n",
    "nltk.download('stopwords')"
   ]
  },
  {
   "cell_type": "code",
   "execution_count": 3,
   "metadata": {},
   "outputs": [
    {
     "data": {
      "text/html": [
       "<div>\n",
       "<style scoped>\n",
       "    .dataframe tbody tr th:only-of-type {\n",
       "        vertical-align: middle;\n",
       "    }\n",
       "\n",
       "    .dataframe tbody tr th {\n",
       "        vertical-align: top;\n",
       "    }\n",
       "\n",
       "    .dataframe thead th {\n",
       "        text-align: right;\n",
       "    }\n",
       "</style>\n",
       "<table border=\"1\" class=\"dataframe\">\n",
       "  <thead>\n",
       "    <tr style=\"text-align: right;\">\n",
       "      <th></th>\n",
       "      <th>text</th>\n",
       "      <th>Homophobe</th>\n",
       "      <th>NotHate</th>\n",
       "      <th>OtherHate</th>\n",
       "      <th>Racist</th>\n",
       "      <th>Religion</th>\n",
       "      <th>Sexist</th>\n",
       "    </tr>\n",
       "  </thead>\n",
       "  <tbody>\n",
       "    <tr>\n",
       "      <th>0</th>\n",
       "      <td>@FriskDontMiss Nigga https://t.co/cAsaLWEpue</td>\n",
       "      <td>1</td>\n",
       "      <td>0</td>\n",
       "      <td>0</td>\n",
       "      <td>1</td>\n",
       "      <td>1</td>\n",
       "      <td>0</td>\n",
       "    </tr>\n",
       "    <tr>\n",
       "      <th>1</th>\n",
       "      <td>My horses are retarded https://t.co/HYhqc6d5WN</td>\n",
       "      <td>0</td>\n",
       "      <td>0</td>\n",
       "      <td>1</td>\n",
       "      <td>0</td>\n",
       "      <td>0</td>\n",
       "      <td>0</td>\n",
       "    </tr>\n",
       "    <tr>\n",
       "      <th>2</th>\n",
       "      <td>“NIGGA ON MA MOMMA YOUNGBOY BE SPITTING REAL S...</td>\n",
       "      <td>0</td>\n",
       "      <td>1</td>\n",
       "      <td>0</td>\n",
       "      <td>0</td>\n",
       "      <td>0</td>\n",
       "      <td>0</td>\n",
       "    </tr>\n",
       "    <tr>\n",
       "      <th>3</th>\n",
       "      <td>RT xxSuGVNGxx: I ran into this HOLY NIGGA TODA...</td>\n",
       "      <td>0</td>\n",
       "      <td>1</td>\n",
       "      <td>0</td>\n",
       "      <td>1</td>\n",
       "      <td>0</td>\n",
       "      <td>0</td>\n",
       "    </tr>\n",
       "    <tr>\n",
       "      <th>4</th>\n",
       "      <td>“EVERYbody calling you Nigger now!” https://t....</td>\n",
       "      <td>0</td>\n",
       "      <td>1</td>\n",
       "      <td>0</td>\n",
       "      <td>1</td>\n",
       "      <td>0</td>\n",
       "      <td>0</td>\n",
       "    </tr>\n",
       "  </tbody>\n",
       "</table>\n",
       "</div>"
      ],
      "text/plain": [
       "                                                text  Homophobe  NotHate  \\\n",
       "0       @FriskDontMiss Nigga https://t.co/cAsaLWEpue          1        0   \n",
       "1     My horses are retarded https://t.co/HYhqc6d5WN          0        0   \n",
       "2  “NIGGA ON MA MOMMA YOUNGBOY BE SPITTING REAL S...          0        1   \n",
       "3  RT xxSuGVNGxx: I ran into this HOLY NIGGA TODA...          0        1   \n",
       "4  “EVERYbody calling you Nigger now!” https://t....          0        1   \n",
       "\n",
       "   OtherHate  Racist  Religion  Sexist  \n",
       "0          0       1         1       0  \n",
       "1          1       0         0       0  \n",
       "2          0       0         0       0  \n",
       "3          0       1         0       0  \n",
       "4          0       1         0       0  "
      ]
     },
     "execution_count": 3,
     "metadata": {},
     "output_type": "execute_result"
    }
   ],
   "source": [
    "# Read data\n",
    "df = pd.read_csv(\"../res/preprocessed_dataset4.csv\")\n",
    "df.rename(columns={\"tweet_text\":\"text\"}, inplace=True)\n",
    "df.head()"
   ]
  },
  {
   "cell_type": "code",
   "execution_count": 4,
   "metadata": {},
   "outputs": [
    {
     "data": {
      "text/plain": [
       "5000"
      ]
     },
     "execution_count": 4,
     "metadata": {},
     "output_type": "execute_result"
    }
   ],
   "source": [
    "# FOR TRIAL AND ERROR PURPOSES\n",
    "# TODO: Remove when training for final model\n",
    "# DF is split to reduce training time for trial and error purposes\n",
    "df = df.iloc[:5000,:]\n",
    "len(df)"
   ]
  },
  {
   "cell_type": "code",
   "execution_count": 5,
   "metadata": {},
   "outputs": [],
   "source": [
    "# Clean text with twitter-preprocessor\n",
    "clean = []\n",
    "for i,v in enumerate(df['text']):\n",
    "    clean.append(p.clean(v))\n",
    "df[\"text\"] = clean\n",
    "\n",
    "# Convert to lower case\n",
    "df[\"text\"] = [entry.lower() for entry in df[\"text\"]]\n",
    "\n",
    "# Expand Contractions\n",
    "def expand_contractions(s):\n",
    "    expanded = []\n",
    "    for word in s.split():\n",
    "        expanded.append(contractions.fix(word))\n",
    "    return(' '.join(expanded))\n",
    "\n",
    "df[\"text\"] = [expand_contractions(entry) for entry in df['text']]\n",
    "\n",
    "# Remove punctuation marks\n",
    "df[\"text\"] = [entry.translate(str.maketrans('', '', string.punctuation)) for entry in df[\"text\"]]\n",
    "\n",
    "# Tokenization\n",
    "df['text']= [word_tokenize(entry) for entry in df['text']]"
   ]
  },
  {
   "cell_type": "code",
   "execution_count": 6,
   "metadata": {},
   "outputs": [],
   "source": [
    "# TODO: Experiment if NOT removing stop words will improve model accuracy\n",
    "\n",
    "# Remove Stop words, Non-Numeric and perfom Word Stemming/Lemmenting.\n",
    "# WordNetLemmatizer requires Pos tags to understand if the word is noun or verb or adjective etc. By default it is set to Noun\n",
    "tag_map = defaultdict(lambda : wn.NOUN)\n",
    "tag_map['J'] = wn.ADJ\n",
    "tag_map['V'] = wn.VERB\n",
    "tag_map['R'] = wn.ADV\n",
    "for index,entry in enumerate(df['text']):\n",
    "    # Declaring Empty List to store the words that follow the rules for this step\n",
    "    Final_words = []\n",
    "    # Initializing WordNetLemmatizer()\n",
    "    word_Lemmatized = WordNetLemmatizer()\n",
    "    # pos_tag function below will provide the 'tag' i.e if the word is Noun(N) or Verb(V) or something else.\n",
    "    for word, tag in pos_tag(entry):\n",
    "        # Below condition is to check for Stop words and consider only alphabets\n",
    "        if word not in stopwords.words('english') and word.isalpha():\n",
    "            word_Final = word_Lemmatized.lemmatize(word,tag_map[tag[0]])\n",
    "            Final_words.append(word_Final)\n",
    "    # The final processed set of words for each iteration will be stored in 'text_final'\n",
    "    df.loc[index,'text_final'] = str(Final_words)"
   ]
  },
  {
   "cell_type": "code",
   "execution_count": 7,
   "metadata": {},
   "outputs": [
    {
     "data": {
      "text/html": [
       "<div>\n",
       "<style scoped>\n",
       "    .dataframe tbody tr th:only-of-type {\n",
       "        vertical-align: middle;\n",
       "    }\n",
       "\n",
       "    .dataframe tbody tr th {\n",
       "        vertical-align: top;\n",
       "    }\n",
       "\n",
       "    .dataframe thead th {\n",
       "        text-align: right;\n",
       "    }\n",
       "</style>\n",
       "<table border=\"1\" class=\"dataframe\">\n",
       "  <thead>\n",
       "    <tr style=\"text-align: right;\">\n",
       "      <th></th>\n",
       "      <th>text</th>\n",
       "      <th>Homophobe</th>\n",
       "      <th>NotHate</th>\n",
       "      <th>OtherHate</th>\n",
       "      <th>Racist</th>\n",
       "      <th>Religion</th>\n",
       "      <th>Sexist</th>\n",
       "      <th>text_final</th>\n",
       "    </tr>\n",
       "  </thead>\n",
       "  <tbody>\n",
       "    <tr>\n",
       "      <th>0</th>\n",
       "      <td>[nigga]</td>\n",
       "      <td>1</td>\n",
       "      <td>0</td>\n",
       "      <td>0</td>\n",
       "      <td>1</td>\n",
       "      <td>1</td>\n",
       "      <td>0</td>\n",
       "      <td>['nigga']</td>\n",
       "    </tr>\n",
       "    <tr>\n",
       "      <th>1</th>\n",
       "      <td>[my, horses, are, retarded]</td>\n",
       "      <td>0</td>\n",
       "      <td>0</td>\n",
       "      <td>1</td>\n",
       "      <td>0</td>\n",
       "      <td>0</td>\n",
       "      <td>0</td>\n",
       "      <td>['horse', 'retard']</td>\n",
       "    </tr>\n",
       "    <tr>\n",
       "      <th>2</th>\n",
       "      <td>[nigga, on, ma, momma, youngboy, be, spitting,...</td>\n",
       "      <td>0</td>\n",
       "      <td>1</td>\n",
       "      <td>0</td>\n",
       "      <td>0</td>\n",
       "      <td>0</td>\n",
       "      <td>0</td>\n",
       "      <td>['nigga', 'momma', 'youngboy', 'spit', 'real',...</td>\n",
       "    </tr>\n",
       "    <tr>\n",
       "      <th>3</th>\n",
       "      <td>[xxsugvngxx, i, ran, into, this, holy, nigga, ...</td>\n",
       "      <td>0</td>\n",
       "      <td>1</td>\n",
       "      <td>0</td>\n",
       "      <td>1</td>\n",
       "      <td>0</td>\n",
       "      <td>0</td>\n",
       "      <td>['xxsugvngxx', 'run', 'holy', 'nigga', 'today']</td>\n",
       "    </tr>\n",
       "    <tr>\n",
       "      <th>4</th>\n",
       "      <td>[everybody, calling, you, nigger, now]</td>\n",
       "      <td>0</td>\n",
       "      <td>1</td>\n",
       "      <td>0</td>\n",
       "      <td>1</td>\n",
       "      <td>0</td>\n",
       "      <td>0</td>\n",
       "      <td>['everybody', 'call', 'nigger']</td>\n",
       "    </tr>\n",
       "  </tbody>\n",
       "</table>\n",
       "</div>"
      ],
      "text/plain": [
       "                                                text  Homophobe  NotHate  \\\n",
       "0                                            [nigga]          1        0   \n",
       "1                        [my, horses, are, retarded]          0        0   \n",
       "2  [nigga, on, ma, momma, youngboy, be, spitting,...          0        1   \n",
       "3  [xxsugvngxx, i, ran, into, this, holy, nigga, ...          0        1   \n",
       "4             [everybody, calling, you, nigger, now]          0        1   \n",
       "\n",
       "   OtherHate  Racist  Religion  Sexist  \\\n",
       "0          0       1         1       0   \n",
       "1          1       0         0       0   \n",
       "2          0       0         0       0   \n",
       "3          0       1         0       0   \n",
       "4          0       1         0       0   \n",
       "\n",
       "                                          text_final  \n",
       "0                                          ['nigga']  \n",
       "1                                ['horse', 'retard']  \n",
       "2  ['nigga', 'momma', 'youngboy', 'spit', 'real',...  \n",
       "3    ['xxsugvngxx', 'run', 'holy', 'nigga', 'today']  \n",
       "4                    ['everybody', 'call', 'nigger']  "
      ]
     },
     "execution_count": 7,
     "metadata": {},
     "output_type": "execute_result"
    }
   ],
   "source": [
    "df.head()"
   ]
  },
  {
   "cell_type": "markdown",
   "metadata": {},
   "source": [
    "Reference for multilabel preprocessing: https://www.section.io/engineering-education/multi-label-classification-with-scikit-multilearn/"
   ]
  },
  {
   "cell_type": "code",
   "execution_count": 8,
   "metadata": {},
   "outputs": [],
   "source": [
    "# Get labels\n",
    "y = df[[\"Homophobe\", \"NotHate\", \"OtherHate\", \"Racist\", \"Religion\", \"Sexist\"]]\n",
    "# Split train - test; 70/30\n",
    "train_x, test_x, train_y, test_y = model_selection.train_test_split(df['text_final'],y,test_size=0.3)"
   ]
  },
  {
   "cell_type": "markdown",
   "metadata": {},
   "source": [
    "<H1>Creation of Model </H1>"
   ]
  },
  {
   "cell_type": "code",
   "execution_count": 9,
   "metadata": {},
   "outputs": [],
   "source": [
    "# pip install scikit-multilearn\n",
    "from skmultilearn.problem_transform import BinaryRelevance\n",
    "from sklearn.multiclass import OneVsRestClassifier\n",
    "from skmultilearn.problem_transform import ClassifierChain\n",
    "from skmultilearn.problem_transform import LabelPowerset"
   ]
  },
  {
   "cell_type": "markdown",
   "metadata": {},
   "source": [
    "<h4>BinaryRevelance</h4>"
   ]
  },
  {
   "cell_type": "code",
   "execution_count": 35,
   "metadata": {},
   "outputs": [],
   "source": [
    "br_classifier = make_pipeline(\n",
    "    TfidfVectorizer(max_features=200000),\n",
    "    BinaryRelevance(svm.SVC(kernel='linear', probability=True))\n",
    ")\n",
    "br_classifier = br_classifier.fit(X=train_x, y=train_y)\n",
    "br_classifier"
   ]
  },
  {
   "cell_type": "code",
   "execution_count": 36,
   "metadata": {},
   "outputs": [],
   "source": [
    "predictions_br = br_classifier.predict(test_x)\n",
    "print(\"SVM Accuracy Score -> \",accuracy_score(predictions_br, test_y))"
   ]
  },
  {
   "cell_type": "markdown",
   "metadata": {},
   "source": [
    "<h4>One vs Rest</h4>"
   ]
  },
  {
   "cell_type": "code",
   "execution_count": 10,
   "metadata": {},
   "outputs": [
    {
     "data": {
      "text/plain": [
       "Pipeline(steps=[('tfidfvectorizer', TfidfVectorizer(max_features=200000)),\n",
       "                ('onevsrestclassifier',\n",
       "                 OneVsRestClassifier(estimator=SVC(kernel='linear',\n",
       "                                                   probability=True)))])"
      ]
     },
     "execution_count": 10,
     "metadata": {},
     "output_type": "execute_result"
    }
   ],
   "source": [
    "ovr_classifier = make_pipeline(\n",
    "    TfidfVectorizer(max_features=200000),\n",
    "    OneVsRestClassifier(svm.SVC(kernel='linear', probability=True))\n",
    ")\n",
    "ovr_classifier = ovr_classifier.fit(X=train_x, y=train_y)\n",
    "ovr_classifier"
   ]
  },
  {
   "cell_type": "code",
   "execution_count": 11,
   "metadata": {},
   "outputs": [
    {
     "name": "stdout",
     "output_type": "stream",
     "text": [
      "SVM Accuracy Score ->  0.4246666666666667\n"
     ]
    }
   ],
   "source": [
    "predictions_ovr = ovr_classifier.predict(test_x)\n",
    "print(\"SVM Accuracy Score -> \",accuracy_score(predictions_ovr, test_y))"
   ]
  },
  {
   "cell_type": "markdown",
   "metadata": {},
   "source": [
    "<h4>Classifer Chain</h4>"
   ]
  },
  {
   "cell_type": "code",
   "execution_count": 55,
   "metadata": {},
   "outputs": [
    {
     "data": {
      "text/plain": [
       "Pipeline(steps=[('tfidfvectorizer', TfidfVectorizer(max_features=200000)),\n",
       "                ('classifierchain',\n",
       "                 ClassifierChain(classifier=SVC(kernel='linear',\n",
       "                                                probability=True),\n",
       "                                 require_dense=[True, True]))])"
      ]
     },
     "execution_count": 55,
     "metadata": {},
     "output_type": "execute_result"
    }
   ],
   "source": [
    "cf_classifier = make_pipeline(\n",
    "    TfidfVectorizer(max_features=200000),\n",
    "    ClassifierChain(svm.SVC(kernel='linear', probability=True))\n",
    ")\n",
    "cf_classifier = cf_classifier.fit(X=train_x, y=train_y)\n",
    "cf_classifier"
   ]
  },
  {
   "cell_type": "code",
   "execution_count": 56,
   "metadata": {},
   "outputs": [
    {
     "name": "stdout",
     "output_type": "stream",
     "text": [
      "SVM Accuracy Score ->  0.41733333333333333\n"
     ]
    }
   ],
   "source": [
    "predictions_cf = cf_classifier.predict(test_x)\n",
    "print(\"SVM Accuracy Score -> \",accuracy_score(predictions_cf, test_y))"
   ]
  },
  {
   "cell_type": "markdown",
   "metadata": {},
   "source": [
    "<h4>Label Powerset</h4> "
   ]
  },
  {
   "cell_type": "code",
   "execution_count": null,
   "metadata": {},
   "outputs": [],
   "source": [
    "lp_classifier = make_pipeline(\n",
    "    TfidfVectorizer(max_features=200000),\n",
    "    LabelPowerset(svm.SVC(kernel='linear', probability=True))\n",
    ")\n",
    "lp_classifier = lp_classifier.fit(X=train_x, y=train_y)\n",
    "lp_classifier"
   ]
  },
  {
   "cell_type": "code",
   "execution_count": null,
   "metadata": {},
   "outputs": [],
   "source": [
    "predictions_lp = lp_classifier.predict(test_x)\n",
    "print(\"SVM Accuracy Score -> \",accuracy_score(predictions_lp, test_y))"
   ]
  },
  {
   "cell_type": "code",
   "execution_count": 33,
   "metadata": {},
   "outputs": [
    {
     "ename": "NameError",
     "evalue": "name 'br_classifier' is not defined",
     "output_type": "error",
     "traceback": [
      "\u001b[1;31m---------------------------------------------------------------------------\u001b[0m",
      "\u001b[1;31mNameError\u001b[0m                                 Traceback (most recent call last)",
      "\u001b[1;32m~\\AppData\\Local\\Temp\\ipykernel_4788\\3255759976.py\u001b[0m in \u001b[0;36m<module>\u001b[1;34m\u001b[0m\n\u001b[0;32m      1\u001b[0m \u001b[0mclassifer_names\u001b[0m \u001b[1;33m=\u001b[0m \u001b[1;33m[\u001b[0m\u001b[1;34m\"BinaryRelevance\"\u001b[0m\u001b[1;33m,\u001b[0m \u001b[1;34m\"OneVSRest\"\u001b[0m\u001b[1;33m,\u001b[0m \u001b[1;34m\"ClassifierChain\"\u001b[0m\u001b[1;33m,\u001b[0m \u001b[1;34m\"LabelPowerset\"\u001b[0m\u001b[1;33m]\u001b[0m\u001b[1;33m\u001b[0m\u001b[1;33m\u001b[0m\u001b[0m\n\u001b[1;32m----> 2\u001b[1;33m \u001b[0mclassifiers\u001b[0m \u001b[1;33m=\u001b[0m \u001b[1;33m[\u001b[0m\u001b[0mbr_classifier\u001b[0m\u001b[1;33m,\u001b[0m \u001b[0movr_classifier\u001b[0m\u001b[1;33m,\u001b[0m \u001b[0mcf_classifier\u001b[0m\u001b[1;33m,\u001b[0m \u001b[0mlp_classifier\u001b[0m\u001b[1;33m]\u001b[0m\u001b[1;33m\u001b[0m\u001b[1;33m\u001b[0m\u001b[0m\n\u001b[0m",
      "\u001b[1;31mNameError\u001b[0m: name 'br_classifier' is not defined"
     ]
    }
   ],
   "source": [
    "classifer_names = [\"BinaryRelevance\", \"OneVSRest\", \"ClassifierChain\", \"LabelPowerset\"]\n",
    "classifiers = [br_classifier, ovr_classifier, cf_classifier, lp_classifier]"
   ]
  },
  {
   "cell_type": "markdown",
   "metadata": {},
   "source": [
    "<h2>Make a Single prediction</h2>"
   ]
  },
  {
   "cell_type": "code",
   "execution_count": 12,
   "metadata": {},
   "outputs": [],
   "source": [
    "# Create preprocessing function\n",
    "def preprocess(text):\n",
    "    # twitter-presprocessor\n",
    "    text = p.clean(text)\n",
    "    # lower case\n",
    "    text = text.lower()\n",
    "    # Expand Contractions\n",
    "    expanded = []\n",
    "    for word in text.split():\n",
    "        expanded.append(contractions.fix(word))\n",
    "    text = ' '.join(expanded)\n",
    "    # Remove punctuation marks\n",
    "    text = text.translate(str.maketrans('', '', string.punctuation))\n",
    "    # Tokenization\n",
    "    text = word_tokenize(text)\n",
    "    \n",
    "    lemmanized = preprocess_part2(text)\n",
    "\n",
    "    # return str(text)\n",
    "    return lemmanized\n",
    "\n",
    "def preprocess_part2(text):\n",
    "    tag_map = defaultdict(lambda : wn.NOUN)\n",
    "    tag_map['J'] = wn.ADJ\n",
    "    tag_map['V'] = wn.VERB\n",
    "    tag_map['R'] = wn.ADV\n",
    "    # Declaring Empty List to store the words that follow the rules for this step\n",
    "    Final_words = []\n",
    "    # Initializing WordNetLemmatizer()\n",
    "    word_Lemmatized = WordNetLemmatizer()\n",
    "    # pos_tag function below will provide the 'tag' i.e if the word is Noun(N) or Verb(V) or something else.\n",
    "    for word, tag in pos_tag(text):\n",
    "        # Below condition is to check for Stop words and consider only alphabets\n",
    "        if word not in stopwords.words('english') and word.isalpha():\n",
    "            word_Final = word_Lemmatized.lemmatize(word,tag_map[tag[0]])\n",
    "            Final_words.append(word_Final)\n",
    "    return str(Final_words)\n"
   ]
  },
  {
   "cell_type": "code",
   "execution_count": 32,
   "metadata": {},
   "outputs": [
    {
     "name": "stdout",
     "output_type": "stream",
     "text": [
      "INPUT: Girl bitches should just kill themselves if they don't know how to cook\n",
      "  Homophobe: 2.135321816659255\n",
      "  NotHate: 94.16018756236866\n",
      "  OtherHate: 14.503778814917517\n",
      "  Racist: 23.83330978649289\n",
      "  Religion: 3.0268837758038445\n",
      "  Sexist: 18.92997715935792\n",
      "PREDICTION: [0 1 0 0 0 0]\n",
      "\n",
      "INPUT: gay people are mentally ill\n",
      "  Homophobe: 28.961367872584535\n",
      "  NotHate: 91.62976065491618\n",
      "  OtherHate: 33.707962249879245\n",
      "  Racist: 29.512215264947205\n",
      "  Religion: 1.4801411239528084\n",
      "  Sexist: 6.1551570357442715\n",
      "PREDICTION: [0 1 0 0 0 0]\n",
      "\n",
      "INPUT: Islam people are all terrorists\n",
      "  Homophobe: 6.37171141096983\n",
      "  NotHate: 93.62289970130236\n",
      "  OtherHate: 18.054964656405545\n",
      "  Racist: 27.6318166412749\n",
      "  Religion: 71.30824517732255\n",
      "  Sexist: 6.976490731214718\n",
      "PREDICTION: [0 1 0 0 0 0]\n",
      "\n",
      "INPUT: Asians should just go back to their country, all they do is take our jobs\n",
      "  Homophobe: 5.264417103201207\n",
      "  NotHate: 92.32725189197218\n",
      "  OtherHate: 16.18760280480537\n",
      "  Racist: 27.3183343778801\n",
      "  Religion: 1.1308567116616461\n",
      "  Sexist: 7.326794136703503\n",
      "PREDICTION: [0 1 0 0 0 0]\n",
      "\n"
     ]
    }
   ],
   "source": [
    "text1 = \"Girl bitches should just kill themselves if they don't know how to cook\"\n",
    "text2 = \"gay people are mentally ill\"\n",
    "text3 = \"Islam people are all terrorists\"\n",
    "text4 = \"Asians should just go back to their country, all they do is take our jobs\"\n",
    "sample_texts = [text1, text2, text3, text4]\n",
    "\n",
    "for text in sample_texts:\n",
    "    arr = [preprocess(text)]\n",
    "    classes = ovr_classifier.classes_\n",
    "    proba = ovr_classifier.predict_proba(arr)[0]\n",
    "    pred = ovr_classifier.predict(arr)[0]\n",
    "\n",
    "    headers = y.columns\n",
    "\n",
    "    print(f'INPUT: {text}')\n",
    "    for i,e in enumerate(classes):\n",
    "        print(f'  {headers[i]}: {proba[i]*100}')\n",
    "    print(f'PREDICTION: {pred}\\n')"
   ]
  },
  {
   "cell_type": "code",
   "execution_count": null,
   "metadata": {},
   "outputs": [],
   "source": [
    "for i,classifier in enumerate(classifiers):\n",
    "    print(f\"------------ {classifer_names[i]} ------------\\n\")\n",
    "    for text in sample_texts:\n",
    "        arr = [preprocess(text)]\n",
    "        classes = classifier.classes_\n",
    "        proba = classifier.predict_proba(arr)[0]\n",
    "        pred = classifier.predict(arr)[0]\n",
    "\n",
    "        headers = y.columns\n",
    "\n",
    "        print(f'INPUT: {text}')\n",
    "        for i,e in enumerate(classes):\n",
    "            print(f'  {headers[i]}: {proba[i]*100}')\n",
    "        print(f'PREDICTION: {pred}\\n')"
   ]
  },
  {
   "cell_type": "markdown",
   "metadata": {},
   "source": [
    "<h2>Export Classifier Models</h2>"
   ]
  },
  {
   "cell_type": "code",
   "execution_count": null,
   "metadata": {},
   "outputs": [],
   "source": [
    "# Export model as joblib file\n",
    "for i,classifier in enumerate(classifiers):\n",
    "    filename = classifer_names[i] + \".joblib.z\"\n",
    "    path = \"../out/subtask3/\" + filename\n",
    "    dump(classifier, path)"
   ]
  }
 ],
 "metadata": {
  "interpreter": {
   "hash": "2be5faf79681da6f2a61fdfdd5405d65d042280f7fba6178067603e3a2925119"
  },
  "kernelspec": {
   "display_name": "Python 3.10.0 64-bit",
   "language": "python",
   "name": "python3"
  },
  "language_info": {
   "codemirror_mode": {
    "name": "ipython",
    "version": 3
   },
   "file_extension": ".py",
   "mimetype": "text/x-python",
   "name": "python",
   "nbconvert_exporter": "python",
   "pygments_lexer": "ipython3",
   "version": "3.10.0"
  },
  "orig_nbformat": 4
 },
 "nbformat": 4,
 "nbformat_minor": 2
}

{
 "cells": [
  {
   "cell_type": "code",
   "execution_count": 1,
   "metadata": {},
   "outputs": [],
   "source": [
    "import pandas as pd\n",
    "import numpy as np\n",
    "# Model\n",
    "from sklearn import model_selection, svm\n",
    "from sklearn.preprocessing import LabelEncoder\n",
    "from sklearn.feature_extraction.text import TfidfVectorizer\n",
    "from sklearn.metrics import accuracy_score\n",
    "from sklearn.multiclass import OneVsRestClassifier\n",
    "# Pipeline\n",
    "from sklearn.pipeline import make_pipeline\n",
    "from joblib import dump"
   ]
  },
  {
   "cell_type": "code",
   "execution_count": 2,
   "metadata": {},
   "outputs": [],
   "source": [
    "out_directory = \"../out/final-test-wstops/\""
   ]
  },
  {
   "cell_type": "markdown",
   "metadata": {},
   "source": [
    "<h2>Organize Data</h2>"
   ]
  },
  {
   "cell_type": "code",
   "execution_count": 3,
   "metadata": {},
   "outputs": [
    {
     "data": {
      "text/html": [
       "<div>\n",
       "<style scoped>\n",
       "    .dataframe tbody tr th:only-of-type {\n",
       "        vertical-align: middle;\n",
       "    }\n",
       "\n",
       "    .dataframe tbody tr th {\n",
       "        vertical-align: top;\n",
       "    }\n",
       "\n",
       "    .dataframe thead th {\n",
       "        text-align: right;\n",
       "    }\n",
       "</style>\n",
       "<table border=\"1\" class=\"dataframe\">\n",
       "  <thead>\n",
       "    <tr style=\"text-align: right;\">\n",
       "      <th></th>\n",
       "      <th>text</th>\n",
       "      <th>HATE</th>\n",
       "      <th>NOT</th>\n",
       "      <th>OFFN</th>\n",
       "      <th>PRFN</th>\n",
       "      <th>Race</th>\n",
       "      <th>Religion</th>\n",
       "      <th>Gender</th>\n",
       "      <th>Other</th>\n",
       "      <th>None</th>\n",
       "    </tr>\n",
       "  </thead>\n",
       "  <tbody>\n",
       "    <tr>\n",
       "      <th>0</th>\n",
       "      <td>a vote for max is a vote for the white christi...</td>\n",
       "      <td>0</td>\n",
       "      <td>1</td>\n",
       "      <td>0</td>\n",
       "      <td>0</td>\n",
       "      <td>0</td>\n",
       "      <td>0</td>\n",
       "      <td>0</td>\n",
       "      <td>0</td>\n",
       "      <td>1</td>\n",
       "    </tr>\n",
       "    <tr>\n",
       "      <th>1</th>\n",
       "      <td>what a muslim does in the privacy of his own g...</td>\n",
       "      <td>1</td>\n",
       "      <td>0</td>\n",
       "      <td>0</td>\n",
       "      <td>0</td>\n",
       "      <td>1</td>\n",
       "      <td>1</td>\n",
       "      <td>0</td>\n",
       "      <td>0</td>\n",
       "      <td>0</td>\n",
       "    </tr>\n",
       "    <tr>\n",
       "      <th>2</th>\n",
       "      <td>it is in some circles but in others it the sam...</td>\n",
       "      <td>1</td>\n",
       "      <td>0</td>\n",
       "      <td>0</td>\n",
       "      <td>1</td>\n",
       "      <td>1</td>\n",
       "      <td>0</td>\n",
       "      <td>0</td>\n",
       "      <td>0</td>\n",
       "      <td>0</td>\n",
       "    </tr>\n",
       "    <tr>\n",
       "      <th>3</th>\n",
       "      <td>president trumps opinion get the son of the bi...</td>\n",
       "      <td>0</td>\n",
       "      <td>1</td>\n",
       "      <td>1</td>\n",
       "      <td>1</td>\n",
       "      <td>1</td>\n",
       "      <td>0</td>\n",
       "      <td>0</td>\n",
       "      <td>1</td>\n",
       "      <td>1</td>\n",
       "    </tr>\n",
       "    <tr>\n",
       "      <th>4</th>\n",
       "      <td>id2020 is also jabbing refugees with its micro...</td>\n",
       "      <td>0</td>\n",
       "      <td>1</td>\n",
       "      <td>1</td>\n",
       "      <td>0</td>\n",
       "      <td>0</td>\n",
       "      <td>0</td>\n",
       "      <td>0</td>\n",
       "      <td>1</td>\n",
       "      <td>1</td>\n",
       "    </tr>\n",
       "  </tbody>\n",
       "</table>\n",
       "</div>"
      ],
      "text/plain": [
       "                                                text  HATE  NOT  OFFN  PRFN  \\\n",
       "0  a vote for max is a vote for the white christi...     0    1     0     0   \n",
       "1  what a muslim does in the privacy of his own g...     1    0     0     0   \n",
       "2  it is in some circles but in others it the sam...     1    0     0     1   \n",
       "3  president trumps opinion get the son of the bi...     0    1     1     1   \n",
       "4  id2020 is also jabbing refugees with its micro...     0    1     1     0   \n",
       "\n",
       "   Race  Religion  Gender  Other  None  \n",
       "0     0         0       0      0     1  \n",
       "1     1         1       0      0     0  \n",
       "2     1         0       0      0     0  \n",
       "3     1         0       0      1     1  \n",
       "4     0         0       0      1     1  "
      ]
     },
     "execution_count": 3,
     "metadata": {},
     "output_type": "execute_result"
    }
   ],
   "source": [
    "# Read data\n",
    "# df = pd.read_csv(\"../res/dataset-final.csv\")\n",
    "\n",
    "train_df = pd.read_csv(\"../res/train_final.csv\")\n",
    "val_df = pd.read_csv(\"../res/val_final.csv\")\n",
    "test_df = pd.read_csv(\"../res/test_final.csv\")\n",
    "train_df.head()"
   ]
  },
  {
   "cell_type": "code",
   "execution_count": 4,
   "metadata": {},
   "outputs": [],
   "source": [
    "# # Organize targets\n",
    "# # Get target columns\n",
    "# headers = train_df.columns[1:]\n",
    "# # Create separate df for targets\n",
    "# y_train = train_df[headers]\n",
    "# y_val = val_df[headers]\n",
    "# y_test = test_df[headers]"
   ]
  },
  {
   "cell_type": "code",
   "execution_count": 5,
   "metadata": {},
   "outputs": [
    {
     "name": "stdout",
     "output_type": "stream",
     "text": [
      "subtask 1 and 2 headers:\n",
      "Index(['HATE', 'NOT', 'OFFN', 'PRFN'], dtype='object')\n",
      "subtask 3 headers:\n",
      "Index(['Race', 'Religion', 'Gender', 'Other', 'None'], dtype='object')\n"
     ]
    }
   ],
   "source": [
    "# Organize targets\n",
    "# Get target columns\n",
    "t1a2_headers = train_df.columns[1:5]\n",
    "print(\"subtask 1 and 2 headers:\")\n",
    "print(t1a2_headers)\n",
    "t3_headers = train_df.columns[5:]\n",
    "print(\"subtask 3 headers:\")\n",
    "print(t3_headers)"
   ]
  },
  {
   "cell_type": "markdown",
   "metadata": {},
   "source": [
    "<h2>Model Creation</h2>"
   ]
  },
  {
   "cell_type": "code",
   "execution_count": 6,
   "metadata": {},
   "outputs": [],
   "source": [
    "# Set number of samples to train with\n",
    "train_df = train_df.iloc[:1000]"
   ]
  },
  {
   "cell_type": "markdown",
   "metadata": {},
   "source": [
    "<h4>Subtask 1 and 2</h4>"
   ]
  },
  {
   "cell_type": "code",
   "execution_count": 7,
   "metadata": {},
   "outputs": [],
   "source": [
    "# Instantiate Classifier\n",
    "ovr_classifier = make_pipeline(\n",
    "    TfidfVectorizer(stop_words=\"english\"),\n",
    "    OneVsRestClassifier(svm.SVC(kernel='linear', probability=True))\n",
    ")"
   ]
  },
  {
   "cell_type": "code",
   "execution_count": 8,
   "metadata": {},
   "outputs": [
    {
     "data": {
      "text/plain": [
       "Pipeline(steps=[('tfidfvectorizer', TfidfVectorizer(stop_words='english')),\n",
       "                ('onevsrestclassifier',\n",
       "                 OneVsRestClassifier(estimator=SVC(kernel='linear',\n",
       "                                                   probability=True)))])"
      ]
     },
     "execution_count": 8,
     "metadata": {},
     "output_type": "execute_result"
    }
   ],
   "source": [
    "# Train\n",
    "t1a2_classifier = ovr_classifier.fit(X=train_df[\"text\"], y=train_df[t1a2_headers])\n",
    "t1a2_classifier"
   ]
  },
  {
   "cell_type": "code",
   "execution_count": 9,
   "metadata": {},
   "outputs": [
    {
     "name": "stdout",
     "output_type": "stream",
     "text": [
      "SVM subtask 1 and 2 Accuracy Score ->  0.3003638769434337\n"
     ]
    }
   ],
   "source": [
    "predictions_t1a2 = t1a2_classifier.predict(test_df[\"text\"])\n",
    "t1a2_score = accuracy_score(predictions_t1a2, test_df[t1a2_headers])\n",
    "print(\"SVM subtask 1 and 2 Accuracy Score -> \",t1a2_score)"
   ]
  },
  {
   "cell_type": "markdown",
   "metadata": {},
   "source": [
    "<h5>Export Model</h5>"
   ]
  },
  {
   "cell_type": "code",
   "execution_count": 10,
   "metadata": {},
   "outputs": [
    {
     "data": {
      "text/plain": [
       "['../out/final-test-wstops/t1a2_classifier.joblib.z']"
      ]
     },
     "execution_count": 10,
     "metadata": {},
     "output_type": "execute_result"
    }
   ],
   "source": [
    "filename = \"t1a2_classifier.joblib.z\"\n",
    "path = out_directory + filename\n",
    "dump(t1a2_classifier, path)"
   ]
  },
  {
   "cell_type": "markdown",
   "metadata": {},
   "source": [
    "<h5>Tests</h5>"
   ]
  },
  {
   "cell_type": "code",
   "execution_count": 11,
   "metadata": {},
   "outputs": [
    {
     "name": "stdout",
     "output_type": "stream",
     "text": [
      "INPUT: Girl bitches should just kill themselves if they don't know how to cook\n",
      "  HATE: 10.86074483566137\n",
      "  NOT: 87.35148770421883\n",
      "  OFFN: 52.82239528928648\n",
      "  PRFN: 94.21242279250056\n",
      "PREDICTION: [0 1 1 1]\n",
      "\n",
      "INPUT: gay people are mentally ill\n",
      "  HATE: 24.97239395527883\n",
      "  NOT: 52.91257630083391\n",
      "  OFFN: 45.32401203914989\n",
      "  PRFN: 91.21566726266458\n",
      "PREDICTION: [0 1 0 1]\n",
      "\n",
      "INPUT: Islam people are all terrorists\n",
      "  HATE: 59.73046374553872\n",
      "  NOT: 18.898126190779376\n",
      "  OFFN: 63.88034867187471\n",
      "  PRFN: 47.96545796637555\n",
      "PREDICTION: [1 0 1 1]\n",
      "\n",
      "INPUT: Asians should just go back to their country, all they do is take our jobs\n",
      "  HATE: 62.424824828365665\n",
      "  NOT: 44.67360866920734\n",
      "  OFFN: 45.11847220569966\n",
      "  PRFN: 78.55074025256398\n",
      "PREDICTION: [1 0 0 1]\n",
      "\n",
      "INPUT: If you want to make the world a better place, look at yourself and make a change\n",
      "  HATE: 24.691187907296396\n",
      "  NOT: 52.10704158652702\n",
      "  OFFN: 35.039711626037814\n",
      "  PRFN: 62.2163621579629\n",
      "PREDICTION: [0 1 0 1]\n",
      "\n"
     ]
    }
   ],
   "source": [
    "text1 = \"Girl bitches should just kill themselves if they don't know how to cook\"\n",
    "text2 = \"gay people are mentally ill\"\n",
    "text3 = \"Islam people are all terrorists\"\n",
    "text4 = \"Asians should just go back to their country, all they do is take our jobs\"\n",
    "text5 = \"If you want to make the world a better place, look at yourself and make a change\"\n",
    "sample_texts = [text1, text2, text3, text4, text5]\n",
    "\n",
    "for text in sample_texts:\n",
    "    arr = [text]\n",
    "    classes = t1a2_classifier.classes_\n",
    "    proba = t1a2_classifier.predict_proba(arr)[0]\n",
    "    pred = t1a2_classifier.predict(arr)[0]\n",
    "\n",
    "    headers = t1a2_headers\n",
    "\n",
    "    print(f'INPUT: {text}')\n",
    "    for i,e in enumerate(classes):\n",
    "        print(f'  {headers[i]}: {proba[i]*100}')\n",
    "    print(f'PREDICTION: {pred}\\n')"
   ]
  },
  {
   "cell_type": "markdown",
   "metadata": {},
   "source": [
    "<h4>Subtask 3</h4>"
   ]
  },
  {
   "cell_type": "code",
   "execution_count": 12,
   "metadata": {},
   "outputs": [],
   "source": [
    "# Instantiate Classifier\n",
    "ovr_classifier = make_pipeline(\n",
    "    TfidfVectorizer(stop_words=\"english\"),\n",
    "    OneVsRestClassifier(svm.SVC(kernel='linear', probability=True))\n",
    ")"
   ]
  },
  {
   "cell_type": "code",
   "execution_count": 13,
   "metadata": {},
   "outputs": [
    {
     "data": {
      "text/plain": [
       "Pipeline(steps=[('tfidfvectorizer', TfidfVectorizer(stop_words='english')),\n",
       "                ('onevsrestclassifier',\n",
       "                 OneVsRestClassifier(estimator=SVC(kernel='linear',\n",
       "                                                   probability=True)))])"
      ]
     },
     "execution_count": 13,
     "metadata": {},
     "output_type": "execute_result"
    }
   ],
   "source": [
    "t3_classifier = ovr_classifier.fit(X=train_df[\"text\"], y=train_df[t3_headers])\n",
    "t3_classifier"
   ]
  },
  {
   "cell_type": "code",
   "execution_count": 14,
   "metadata": {},
   "outputs": [
    {
     "name": "stdout",
     "output_type": "stream",
     "text": [
      "SVM subtask 1 and 2 Accuracy Score ->  0.3003638769434337\n"
     ]
    }
   ],
   "source": [
    "predictions_t3 = t3_classifier.predict(test_df[\"text\"])\n",
    "t3_score = accuracy_score(predictions_t3, test_df[t3_headers])\n",
    "print(\"SVM subtask 1 and 2 Accuracy Score -> \",t3_score)"
   ]
  },
  {
   "cell_type": "markdown",
   "metadata": {},
   "source": [
    "<h5>Export Model</h5>"
   ]
  },
  {
   "cell_type": "code",
   "execution_count": 15,
   "metadata": {},
   "outputs": [
    {
     "data": {
      "text/plain": [
       "['../out/final-test-wstops/t3_classifier.joblib.z']"
      ]
     },
     "execution_count": 15,
     "metadata": {},
     "output_type": "execute_result"
    }
   ],
   "source": [
    "filename = \"t3_classifier.joblib.z\"\n",
    "path = out_directory + filename\n",
    "dump(t1a2_classifier, path)"
   ]
  },
  {
   "cell_type": "markdown",
   "metadata": {},
   "source": [
    "<h5>Tests</h5>"
   ]
  },
  {
   "cell_type": "code",
   "execution_count": 16,
   "metadata": {},
   "outputs": [
    {
     "name": "stdout",
     "output_type": "stream",
     "text": [
      "INPUT: Girl bitches should just kill themselves if they don't know how to cook\n",
      "  Race: 7.626356287665141\n",
      "  Religion: 0.1992496759596491\n",
      "  Gender: 78.78968096645433\n",
      "  Other: 9.407612113630941\n",
      "  None: 76.92155945343985\n",
      "PREDICTION: [0 0 1 0 1]\n",
      "\n",
      "INPUT: gay people are mentally ill\n",
      "  Race: 6.097205813079053\n",
      "  Religion: 4.875218251681975\n",
      "  Gender: 95.44910054822495\n",
      "  Other: 17.948128045435478\n",
      "  None: 53.77903385513196\n",
      "PREDICTION: [0 0 1 0 1]\n",
      "\n",
      "INPUT: Islam people are all terrorists\n",
      "  Race: 22.7210320562585\n",
      "  Religion: 99.99999432732113\n",
      "  Gender: 2.2639616367441153\n",
      "  Other: 22.240348745357355\n",
      "  None: 46.147919312301426\n",
      "PREDICTION: [0 1 0 0 0]\n",
      "\n",
      "INPUT: Asians should just go back to their country, all they do is take our jobs\n",
      "  Race: 82.44050938577479\n",
      "  Religion: 17.518137485481542\n",
      "  Gender: 16.437981596828987\n",
      "  Other: 41.014029333384684\n",
      "  None: 36.15419852077032\n",
      "PREDICTION: [1 0 0 0 0]\n",
      "\n",
      "INPUT: If you want to make the world a better place, look at yourself and make a change\n",
      "  Race: 6.059627232809251\n",
      "  Religion: 4.029481825488998\n",
      "  Gender: 15.49051318413073\n",
      "  Other: 9.775360134367785\n",
      "  None: 52.31479183134724\n",
      "PREDICTION: [0 0 0 0 1]\n",
      "\n"
     ]
    }
   ],
   "source": [
    "text1 = \"Girl bitches should just kill themselves if they don't know how to cook\"\n",
    "text2 = \"gay people are mentally ill\"\n",
    "text3 = \"Islam people are all terrorists\"\n",
    "text4 = \"Asians should just go back to their country, all they do is take our jobs\"\n",
    "text5 = \"If you want to make the world a better place, look at yourself and make a change\"\n",
    "sample_texts = [text1, text2, text3, text4, text5]\n",
    "\n",
    "for text in sample_texts:\n",
    "    arr = [text]\n",
    "    classes = t3_classifier.classes_\n",
    "    proba = t3_classifier.predict_proba(arr)[0]\n",
    "    pred = t3_classifier.predict(arr)[0]\n",
    "\n",
    "    headers = t3_headers\n",
    "\n",
    "    print(f'INPUT: {text}')\n",
    "    for i,e in enumerate(classes):\n",
    "        print(f'  {headers[i]}: {proba[i]*100}')\n",
    "    print(f'PREDICTION: {pred}\\n')"
   ]
  },
  {
   "cell_type": "markdown",
   "metadata": {},
   "source": [
    "<h3>Subtask 1 only</h3>"
   ]
  },
  {
   "cell_type": "code",
   "execution_count": 17,
   "metadata": {},
   "outputs": [
    {
     "data": {
      "text/plain": [
       "Index(['HATE', 'NOT', 'OFFN'], dtype='object')"
      ]
     },
     "execution_count": 17,
     "metadata": {},
     "output_type": "execute_result"
    }
   ],
   "source": [
    "t1_headers = t1a2_headers[:-1]\n",
    "t1_headers"
   ]
  },
  {
   "cell_type": "code",
   "execution_count": 18,
   "metadata": {},
   "outputs": [],
   "source": [
    "# Instantiate Classifier\n",
    "ovr_classifier = make_pipeline(\n",
    "    TfidfVectorizer(stop_words=\"english\"),\n",
    "    OneVsRestClassifier(svm.SVC(kernel='linear', probability=True))\n",
    ")"
   ]
  },
  {
   "cell_type": "code",
   "execution_count": 19,
   "metadata": {},
   "outputs": [
    {
     "data": {
      "text/plain": [
       "Pipeline(steps=[('tfidfvectorizer', TfidfVectorizer(stop_words='english')),\n",
       "                ('onevsrestclassifier',\n",
       "                 OneVsRestClassifier(estimator=SVC(kernel='linear',\n",
       "                                                   probability=True)))])"
      ]
     },
     "execution_count": 19,
     "metadata": {},
     "output_type": "execute_result"
    }
   ],
   "source": [
    "t1_classifier = ovr_classifier.fit(X=train_df[\"text\"], y=train_df[t1_headers])\n",
    "t1_classifier"
   ]
  },
  {
   "cell_type": "code",
   "execution_count": 20,
   "metadata": {},
   "outputs": [
    {
     "name": "stdout",
     "output_type": "stream",
     "text": [
      "SVM subtask 1 Accuracy Score ->  0.3420443268276546\n"
     ]
    }
   ],
   "source": [
    "predictions_t1 = t1_classifier.predict(test_df[\"text\"])\n",
    "t1_score = accuracy_score(predictions_t1, test_df[t1_headers])\n",
    "print(\"SVM subtask 1 Accuracy Score -> \",t1_score)"
   ]
  },
  {
   "cell_type": "markdown",
   "metadata": {},
   "source": [
    "<h5>Export Model</h5>"
   ]
  },
  {
   "cell_type": "code",
   "execution_count": 21,
   "metadata": {},
   "outputs": [
    {
     "data": {
      "text/plain": [
       "['../out/final-test-wstops/t1_classifier.joblib.z']"
      ]
     },
     "execution_count": 21,
     "metadata": {},
     "output_type": "execute_result"
    }
   ],
   "source": [
    "filename = \"t1_classifier.joblib.z\"\n",
    "path = out_directory + filename\n",
    "dump(t1_classifier, path)"
   ]
  },
  {
   "cell_type": "markdown",
   "metadata": {},
   "source": [
    "<h5>Tests</h5>"
   ]
  },
  {
   "cell_type": "code",
   "execution_count": 22,
   "metadata": {},
   "outputs": [
    {
     "name": "stdout",
     "output_type": "stream",
     "text": [
      "INPUT: Girl bitches should just kill themselves if they don't know how to cook\n",
      "  HATE: 11.571920280784711\n",
      "  NOT: 85.30323345669869\n",
      "  OFFN: 52.815074209484116\n",
      "PREDICTION: [0 1 1]\n",
      "\n",
      "INPUT: gay people are mentally ill\n",
      "  HATE: 25.29432591556929\n",
      "  NOT: 52.38135583857137\n",
      "  OFFN: 44.39965880562885\n",
      "PREDICTION: [0 1 0]\n",
      "\n",
      "INPUT: Islam people are all terrorists\n",
      "  HATE: 58.15431493914891\n",
      "  NOT: 20.65195807687798\n",
      "  OFFN: 64.83474878686266\n",
      "PREDICTION: [1 0 1]\n",
      "\n",
      "INPUT: Asians should just go back to their country, all they do is take our jobs\n",
      "  HATE: 60.694302140500824\n",
      "  NOT: 44.83201398598294\n",
      "  OFFN: 44.17004908962452\n",
      "PREDICTION: [1 0 0]\n",
      "\n",
      "INPUT: If you want to make the world a better place, look at yourself and make a change\n",
      "  HATE: 25.02598119621956\n",
      "  NOT: 51.642886952438005\n",
      "  OFFN: 33.093184755471796\n",
      "PREDICTION: [0 1 0]\n",
      "\n"
     ]
    }
   ],
   "source": [
    "text1 = \"Girl bitches should just kill themselves if they don't know how to cook\"\n",
    "text2 = \"gay people are mentally ill\"\n",
    "text3 = \"Islam people are all terrorists\"\n",
    "text4 = \"Asians should just go back to their country, all they do is take our jobs\"\n",
    "text5 = \"If you want to make the world a better place, look at yourself and make a change\"\n",
    "sample_texts = [text1, text2, text3, text4, text5]\n",
    "\n",
    "for text in sample_texts:\n",
    "    arr = [text]\n",
    "    classes = t1_classifier.classes_\n",
    "    proba = t1_classifier.predict_proba(arr)[0]\n",
    "    pred = t1_classifier.predict(arr)[0]\n",
    "\n",
    "    headers = t1_headers\n",
    "\n",
    "    print(f'INPUT: {text}')\n",
    "    for i,e in enumerate(classes):\n",
    "        print(f'  {headers[i]}: {proba[i]*100}')\n",
    "    print(f'PREDICTION: {pred}\\n')"
   ]
  },
  {
   "cell_type": "markdown",
   "metadata": {},
   "source": [
    "<h4>Subtask 2</h4>"
   ]
  },
  {
   "cell_type": "code",
   "execution_count": 23,
   "metadata": {},
   "outputs": [],
   "source": [
    "t2_headers = [\"PRFN\"]"
   ]
  },
  {
   "cell_type": "code",
   "execution_count": 24,
   "metadata": {},
   "outputs": [],
   "source": [
    "# Instantiate Classifier\n",
    "ovr_classifier = make_pipeline(\n",
    "    TfidfVectorizer(stop_words=\"english\"),\n",
    "    svm.SVC(kernel='linear', probability=True)\n",
    ")"
   ]
  },
  {
   "cell_type": "code",
   "execution_count": 25,
   "metadata": {},
   "outputs": [
    {
     "name": "stderr",
     "output_type": "stream",
     "text": [
      "C:\\Python310\\lib\\site-packages\\sklearn\\utils\\validation.py:993: DataConversionWarning: A column-vector y was passed when a 1d array was expected. Please change the shape of y to (n_samples, ), for example using ravel().\n",
      "  y = column_or_1d(y, warn=True)\n"
     ]
    },
    {
     "data": {
      "text/plain": [
       "Pipeline(steps=[('tfidfvectorizer', TfidfVectorizer(stop_words='english')),\n",
       "                ('svc', SVC(kernel='linear', probability=True))])"
      ]
     },
     "execution_count": 25,
     "metadata": {},
     "output_type": "execute_result"
    }
   ],
   "source": [
    "t2_classifier = ovr_classifier.fit(X=train_df[\"text\"], y=train_df[t2_headers])\n",
    "t2_classifier"
   ]
  },
  {
   "cell_type": "code",
   "execution_count": 26,
   "metadata": {},
   "outputs": [
    {
     "name": "stdout",
     "output_type": "stream",
     "text": [
      "SVM subtask 2 Accuracy Score ->  0.85941118094608\n"
     ]
    }
   ],
   "source": [
    "predictions_t2 = t2_classifier.predict(test_df[\"text\"])\n",
    "t2_score = accuracy_score(predictions_t2, test_df[t2_headers])\n",
    "print(\"SVM subtask 2 Accuracy Score -> \",t2_score)"
   ]
  },
  {
   "cell_type": "markdown",
   "metadata": {},
   "source": [
    "<h5>Export Model</h5>"
   ]
  },
  {
   "cell_type": "code",
   "execution_count": 27,
   "metadata": {},
   "outputs": [
    {
     "data": {
      "text/plain": [
       "['../out/final-test-wstops/t2_classifier.joblib.z']"
      ]
     },
     "execution_count": 27,
     "metadata": {},
     "output_type": "execute_result"
    }
   ],
   "source": [
    "filename = \"t2_classifier.joblib.z\"\n",
    "path = out_directory + filename\n",
    "dump(t1_classifier, path)"
   ]
  },
  {
   "cell_type": "markdown",
   "metadata": {},
   "source": [
    "<h5>Tests</h5>"
   ]
  },
  {
   "cell_type": "code",
   "execution_count": 28,
   "metadata": {},
   "outputs": [
    {
     "name": "stdout",
     "output_type": "stream",
     "text": [
      "INPUT: Girl bitches should just kill themselves if they don't know how to cook\n",
      "  0: 5.509623128088467\n",
      "  1: 94.49037687191154\n",
      "PREDICTION: 1\n",
      "\n",
      "INPUT: gay people are mentally ill\n",
      "  0: 8.397935547321769\n",
      "  1: 91.6020644526782\n",
      "PREDICTION: 1\n",
      "\n",
      "INPUT: Islam people are all terrorists\n",
      "  0: 51.210107874623\n",
      "  1: 48.78989212537701\n",
      "PREDICTION: 1\n",
      "\n",
      "INPUT: Asians should just go back to their country, all they do is take our jobs\n",
      "  0: 20.745305746964966\n",
      "  1: 79.25469425303505\n",
      "PREDICTION: 1\n",
      "\n",
      "INPUT: If you want to make the world a better place, look at yourself and make a change\n",
      "  0: 36.860428225209695\n",
      "  1: 63.139571774790305\n",
      "PREDICTION: 1\n",
      "\n"
     ]
    }
   ],
   "source": [
    "text1 = \"Girl bitches should just kill themselves if they don't know how to cook\"\n",
    "text2 = \"gay people are mentally ill\"\n",
    "text3 = \"Islam people are all terrorists\"\n",
    "text4 = \"Asians should just go back to their country, all they do is take our jobs\"\n",
    "text5 = \"If you want to make the world a better place, look at yourself and make a change\"\n",
    "sample_texts = [text1, text2, text3, text4, text5]\n",
    "\n",
    "for text in sample_texts:\n",
    "    arr = [text]\n",
    "    classes = t2_classifier.classes_\n",
    "    proba = t2_classifier.predict_proba(arr)[0]\n",
    "    pred = t2_classifier.predict(arr)[0]\n",
    "\n",
    "    headers = classes\n",
    "\n",
    "    print(f'INPUT: {text}')\n",
    "    for i,e in enumerate(classes):\n",
    "        print(f'  {headers[i]}: {proba[i]*100}')\n",
    "    print(f'PREDICTION: {pred}\\n')"
   ]
  },
  {
   "cell_type": "code",
   "execution_count": 29,
   "metadata": {},
   "outputs": [
    {
     "name": "stdout",
     "output_type": "stream",
     "text": [
      "no stop words accuracies:\n",
      "[0.3003638769434337, 0.3003638769434337, 0.3420443268276546, 0.85941118094608]\n"
     ]
    }
   ],
   "source": [
    "scores = [t1a2_score, t3_score, t1_score, t2_score]\n",
    "print(\"with stop words accuracies:\")\n",
    "print(scores)"
   ]
  }
 ],
 "metadata": {
  "interpreter": {
   "hash": "2be5faf79681da6f2a61fdfdd5405d65d042280f7fba6178067603e3a2925119"
  },
  "kernelspec": {
   "display_name": "Python 3.10.0 64-bit",
   "language": "python",
   "name": "python3"
  },
  "language_info": {
   "codemirror_mode": {
    "name": "ipython",
    "version": 3
   },
   "file_extension": ".py",
   "mimetype": "text/x-python",
   "name": "python",
   "nbconvert_exporter": "python",
   "pygments_lexer": "ipython3",
   "version": "3.10.0"
  },
  "orig_nbformat": 4
 },
 "nbformat": 4,
 "nbformat_minor": 2
}

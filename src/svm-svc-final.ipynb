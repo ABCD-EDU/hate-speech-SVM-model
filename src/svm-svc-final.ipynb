{
 "cells": [
  {
   "cell_type": "code",
   "execution_count": null,
   "metadata": {},
   "outputs": [],
   "source": [
    "import pandas as pd\n",
    "# Model\n",
    "from sklearn import svm\n",
    "from sklearn.feature_extraction.text import TfidfVectorizer\n",
    "from sklearn.metrics import accuracy_score\n",
    "from sklearn.multiclass import OneVsRestClassifier\n",
    "from skmultilearn.problem_transform import BinaryRelevance\n",
    "from sklearn.multiclass import OneVsRestClassifier\n",
    "from skmultilearn.problem_transform import ClassifierChain\n",
    "from skmultilearn.problem_transform import LabelPowerset\n",
    "# Pipeline\n",
    "from sklearn.pipeline import make_pipeline\n",
    "from joblib import dump"
   ]
  },
  {
   "cell_type": "code",
   "execution_count": null,
   "metadata": {},
   "outputs": [],
   "source": [
    "out_directory = \"../out/final-final/\""
   ]
  },
  {
   "cell_type": "markdown",
   "metadata": {},
   "source": [
    "<h2>Organize Data</h2>"
   ]
  },
  {
   "cell_type": "code",
   "execution_count": 1,
   "metadata": {},
   "outputs": [
    {
     "ename": "NameError",
     "evalue": "name 'pd' is not defined",
     "output_type": "error",
     "traceback": [
      "\u001b[1;31m---------------------------------------------------------------------------\u001b[0m",
      "\u001b[1;31mNameError\u001b[0m                                 Traceback (most recent call last)",
      "\u001b[1;32mc:\\Users\\cgab\\Desktop\\gentoo_misc\\hate-speech-SVM-model\\src\\svm-svc-final.ipynb Cell 4'\u001b[0m in \u001b[0;36m<cell line: 4>\u001b[1;34m()\u001b[0m\n\u001b[0;32m      <a href='vscode-notebook-cell:/c%3A/Users/cgab/Desktop/gentoo_misc/hate-speech-SVM-model/src/svm-svc-final.ipynb#ch0000003?line=0'>1</a>\u001b[0m \u001b[39m# Read data\u001b[39;00m\n\u001b[0;32m      <a href='vscode-notebook-cell:/c%3A/Users/cgab/Desktop/gentoo_misc/hate-speech-SVM-model/src/svm-svc-final.ipynb#ch0000003?line=1'>2</a>\u001b[0m \u001b[39m# df = pd.read_csv(\"../res/dataset-final.csv\")\u001b[39;00m\n\u001b[1;32m----> <a href='vscode-notebook-cell:/c%3A/Users/cgab/Desktop/gentoo_misc/hate-speech-SVM-model/src/svm-svc-final.ipynb#ch0000003?line=3'>4</a>\u001b[0m train_df \u001b[39m=\u001b[39m pd\u001b[39m.\u001b[39mread_csv(\u001b[39m\"\u001b[39m\u001b[39m../res/train_final.csv\u001b[39m\u001b[39m\"\u001b[39m)\n\u001b[0;32m      <a href='vscode-notebook-cell:/c%3A/Users/cgab/Desktop/gentoo_misc/hate-speech-SVM-model/src/svm-svc-final.ipynb#ch0000003?line=4'>5</a>\u001b[0m val_df \u001b[39m=\u001b[39m pd\u001b[39m.\u001b[39mread_csv(\u001b[39m\"\u001b[39m\u001b[39m../res/val_final.csv\u001b[39m\u001b[39m\"\u001b[39m)\n\u001b[0;32m      <a href='vscode-notebook-cell:/c%3A/Users/cgab/Desktop/gentoo_misc/hate-speech-SVM-model/src/svm-svc-final.ipynb#ch0000003?line=5'>6</a>\u001b[0m test_df \u001b[39m=\u001b[39m pd\u001b[39m.\u001b[39mread_csv(\u001b[39m\"\u001b[39m\u001b[39m../res/test_final.csv\u001b[39m\u001b[39m\"\u001b[39m)\n",
      "\u001b[1;31mNameError\u001b[0m: name 'pd' is not defined"
     ]
    }
   ],
   "source": [
    "# Read data\n",
    "# df = pd.read_csv(\"../res/dataset-final.csv\")\n",
    "\n",
    "train_df = pd.read_csv(\"../res/train_final.csv\")\n",
    "val_df = pd.read_csv(\"../res/val_final.csv\")\n",
    "test_df = pd.read_csv(\"../res/test_final.csv\")\n",
    "train_df.head()\n",
    "\n",
    "train_df = train_df.sample(n=500)\n",
    "val_df = val_df.sample(n=63)\n",
    "test_df = test_df.sample(n=63)"
   ]
  },
  {
   "cell_type": "code",
   "execution_count": null,
   "metadata": {},
   "outputs": [],
   "source": [
    "# Organize targets\n",
    "# Get target columns\n",
    "t1a2_headers = train_df.columns[1:5]\n",
    "t2_headers = [\"PRFN\"]\n",
    "t1_headers = t1a2_headers[:-1]\n",
    "t3_headers = train_df.columns[5:]\n",
    "print(\"subtask 1 headers:\")\n",
    "print(t1_headers)\n",
    "print(\"subtask 2 headers:\")\n",
    "print(t2_headers)\n",
    "print(\"subtask 3 headers:\")\n",
    "print(t3_headers)"
   ]
  },
  {
   "cell_type": "code",
   "execution_count": null,
   "metadata": {},
   "outputs": [],
   "source": [
    "# Make subtask 1 treat its labels as mutually exclusive by converting one hot encoded\n",
    "# HATE NOT OFFN into one column\n",
    "def det_class(vals):\n",
    "    if vals[0] == 1:\n",
    "        return \"HATE\"\n",
    "    elif vals[1] == 1:\n",
    "        return \"NOT\"\n",
    "    else:\n",
    "        return \"OFFN\"\n",
    "train_df[\"subtask1\"] = train_df.apply(lambda e: det_class([e[1],e[2],e[3]]), axis = 1)\n",
    "val_df[\"subtask1\"] = val_df.apply(lambda e: det_class([e[1],e[2],e[3]]), axis = 1)\n",
    "test_df[\"subtask1\"] = test_df.apply(lambda e: det_class([e[1],e[2],e[3]]), axis = 1)\n"
   ]
  },
  {
   "cell_type": "markdown",
   "metadata": {},
   "source": [
    "<h2>Model Creation</h2>"
   ]
  },
  {
   "cell_type": "markdown",
   "metadata": {},
   "source": [
    "<h4> Subtask 1 - OVR wrapper w/ ngrams</h4>"
   ]
  },
  {
   "cell_type": "code",
   "execution_count": null,
   "metadata": {},
   "outputs": [],
   "source": [
    "# Instantiate Classifier\n",
    "ovr_classifier = make_pipeline(\n",
    "    TfidfVectorizer(stop_words=\"english\", ngram_range=(1,3)),\n",
    "    OneVsRestClassifier(svm.SVC(kernel='linear', probability=True))\n",
    ")"
   ]
  },
  {
   "cell_type": "code",
   "execution_count": null,
   "metadata": {},
   "outputs": [],
   "source": [
    "t1_classifier = ovr_classifier.fit(X=train_df[\"text\"], y=train_df[\"subtask1\"])\n",
    "t1_classifier"
   ]
  },
  {
   "cell_type": "code",
   "execution_count": null,
   "metadata": {},
   "outputs": [],
   "source": [
    "predictions_t1 = t1_classifier.predict(test_df[\"text\"])\n",
    "t1_score = accuracy_score(predictions_t1, test_df[\"subtask1\"])\n",
    "print(\"SVM subtask 1 Accuracy Score -> \",t1_score)"
   ]
  },
  {
   "cell_type": "markdown",
   "metadata": {},
   "source": [
    "<h5>Export Model</h5>"
   ]
  },
  {
   "cell_type": "code",
   "execution_count": null,
   "metadata": {},
   "outputs": [],
   "source": [
    "filename = \"t1ngram.joblib.z\"\n",
    "path = out_directory + filename\n",
    "dump(t1_classifier, path)"
   ]
  },
  {
   "cell_type": "markdown",
   "metadata": {},
   "source": [
    "<h4> Subtask 1 - OVR wrapper </h4>"
   ]
  },
  {
   "cell_type": "code",
   "execution_count": null,
   "metadata": {},
   "outputs": [],
   "source": [
    "# Instantiate Classifier\n",
    "ovr_classifier = make_pipeline(\n",
    "    TfidfVectorizer(stop_words=\"english\"),\n",
    "    OneVsRestClassifier(svm.SVC(kernel='linear', probability=True))\n",
    ")"
   ]
  },
  {
   "cell_type": "code",
   "execution_count": null,
   "metadata": {},
   "outputs": [],
   "source": [
    "t1_classifier = ovr_classifier.fit(X=train_df[\"text\"], y=train_df[\"subtask1\"])\n",
    "t1_classifier"
   ]
  },
  {
   "cell_type": "code",
   "execution_count": null,
   "metadata": {},
   "outputs": [],
   "source": [
    "predictions_t1 = t1_classifier.predict(test_df[\"text\"])\n",
    "t1_score = accuracy_score(predictions_t1, test_df[\"subtask1\"])\n",
    "print(\"SVM subtask 1 Accuracy Score -> \",t1_score)"
   ]
  },
  {
   "cell_type": "markdown",
   "metadata": {},
   "source": [
    "<h5>Export Model</h5>"
   ]
  },
  {
   "cell_type": "code",
   "execution_count": null,
   "metadata": {},
   "outputs": [],
   "source": [
    "filename = \"t1.joblib.z\"\n",
    "path = out_directory + filename\n",
    "dump(t1_classifier, path)"
   ]
  },
  {
   "cell_type": "markdown",
   "metadata": {},
   "source": [
    "<h4>Subtask 2 w/ ngram</h4>"
   ]
  },
  {
   "cell_type": "code",
   "execution_count": null,
   "metadata": {},
   "outputs": [],
   "source": [
    "# Instantiate Classifier\n",
    "ovr_classifier = make_pipeline(\n",
    "    TfidfVectorizer(stop_words=\"english\", ngram_range=(1,3)),\n",
    "    svm.SVC(kernel='linear', probability=True)\n",
    ")"
   ]
  },
  {
   "cell_type": "code",
   "execution_count": null,
   "metadata": {},
   "outputs": [],
   "source": [
    "t2_classifier = ovr_classifier.fit(X=train_df[\"text\"], y=train_df[t2_headers])\n",
    "t2_classifier"
   ]
  },
  {
   "cell_type": "code",
   "execution_count": null,
   "metadata": {},
   "outputs": [],
   "source": [
    "predictions_t2 = t2_classifier.predict(test_df[\"text\"])\n",
    "t2_score = accuracy_score(predictions_t2, test_df[t2_headers])\n",
    "print(\"SVM subtask 2 Accuracy Score -> \",t2_score)"
   ]
  },
  {
   "cell_type": "markdown",
   "metadata": {},
   "source": [
    "<h5>Export Model</h5>"
   ]
  },
  {
   "cell_type": "code",
   "execution_count": null,
   "metadata": {},
   "outputs": [],
   "source": [
    "filename = \"t2ngram.joblib.z\"\n",
    "path = out_directory + filename\n",
    "dump(t1_classifier, path)"
   ]
  },
  {
   "cell_type": "markdown",
   "metadata": {},
   "source": [
    "<h4>Subtask 2</h4>"
   ]
  },
  {
   "cell_type": "code",
   "execution_count": null,
   "metadata": {},
   "outputs": [],
   "source": [
    "# Instantiate Classifier\n",
    "ovr_classifier = make_pipeline(\n",
    "    TfidfVectorizer(stop_words=\"english\"),\n",
    "    svm.SVC(kernel='linear', probability=True)\n",
    ")"
   ]
  },
  {
   "cell_type": "code",
   "execution_count": null,
   "metadata": {},
   "outputs": [],
   "source": [
    "t2_classifier = ovr_classifier.fit(X=train_df[\"text\"], y=train_df[t2_headers])\n",
    "t2_classifier"
   ]
  },
  {
   "cell_type": "code",
   "execution_count": null,
   "metadata": {},
   "outputs": [],
   "source": [
    "predictions_t2 = t2_classifier.predict(test_df[\"text\"])\n",
    "t2_score = accuracy_score(predictions_t2, test_df[t2_headers])\n",
    "print(\"SVM subtask 2 Accuracy Score -> \",t2_score)"
   ]
  },
  {
   "cell_type": "markdown",
   "metadata": {},
   "source": [
    "<h5>Export Model</h5>"
   ]
  },
  {
   "cell_type": "code",
   "execution_count": null,
   "metadata": {},
   "outputs": [],
   "source": [
    "filename = \"t2.joblib.z\"\n",
    "path = out_directory + filename\n",
    "dump(t1_classifier, path)"
   ]
  },
  {
   "cell_type": "markdown",
   "metadata": {},
   "source": [
    "<h4>Subtask 3 - One VS Rest w ngram</h4>"
   ]
  },
  {
   "cell_type": "code",
   "execution_count": null,
   "metadata": {},
   "outputs": [],
   "source": [
    "# Instantiate Classifier\n",
    "ovr_classifier = make_pipeline(\n",
    "    TfidfVectorizer(stop_words=\"english\", ngram_range=(1,3)),\n",
    "    OneVsRestClassifier(svm.SVC(kernel='linear', probability=True))\n",
    ")"
   ]
  },
  {
   "cell_type": "code",
   "execution_count": null,
   "metadata": {},
   "outputs": [],
   "source": [
    "t3_classifier = ovr_classifier.fit(X=train_df[\"text\"], y=train_df[t3_headers])\n",
    "t3_classifier"
   ]
  },
  {
   "cell_type": "code",
   "execution_count": null,
   "metadata": {},
   "outputs": [],
   "source": [
    "predictions_t3 = t3_classifier.predict(test_df[\"text\"])\n",
    "t3_score = accuracy_score(predictions_t3, test_df[t3_headers])\n",
    "print(\"SVM subtask 1 and 2 Accuracy Score -> \",t3_score)"
   ]
  },
  {
   "cell_type": "markdown",
   "metadata": {},
   "source": [
    "<h5>Export Model</h5>"
   ]
  },
  {
   "cell_type": "code",
   "execution_count": null,
   "metadata": {},
   "outputs": [],
   "source": [
    "filename = \"t3ovr_ngram.joblib.z\"\n",
    "path = out_directory + filename\n",
    "dump(t3_classifier, path)"
   ]
  },
  {
   "cell_type": "markdown",
   "metadata": {},
   "source": [
    "<h4>Subtask 3 - One VS Rest</h4>"
   ]
  },
  {
   "cell_type": "code",
   "execution_count": null,
   "metadata": {},
   "outputs": [],
   "source": [
    "# Instantiate Classifier\n",
    "ovr_classifier = make_pipeline(\n",
    "    TfidfVectorizer(stop_words=\"english\"),\n",
    "    OneVsRestClassifier(svm.SVC(kernel='linear', probability=True))\n",
    ")"
   ]
  },
  {
   "cell_type": "code",
   "execution_count": null,
   "metadata": {},
   "outputs": [],
   "source": [
    "t3_classifier = ovr_classifier.fit(X=train_df[\"text\"], y=train_df[t3_headers])\n",
    "t3_classifier"
   ]
  },
  {
   "cell_type": "code",
   "execution_count": null,
   "metadata": {},
   "outputs": [],
   "source": [
    "predictions_t3 = t3_classifier.predict(test_df[\"text\"])\n",
    "t3_score = accuracy_score(predictions_t3, test_df[t3_headers])\n",
    "print(\"SVM subtask 1 and 2 Accuracy Score -> \",t3_score)"
   ]
  },
  {
   "cell_type": "markdown",
   "metadata": {},
   "source": [
    "<h5>Export Model</h5>"
   ]
  },
  {
   "cell_type": "code",
   "execution_count": null,
   "metadata": {},
   "outputs": [],
   "source": [
    "filename = \"t3ovr.joblib.z\"\n",
    "path = out_directory + filename\n",
    "dump(t3_classifier, path)"
   ]
  },
  {
   "cell_type": "markdown",
   "metadata": {},
   "source": [
    "<h4>Subtask 3 - Binary Classifier</h4>"
   ]
  },
  {
   "cell_type": "code",
   "execution_count": null,
   "metadata": {},
   "outputs": [],
   "source": [
    "# Instantiate Classifier\n",
    "ovr_classifier = make_pipeline(\n",
    "    TfidfVectorizer(stop_words=\"english\"),\n",
    "    BinaryRelevance(svm.SVC(kernel='linear', probability=True))\n",
    ")"
   ]
  },
  {
   "cell_type": "code",
   "execution_count": null,
   "metadata": {},
   "outputs": [],
   "source": [
    "t3bc_classifier = ovr_classifier.fit(X=train_df[\"text\"], y=train_df[t3_headers])\n",
    "t3bc_classifier"
   ]
  },
  {
   "cell_type": "code",
   "execution_count": null,
   "metadata": {},
   "outputs": [],
   "source": [
    "predictions_t3bc = t3bc_classifier.predict(test_df[\"text\"])\n",
    "t3bc_score = accuracy_score(predictions_t3bc, test_df[t3_headers])\n",
    "print(\"SVM subtask 3 BC Accuracy Score -> \",t3bc_score)"
   ]
  },
  {
   "cell_type": "markdown",
   "metadata": {},
   "source": [
    "<h5>Export Model</h5>"
   ]
  },
  {
   "cell_type": "code",
   "execution_count": null,
   "metadata": {},
   "outputs": [],
   "source": [
    "filename = \"t3bc.joblib.z\"\n",
    "path = out_directory + filename\n",
    "dump(t3bc_classifier, path)"
   ]
  },
  {
   "cell_type": "markdown",
   "metadata": {},
   "source": [
    "<h4>Subtask 3 - Classifier Chain</h4>"
   ]
  },
  {
   "cell_type": "code",
   "execution_count": null,
   "metadata": {},
   "outputs": [],
   "source": [
    "# Instantiate Classifier\n",
    "ovr_classifier = make_pipeline(\n",
    "    TfidfVectorizer(stop_words=\"english\"),\n",
    "    ClassifierChain(svm.SVC(kernel='linear', probability=True))\n",
    ")"
   ]
  },
  {
   "cell_type": "code",
   "execution_count": null,
   "metadata": {},
   "outputs": [],
   "source": [
    "t3cc_classifier = ovr_classifier.fit(X=train_df[\"text\"], y=train_df[t3_headers])\n",
    "t3cc_classifier"
   ]
  },
  {
   "cell_type": "code",
   "execution_count": null,
   "metadata": {},
   "outputs": [],
   "source": [
    "predictions_t3cc = t3cc_classifier.predict(test_df[\"text\"])\n",
    "t3cc_score = accuracy_score(predictions_t3cc, test_df[t3_headers])\n",
    "print(\"SVM subtask 3 CC Accuracy Score -> \",t3cc_score)"
   ]
  },
  {
   "cell_type": "markdown",
   "metadata": {},
   "source": [
    "<h5>Export Model</h5>"
   ]
  },
  {
   "cell_type": "code",
   "execution_count": null,
   "metadata": {},
   "outputs": [],
   "source": [
    "filename = \"t3cc.joblib.z\"\n",
    "path = out_directory + filename\n",
    "dump(t3cc_classifier, path)"
   ]
  },
  {
   "cell_type": "markdown",
   "metadata": {},
   "source": [
    "<h4>Subtask 3 - LabelPowerSet</h4>"
   ]
  },
  {
   "cell_type": "code",
   "execution_count": null,
   "metadata": {},
   "outputs": [],
   "source": [
    "# Instantiate Classifier\n",
    "ovr_classifier = make_pipeline(\n",
    "    TfidfVectorizer(),\n",
    "    LabelPowerset(svm.SVC(kernel='linear', probability=True))\n",
    ")"
   ]
  },
  {
   "cell_type": "code",
   "execution_count": null,
   "metadata": {},
   "outputs": [],
   "source": [
    "t3lp_classifier = ovr_classifier.fit(X=train_df[\"text\"], y=train_df[t3_headers])\n",
    "t3lp_classifier"
   ]
  },
  {
   "cell_type": "code",
   "execution_count": null,
   "metadata": {},
   "outputs": [],
   "source": [
    "predictions_t3lp = t3lp_classifier.predict(test_df[\"text\"])\n",
    "t3lp_score = accuracy_score(predictions_t3lp, test_df[t3_headers])\n",
    "print(\"SVM subtask 3 LP Accuracy Score -> \",t3lp_score)"
   ]
  },
  {
   "cell_type": "markdown",
   "metadata": {},
   "source": [
    "<h5>Export Model</h5>"
   ]
  },
  {
   "cell_type": "code",
   "execution_count": null,
   "metadata": {},
   "outputs": [],
   "source": [
    "filename = \"t3lp.joblib.z\"\n",
    "path = out_directory + filename\n",
    "dump(t3lp_classifier, path)"
   ]
  },
  {
   "cell_type": "code",
   "execution_count": null,
   "metadata": {},
   "outputs": [],
   "source": [
    "labels = [\"subtask 1\", \"subtask 2\", \"t3 OneVsRest\", \"t3 Binary Relevance\", \"t3 Classifier Chain\", \"t3 Label Powerset\"]\n",
    "scores = [t1_score, t2_score, t3_score, t3bc_score, t3cc_score, t3lp_score]\n",
    "print(\"accuracies:\")\n",
    "for i,e in enumerate(labels):\n",
    "    print(f\"{scores[i]} - {e}\")"
   ]
  }
 ],
 "metadata": {
  "interpreter": {
   "hash": "683bf24e2bbf755c5f996764453fd2964c8a281735da13ddd37f4df27ea665f9"
  },
  "kernelspec": {
   "display_name": "Python 3.8.10 64-bit",
   "language": "python",
   "name": "python3"
  },
  "language_info": {
   "codemirror_mode": {
    "name": "ipython",
    "version": 3
   },
   "file_extension": ".py",
   "mimetype": "text/x-python",
   "name": "python",
   "nbconvert_exporter": "python",
   "pygments_lexer": "ipython3",
   "version": "3.8.10"
  },
  "orig_nbformat": 4
 },
 "nbformat": 4,
 "nbformat_minor": 2
}

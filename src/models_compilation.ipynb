{
 "cells": [
  {
   "cell_type": "code",
   "execution_count": 56,
   "metadata": {},
   "outputs": [],
   "source": [
    "import joblib\n",
    "import pandas as pd\n",
    "import numpy as np\n",
    "import seaborn as sns\n",
    "import matplotlib.pyplot as plt\n",
    "from sklearn.metrics import accuracy_score\n",
    "from sklearn.metrics import confusion_matrix"
   ]
  },
  {
   "cell_type": "code",
   "execution_count": 57,
   "metadata": {
    "tags": []
   },
   "outputs": [],
   "source": [
    "path = \"../out/final/\"\n",
    "t1_classifier = joblib.load(path + 't1_classifier.joblib.z')\n",
    "t2_classifier = joblib.load(path + 't2_classifier.joblib.z')\n",
    "t3bc_classifier = joblib.load(path + 't3bc_classifier.joblib.z')\n",
    "t3cc_classifier = joblib.load(path + 't3cc_classifier.joblib.z')\n",
    "t3lp_classifier = joblib.load(path + 't3lp_classifier.joblib.z')\n",
    "t3ovr_classifier = joblib.load(path + 't3ovr_classifier.joblib.z')"
   ]
  },
  {
   "cell_type": "code",
   "execution_count": 58,
   "metadata": {},
   "outputs": [
    {
     "data": {
      "text/html": [
       "<div>\n",
       "<style scoped>\n",
       "    .dataframe tbody tr th:only-of-type {\n",
       "        vertical-align: middle;\n",
       "    }\n",
       "\n",
       "    .dataframe tbody tr th {\n",
       "        vertical-align: top;\n",
       "    }\n",
       "\n",
       "    .dataframe thead th {\n",
       "        text-align: right;\n",
       "    }\n",
       "</style>\n",
       "<table border=\"1\" class=\"dataframe\">\n",
       "  <thead>\n",
       "    <tr style=\"text-align: right;\">\n",
       "      <th></th>\n",
       "      <th>text</th>\n",
       "      <th>HATE</th>\n",
       "      <th>NOT</th>\n",
       "      <th>OFFN</th>\n",
       "      <th>PRFN</th>\n",
       "      <th>Race</th>\n",
       "      <th>Religion</th>\n",
       "      <th>Gender</th>\n",
       "      <th>Other</th>\n",
       "      <th>None</th>\n",
       "    </tr>\n",
       "  </thead>\n",
       "  <tbody>\n",
       "    <tr>\n",
       "      <th>0</th>\n",
       "      <td>its about time blacks realised the women who s...</td>\n",
       "      <td>1</td>\n",
       "      <td>0</td>\n",
       "      <td>0</td>\n",
       "      <td>1</td>\n",
       "      <td>0</td>\n",
       "      <td>1</td>\n",
       "      <td>0</td>\n",
       "      <td>0</td>\n",
       "      <td>0</td>\n",
       "    </tr>\n",
       "    <tr>\n",
       "      <th>1</th>\n",
       "      <td>the islamic and sharia controlled middle easte...</td>\n",
       "      <td>0</td>\n",
       "      <td>0</td>\n",
       "      <td>1</td>\n",
       "      <td>1</td>\n",
       "      <td>0</td>\n",
       "      <td>1</td>\n",
       "      <td>0</td>\n",
       "      <td>0</td>\n",
       "      <td>0</td>\n",
       "    </tr>\n",
       "    <tr>\n",
       "      <th>2</th>\n",
       "      <td>so now you are calling yourself whoever agrees...</td>\n",
       "      <td>0</td>\n",
       "      <td>0</td>\n",
       "      <td>1</td>\n",
       "      <td>1</td>\n",
       "      <td>0</td>\n",
       "      <td>0</td>\n",
       "      <td>0</td>\n",
       "      <td>0</td>\n",
       "      <td>1</td>\n",
       "    </tr>\n",
       "    <tr>\n",
       "      <th>3</th>\n",
       "      <td>a million thumbs up we need museums of victims...</td>\n",
       "      <td>0</td>\n",
       "      <td>1</td>\n",
       "      <td>0</td>\n",
       "      <td>1</td>\n",
       "      <td>1</td>\n",
       "      <td>0</td>\n",
       "      <td>0</td>\n",
       "      <td>0</td>\n",
       "      <td>0</td>\n",
       "    </tr>\n",
       "    <tr>\n",
       "      <th>4</th>\n",
       "      <td>these your kike bosses too feldman is cernovic...</td>\n",
       "      <td>1</td>\n",
       "      <td>0</td>\n",
       "      <td>0</td>\n",
       "      <td>1</td>\n",
       "      <td>0</td>\n",
       "      <td>1</td>\n",
       "      <td>0</td>\n",
       "      <td>0</td>\n",
       "      <td>0</td>\n",
       "    </tr>\n",
       "  </tbody>\n",
       "</table>\n",
       "</div>"
      ],
      "text/plain": [
       "                                                text  HATE  NOT  OFFN  PRFN  \\\n",
       "0  its about time blacks realised the women who s...     1    0     0     1   \n",
       "1  the islamic and sharia controlled middle easte...     0    0     1     1   \n",
       "2  so now you are calling yourself whoever agrees...     0    0     1     1   \n",
       "3  a million thumbs up we need museums of victims...     0    1     0     1   \n",
       "4  these your kike bosses too feldman is cernovic...     1    0     0     1   \n",
       "\n",
       "   Race  Religion  Gender  Other  None  \n",
       "0     0         1       0      0     0  \n",
       "1     0         1       0      0     0  \n",
       "2     0         0       0      0     1  \n",
       "3     1         0       0      0     0  \n",
       "4     0         1       0      0     0  "
      ]
     },
     "execution_count": 58,
     "metadata": {},
     "output_type": "execute_result"
    }
   ],
   "source": [
    "test_df = pd.read_csv(\"../res/test_final.csv\")\n",
    "test_df.head()"
   ]
  },
  {
   "cell_type": "code",
   "execution_count": 59,
   "metadata": {},
   "outputs": [
    {
     "data": {
      "text/plain": [
       "51.88908145580589"
      ]
     },
     "execution_count": 59,
     "metadata": {},
     "output_type": "execute_result"
    }
   ],
   "source": [
    "x_t1_classifier = t1_classifier.predict(test_df[\"text\"])\n",
    "y_t1_classifier = test_df[[\"HATE\",\"NOT\",\"OFFN\"]]\n",
    "\n",
    "accuracy_t1_classifier = accuracy_score(x_t1_classifier, y_t1_classifier)*100\n",
    "accuracy_t1_classifier"
   ]
  },
  {
   "cell_type": "code",
   "execution_count": 60,
   "metadata": {},
   "outputs": [],
   "source": [
    "#x_t2_classifier = t2_classifier.predict(test_df[\"text\"])\n",
    "#y_t2_classifier = test_df[[\"PRFN\"]]\n",
    "\n",
    "#accuracy_t2_classifier = accuracy_score(x_t2_classifier, y_t2_classifier)*100\n",
    "#accuracy_t2_classifier"
   ]
  },
  {
   "cell_type": "code",
   "execution_count": 61,
   "metadata": {},
   "outputs": [
    {
     "data": {
      "text/plain": [
       "54.9740034662045"
      ]
     },
     "execution_count": 6,
     "metadata": {},
     "output_type": "execute_result"
    }
   ],
   "source": [
    "#x_t3bc_classifier = t3bc_classifier.predict(test_df[\"text\"])\n",
    "#y_t3bc_classifier = test_df[[\"Race\",\"Religion\",\"Gender\",\"Other\",\"None\"]]\n",
    "\n",
    "#accuracy_t3bc_classifier = accuracy_score(x_t3bc_classifier, y_t3bc_classifier)*100\n",
    "#accuracy_t3bc_classifier"
   ]
  },
  {
   "cell_type": "code",
   "execution_count": 62,
   "metadata": {},
   "outputs": [
    {
     "data": {
      "text/plain": [
       "48.56152512998267"
      ]
     },
     "execution_count": 62,
     "metadata": {},
     "output_type": "execute_result"
    }
   ],
   "source": [
    "x_t3cc_classifier = t3cc_classifier.predict(test_df[\"text\"])\n",
    "y_tt3cc_classifier = test_df[[\"Race\",\"Religion\",\"Gender\",\"Other\",\"None\"]]\n",
    "\n",
    "accuracy_t3cc_classifier = accuracy_score(x_t3cc_classifier, y_tt3cc_classifier)*100\n",
    "accuracy_t3cc_classifier"
   ]
  },
  {
   "cell_type": "code",
   "execution_count": 63,
   "metadata": {},
   "outputs": [
    {
     "data": {
      "text/plain": [
       "48.07625649913344"
      ]
     },
     "execution_count": 63,
     "metadata": {},
     "output_type": "execute_result"
    }
   ],
   "source": [
    "x_t3lp_classifier = t3lp_classifier.predict(test_df[\"text\"])\n",
    "y_t3lp_classifier = test_df[[\"Race\",\"Religion\",\"Gender\",\"Other\",\"None\"]]\n",
    "\n",
    "accuracy_t3lp_classifier = accuracy_score(x_t3lp_classifier, y_t3lp_classifier)*100\n",
    "accuracy_t3lp_classifier"
   ]
  },
  {
   "cell_type": "code",
   "execution_count": 64,
   "metadata": {},
   "outputs": [
    {
     "data": {
      "text/plain": [
       "54.9740034662045"
      ]
     },
     "execution_count": 64,
     "metadata": {},
     "output_type": "execute_result"
    }
   ],
   "source": [
    "x_t3ovr_classifier = t3ovr_classifier.predict(test_df[\"text\"])\n",
    "y_t3ovr_classifier = test_df[[\"Race\",\"Religion\",\"Gender\",\"Other\",\"None\"]]\n",
    "\n",
    "accuracy_t3ovr_classifier = accuracy_score(x_t3ovr_classifier, y_t3ovr_classifier)*100\n",
    "accuracy_t3ovr_classifier"
   ]
  },
  {
   "cell_type": "code",
   "execution_count": 65,
   "metadata": {},
   "outputs": [
    {
     "data": {
      "text/html": [
       "<div>\n",
       "<style scoped>\n",
       "    .dataframe tbody tr th:only-of-type {\n",
       "        vertical-align: middle;\n",
       "    }\n",
       "\n",
       "    .dataframe tbody tr th {\n",
       "        vertical-align: top;\n",
       "    }\n",
       "\n",
       "    .dataframe thead th {\n",
       "        text-align: right;\n",
       "    }\n",
       "</style>\n",
       "<table border=\"1\" class=\"dataframe\">\n",
       "  <thead>\n",
       "    <tr style=\"text-align: right;\">\n",
       "      <th></th>\n",
       "      <th>Models</th>\n",
       "      <th>Accuracy Score</th>\n",
       "    </tr>\n",
       "  </thead>\n",
       "  <tbody>\n",
       "    <tr>\n",
       "      <th>0</th>\n",
       "      <td>t1_classifier</td>\n",
       "      <td>51.889081</td>\n",
       "    </tr>\n",
       "    <tr>\n",
       "      <th>1</th>\n",
       "      <td>t3bc_classifier</td>\n",
       "      <td>54.974003</td>\n",
       "    </tr>\n",
       "    <tr>\n",
       "      <th>2</th>\n",
       "      <td>t3cc_classifier</td>\n",
       "      <td>48.561525</td>\n",
       "    </tr>\n",
       "    <tr>\n",
       "      <th>2</th>\n",
       "      <td>t3lp_classifier</td>\n",
       "      <td>48.076256</td>\n",
       "    </tr>\n",
       "    <tr>\n",
       "      <th>3</th>\n",
       "      <td>t3ovr_classifier</td>\n",
       "      <td>54.974003</td>\n",
       "    </tr>\n",
       "  </tbody>\n",
       "</table>\n",
       "</div>"
      ],
      "text/plain": [
       "             Models  Accuracy Score\n",
       "0     t1_classifier       51.889081\n",
       "1   t3cc_classifier       48.561525\n",
       "2   t3lp_classifier       48.076256\n",
       "3  t3ovr_classifier       54.974003"
      ]
     },
     "execution_count": 65,
     "metadata": {},
     "output_type": "execute_result"
    }
   ],
   "source": [
    "# Define a dictionary containing accuracy data\n",
    "model_data = {'Models':['t1_classifier', 't3cc_classifier', 't3lp_classifier', 't3ovr_classifier'],\n",
    "        'Accuracy Score':[accuracy_t1_classifier, accuracy_t3cc_classifier, accuracy_t3lp_classifier, accuracy_t3ovr_classifier]}\n",
    "  \n",
    "# Convert the dictionary into DataFrame \n",
    "Accuracy_df = pd.DataFrame(model_data)\n",
    "  \n",
    "# select two columns\n",
    "Accuracy_df = (Accuracy_df[['Models', 'Accuracy Score']])\n",
    "Accuracy_df"
   ]
  },
  {
   "cell_type": "code",
   "execution_count": 66,
   "metadata": {},
   "outputs": [],
   "source": [
    "from sklearn.metrics import multilabel_confusion_matrix\n",
    "#Confusion Matrix\n",
    "confusion_matrix_t1 = (multilabel_confusion_matrix(x_t1_classifier, y_t1_classifier))\n",
    "confusion_matrix_t3cc = (multilabel_confusion_matrix(x_t3cc_classifier, y_tt3cc_classifier))\n",
    "confusion_matrix_t3lp = (multilabel_confusion_matrix(x_t3lp_classifier, y_t3lp_classifier))\n",
    "confusion_matrix_t3ovr = (multilabel_confusion_matrix(x_t3ovr_classifier, y_t3ovr_classifier))\n"
   ]
  },
  {
   "cell_type": "code",
   "execution_count": 67,
   "metadata": {},
   "outputs": [
    {
     "name": "stdout",
     "output_type": "stream",
     "text": [
      "t1_calssifier confusion matrix:\n",
      " [[[1847  368]\n",
      "  [ 117  553]]\n",
      "\n",
      " [[1392  372]\n",
      "  [ 358  763]]\n",
      "\n",
      " [[1937  618]\n",
      "  [ 119  211]]] \n",
      "\n",
      "tt3cc_calssifier confusion matrix:\n",
      " [[[2140  400]\n",
      "  [  35  310]]\n",
      "\n",
      " [[2285  414]\n",
      "  [  12  174]]\n",
      "\n",
      " [[2394  376]\n",
      "  [  29   86]]\n",
      "\n",
      " [[2620  219]\n",
      "  [  12   34]]\n",
      "\n",
      " [[ 617   62]\n",
      "  [1308  898]]] \n",
      "\n",
      "t3lp_calssifier confusion matrix:\n",
      " [[[2095  390]\n",
      "  [  80  320]]\n",
      "\n",
      " [[2277  423]\n",
      "  [  20  165]]\n",
      "\n",
      " [[2381  376]\n",
      "  [  42   86]]\n",
      "\n",
      " [[2621  222]\n",
      "  [  11   31]]\n",
      "\n",
      " [[ 670   85]\n",
      "  [1255  875]]] \n",
      "\n",
      "t3ovr_calssifier confusion matrix:\n",
      " [[[2126  232]\n",
      "  [  49  478]]\n",
      "\n",
      " [[2219  146]\n",
      "  [  78  442]]\n",
      "\n",
      " [[2327  205]\n",
      "  [  96  257]]\n",
      "\n",
      " [[2597  173]\n",
      "  [  35   80]]\n",
      "\n",
      " [[1628  438]\n",
      "  [ 297  522]]] \n",
      "\n"
     ]
    }
   ],
   "source": [
    "print(\"t1_calssifier confusion matrix:\\n\",confusion_matrix_t1,\"\\n\")\n",
    "print(\"tt3cc_calssifier confusion matrix:\\n\",confusion_matrix_t3cc,\"\\n\")\n",
    "print(\"t3lp_calssifier confusion matrix:\\n\",confusion_matrix_t3lp,\"\\n\")\n",
    "print(\"t3ovr_calssifier confusion matrix:\\n\",confusion_matrix_t3ovr,\"\\n\")"
   ]
  },
  {
   "cell_type": "code",
   "execution_count": 68,
   "metadata": {},
   "outputs": [],
   "source": [
    "from sklearn.metrics import classification_report\n",
    "\n",
    "t1_target_names = [\"HATE\",\"NOT\",\"OFFN\"]\n",
    "t3cc_target_names = [\"Race\",\"Religion\",\"Gender\",\"Other\",\"None\"]\n",
    "t3lp_target_names = [\"Race\",\"Religion\",\"Gender\",\"Other\",\"None\"]\n",
    "t3ovr_target_names = [\"Race\",\"Religion\",\"Gender\",\"Other\",\"None\"]"
   ]
  },
  {
   "cell_type": "code",
   "execution_count": null,
   "metadata": {},
   "outputs": [],
   "source": [
    "t1_classification_report = (classification_report(x_t1_classifier, y_t1_classifier,target_names=t1_target_names))\n",
    "t3cc_classification_report = (classification_report(x_t3cc_classifier, y_tt3cc_classifier, target_names=t3cc_target_names))\n",
    "t3lp_classification_report = (classification_report(x_t3lp_classifier, y_t3lp_classifier, target_names=t3lp_target_names))\n",
    "t3ovr_classification_report = (classification_report(x_t3ovr_classifier, y_t3ovr_classifier, target_names=t3ovr_target_names))"
   ]
  },
  {
   "cell_type": "code",
   "execution_count": 70,
   "metadata": {},
   "outputs": [
    {
     "name": "stdout",
     "output_type": "stream",
     "text": [
      "t1 classification report: \n",
      "               precision    recall  f1-score   support\n",
      "\n",
      "        HATE       0.60      0.83      0.70       670\n",
      "         NOT       0.67      0.68      0.68      1121\n",
      "        OFFN       0.25      0.64      0.36       330\n",
      "\n",
      "   micro avg       0.53      0.72      0.61      2121\n",
      "   macro avg       0.51      0.72      0.58      2121\n",
      "weighted avg       0.58      0.72      0.63      2121\n",
      " samples avg       0.53      0.52      0.53      2121\n",
      " \n",
      "\n",
      "t3cc classification report: \n",
      "               precision    recall  f1-score   support\n",
      "\n",
      "        Race       0.44      0.90      0.59       345\n",
      "    Religion       0.30      0.94      0.45       186\n",
      "      Gender       0.19      0.75      0.30       115\n",
      "       Other       0.13      0.74      0.23        46\n",
      "        None       0.94      0.41      0.57      2206\n",
      "\n",
      "   micro avg       0.51      0.52      0.51      2898\n",
      "   macro avg       0.40      0.75      0.43      2898\n",
      "weighted avg       0.79      0.52      0.55      2898\n",
      " samples avg       0.50      0.52      0.51      2898\n",
      " \n",
      "\n",
      "t3lp classification report: \n",
      "               precision    recall  f1-score   support\n",
      "\n",
      "        Race       0.45      0.80      0.58       400\n",
      "    Religion       0.28      0.89      0.43       185\n",
      "      Gender       0.19      0.67      0.29       128\n",
      "       Other       0.12      0.74      0.21        42\n",
      "        None       0.91      0.41      0.57      2130\n",
      "\n",
      "   micro avg       0.50      0.51      0.50      2885\n",
      "   macro avg       0.39      0.70      0.41      2885\n",
      "weighted avg       0.76      0.51      0.54      2885\n",
      " samples avg       0.50      0.51      0.50      2885\n",
      " \n",
      "\n",
      "t3ovr classification report: \n",
      "               precision    recall  f1-score   support\n",
      "\n",
      "        Race       0.67      0.91      0.77       527\n",
      "    Religion       0.75      0.85      0.80       520\n",
      "      Gender       0.56      0.73      0.63       353\n",
      "       Other       0.32      0.70      0.43       115\n",
      "        None       0.54      0.64      0.59       819\n",
      "\n",
      "   micro avg       0.60      0.76      0.67      2334\n",
      "   macro avg       0.57      0.76      0.64      2334\n",
      "weighted avg       0.61      0.76      0.67      2334\n",
      " samples avg       0.57      0.58      0.57      2334\n",
      " \n",
      "\n"
     ]
    }
   ],
   "source": [
    "print(\"t1 classification report: \\n\",t1_classification_report,\"\\n\")\n",
    "print(\"t3cc classification report: \\n\",t3cc_classification_report,\"\\n\")\n",
    "print(\"t3lp classification report: \\n\",t3lp_classification_report,\"\\n\")\n",
    "print(\"t3ovr classification report: \\n\",t3ovr_classification_report,\"\\n\")"
   ]
  },
  {
   "cell_type": "code",
   "execution_count": null,
   "metadata": {},
   "outputs": [],
   "source": []
  },
  {
   "cell_type": "code",
   "execution_count": null,
   "metadata": {},
   "outputs": [],
   "source": []
  },
  {
   "cell_type": "code",
   "execution_count": null,
   "metadata": {},
   "outputs": [],
   "source": []
  },
  {
   "cell_type": "code",
   "execution_count": null,
   "metadata": {},
   "outputs": [],
   "source": []
  }
 ],
 "metadata": {
  "interpreter": {
   "hash": "7dee54ed7ad46e2e610ac5d1f2b33a2e646d3f5b285777520e9e1603f976399c"
  },
  "kernelspec": {
   "display_name": "Python 3 (ipykernel)",
   "language": "python",
   "name": "python3"
  },
  "language_info": {
   "codemirror_mode": {
    "name": "ipython",
    "version": 3
   },
   "file_extension": ".py",
   "mimetype": "text/x-python",
   "name": "python",
   "nbconvert_exporter": "python",
   "pygments_lexer": "ipython3",
   "version": "3.9.7"
  }
 },
 "nbformat": 4,
 "nbformat_minor": 4
}

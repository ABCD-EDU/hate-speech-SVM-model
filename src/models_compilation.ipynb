{
 "cells": [
  {
   "cell_type": "code",
   "execution_count": 67,
   "metadata": {},
   "outputs": [],
   "source": [
    "import joblib\n",
    "import pandas as pd\n",
    "import numpy as np\n",
    "from sklearn.metrics import accuracy_score"
   ]
  },
  {
   "cell_type": "code",
   "execution_count": null,
   "metadata": {
    "tags": []
   },
   "outputs": [],
   "source": [
    "t1_classifier = joblib.load(\"../out/final/\" + 't1_classifier.joblib.z')\n",
    "t2_classifier = joblib.load(\"../out/final/\" + 't2_classifier.joblib.z')\n",
    "t3bc_classifier = joblib.load(\"../out/final/\" + 't3bc_classifier.joblib.z')\n",
    "t3cc_classifier = joblib.load(\"../out/final/\" + 't3cc_classifier.joblib.z')\n",
    "t3lp_classifier = joblib.load(\"../out/final/\" + 't3lp_classifier.joblib.z')\n",
    "t3ovr_classifier = joblib.load(\"../out/final/\" + 't3ovr_classifier.joblib.z')\n"
   ]
  },
  {
   "cell_type": "code",
   "execution_count": 69,
   "metadata": {},
   "outputs": [
    {
     "data": {
      "text/html": [
       "<div>\n",
       "<style scoped>\n",
       "    .dataframe tbody tr th:only-of-type {\n",
       "        vertical-align: middle;\n",
       "    }\n",
       "\n",
       "    .dataframe tbody tr th {\n",
       "        vertical-align: top;\n",
       "    }\n",
       "\n",
       "    .dataframe thead th {\n",
       "        text-align: right;\n",
       "    }\n",
       "</style>\n",
       "<table border=\"1\" class=\"dataframe\">\n",
       "  <thead>\n",
       "    <tr style=\"text-align: right;\">\n",
       "      <th></th>\n",
       "      <th>text</th>\n",
       "      <th>HATE</th>\n",
       "      <th>NOT</th>\n",
       "      <th>OFFN</th>\n",
       "      <th>PRFN</th>\n",
       "      <th>Race</th>\n",
       "      <th>Religion</th>\n",
       "      <th>Gender</th>\n",
       "      <th>Other</th>\n",
       "      <th>None</th>\n",
       "    </tr>\n",
       "  </thead>\n",
       "  <tbody>\n",
       "    <tr>\n",
       "      <th>0</th>\n",
       "      <td>its about time blacks realised the women who s...</td>\n",
       "      <td>1</td>\n",
       "      <td>0</td>\n",
       "      <td>0</td>\n",
       "      <td>1</td>\n",
       "      <td>0</td>\n",
       "      <td>1</td>\n",
       "      <td>0</td>\n",
       "      <td>0</td>\n",
       "      <td>0</td>\n",
       "    </tr>\n",
       "    <tr>\n",
       "      <th>1</th>\n",
       "      <td>the islamic and sharia controlled middle easte...</td>\n",
       "      <td>0</td>\n",
       "      <td>0</td>\n",
       "      <td>1</td>\n",
       "      <td>1</td>\n",
       "      <td>0</td>\n",
       "      <td>1</td>\n",
       "      <td>0</td>\n",
       "      <td>0</td>\n",
       "      <td>0</td>\n",
       "    </tr>\n",
       "    <tr>\n",
       "      <th>2</th>\n",
       "      <td>so now you are calling yourself whoever agrees...</td>\n",
       "      <td>0</td>\n",
       "      <td>0</td>\n",
       "      <td>1</td>\n",
       "      <td>1</td>\n",
       "      <td>0</td>\n",
       "      <td>0</td>\n",
       "      <td>0</td>\n",
       "      <td>0</td>\n",
       "      <td>1</td>\n",
       "    </tr>\n",
       "    <tr>\n",
       "      <th>3</th>\n",
       "      <td>a million thumbs up we need museums of victims...</td>\n",
       "      <td>0</td>\n",
       "      <td>1</td>\n",
       "      <td>0</td>\n",
       "      <td>1</td>\n",
       "      <td>1</td>\n",
       "      <td>0</td>\n",
       "      <td>0</td>\n",
       "      <td>0</td>\n",
       "      <td>0</td>\n",
       "    </tr>\n",
       "    <tr>\n",
       "      <th>4</th>\n",
       "      <td>these your kike bosses too feldman is cernovic...</td>\n",
       "      <td>1</td>\n",
       "      <td>0</td>\n",
       "      <td>0</td>\n",
       "      <td>1</td>\n",
       "      <td>0</td>\n",
       "      <td>1</td>\n",
       "      <td>0</td>\n",
       "      <td>0</td>\n",
       "      <td>0</td>\n",
       "    </tr>\n",
       "  </tbody>\n",
       "</table>\n",
       "</div>"
      ],
      "text/plain": [
       "                                                text  HATE  NOT  OFFN  PRFN  \\\n",
       "0  its about time blacks realised the women who s...     1    0     0     1   \n",
       "1  the islamic and sharia controlled middle easte...     0    0     1     1   \n",
       "2  so now you are calling yourself whoever agrees...     0    0     1     1   \n",
       "3  a million thumbs up we need museums of victims...     0    1     0     1   \n",
       "4  these your kike bosses too feldman is cernovic...     1    0     0     1   \n",
       "\n",
       "   Race  Religion  Gender  Other  None  \n",
       "0     0         1       0      0     0  \n",
       "1     0         1       0      0     0  \n",
       "2     0         0       0      0     1  \n",
       "3     1         0       0      0     0  \n",
       "4     0         1       0      0     0  "
      ]
     },
     "execution_count": 69,
     "metadata": {},
     "output_type": "execute_result"
    }
   ],
   "source": [
    "test_df = pd.read_csv(\"../res/test_final.csv\")\n",
    "test_df.head()"
   ]
  },
  {
   "cell_type": "code",
   "execution_count": 70,
   "metadata": {},
   "outputs": [
    {
     "data": {
      "text/plain": [
       "32.270363951473136"
      ]
     },
     "execution_count": 70,
     "metadata": {},
     "output_type": "execute_result"
    }
   ],
   "source": [
    "x_t1_classifier = t1_classifier.predict(test_df[\"text\"])\n",
    "y_t1_classifier = test_df[[\"HATE\",\"NOT\",\"OFFN\"]]\n",
    "\n",
    "accuracy_t1_classifier = accuracy_score(x_t1_classifier, y_t1_classifier)*100\n",
    "accuracy_t1_classifier"
   ]
  },
  {
   "cell_type": "code",
   "execution_count": 71,
   "metadata": {},
   "outputs": [],
   "source": [
    "#x_t2_classifier = t2_classifier.predict(test_df[\"text\"])\n",
    "#y_t2_classifier = test_df[[\"PRFN\"]]\n",
    "\n",
    "#accuracy_t2_classifier = accuracy_score(x_t2_classifier, y_t2_classifier)*100\n",
    "#accuracy_t2_classifier"
   ]
  },
  {
   "cell_type": "code",
   "execution_count": 72,
   "metadata": {},
   "outputs": [
    {
     "data": {
      "text/plain": [
       "28.73483535528596"
      ]
     },
     "execution_count": 72,
     "metadata": {},
     "output_type": "execute_result"
    }
   ],
   "source": [
    "x_t3bc_classifier = t3bc_classifier.predict(test_df[\"text\"])\n",
    "y_t3bc_classifier = test_df[[\"Race\",\"Religion\",\"Gender\",\"Other\",\"None\"]]\n",
    "\n",
    "accuracy_t3bc_classifier = accuracy_score(x_t3bc_classifier, y_t3bc_classifier)*100\n",
    "accuracy_t3bc_classifier"
   ]
  },
  {
   "cell_type": "code",
   "execution_count": 73,
   "metadata": {},
   "outputs": [
    {
     "data": {
      "text/plain": [
       "48.56152512998267"
      ]
     },
     "execution_count": 73,
     "metadata": {},
     "output_type": "execute_result"
    }
   ],
   "source": [
    "x_t3cc_classifier = t3cc_classifier.predict(test_df[\"text\"])\n",
    "y_tt3cc_classifier = test_df[[\"Race\",\"Religion\",\"Gender\",\"Other\",\"None\"]]\n",
    "\n",
    "accuracy_t3cc_classifier = accuracy_score(x_t3cc_classifier, y_tt3cc_classifier)*100\n",
    "accuracy_t3cc_classifier"
   ]
  },
  {
   "cell_type": "code",
   "execution_count": 74,
   "metadata": {},
   "outputs": [
    {
     "data": {
      "text/plain": [
       "48.07625649913344"
      ]
     },
     "execution_count": 74,
     "metadata": {},
     "output_type": "execute_result"
    }
   ],
   "source": [
    "x_t3lp_classifier = t3lp_classifier.predict(test_df[\"text\"])\n",
    "y_t3lp_classifier = test_df[[\"Race\",\"Religion\",\"Gender\",\"Other\",\"None\"]]\n",
    "\n",
    "accuracy_t3lp_classifier = accuracy_score(x_t3lp_classifier, y_t3lp_classifier)*100\n",
    "accuracy_t3lp_classifier"
   ]
  },
  {
   "cell_type": "code",
   "execution_count": 75,
   "metadata": {},
   "outputs": [
    {
     "data": {
      "text/plain": [
       "28.73483535528596"
      ]
     },
     "execution_count": 75,
     "metadata": {},
     "output_type": "execute_result"
    }
   ],
   "source": [
    "x_t3ovr_classifier = t3ovr_classifier.predict(test_df[\"text\"])\n",
    "y_t3ovr_classifier = test_df[[\"Race\",\"Religion\",\"Gender\",\"Other\",\"None\"]]\n",
    "\n",
    "accuracy_t3ovr_classifier = accuracy_score(x_t3ovr_classifier, y_t3ovr_classifier)*100\n",
    "accuracy_t3ovr_classifier"
   ]
  },
  {
   "cell_type": "code",
   "execution_count": 76,
   "metadata": {},
   "outputs": [
    {
     "data": {
      "text/html": [
       "<div>\n",
       "<style scoped>\n",
       "    .dataframe tbody tr th:only-of-type {\n",
       "        vertical-align: middle;\n",
       "    }\n",
       "\n",
       "    .dataframe tbody tr th {\n",
       "        vertical-align: top;\n",
       "    }\n",
       "\n",
       "    .dataframe thead th {\n",
       "        text-align: right;\n",
       "    }\n",
       "</style>\n",
       "<table border=\"1\" class=\"dataframe\">\n",
       "  <thead>\n",
       "    <tr style=\"text-align: right;\">\n",
       "      <th></th>\n",
       "      <th>Models</th>\n",
       "      <th>Accuracy Score</th>\n",
       "    </tr>\n",
       "  </thead>\n",
       "  <tbody>\n",
       "    <tr>\n",
       "      <th>0</th>\n",
       "      <td>t1_classifier</td>\n",
       "      <td>32.270364</td>\n",
       "    </tr>\n",
       "    <tr>\n",
       "      <th>1</th>\n",
       "      <td>t3bc_classifier</td>\n",
       "      <td>28.734835</td>\n",
       "    </tr>\n",
       "    <tr>\n",
       "      <th>2</th>\n",
       "      <td>t3cc_classifier</td>\n",
       "      <td>48.561525</td>\n",
       "    </tr>\n",
       "    <tr>\n",
       "      <th>3</th>\n",
       "      <td>t3lp_classifier</td>\n",
       "      <td>48.076256</td>\n",
       "    </tr>\n",
       "    <tr>\n",
       "      <th>4</th>\n",
       "      <td>t3ovr_classifier</td>\n",
       "      <td>28.734835</td>\n",
       "    </tr>\n",
       "  </tbody>\n",
       "</table>\n",
       "</div>"
      ],
      "text/plain": [
       "             Models  Accuracy Score\n",
       "0     t1_classifier       32.270364\n",
       "1   t3bc_classifier       28.734835\n",
       "2   t3cc_classifier       48.561525\n",
       "3   t3lp_classifier       48.076256\n",
       "4  t3ovr_classifier       28.734835"
      ]
     },
     "execution_count": 76,
     "metadata": {},
     "output_type": "execute_result"
    }
   ],
   "source": [
    "# Define a dictionary containing accuracy data\n",
    "model_data = {'Models':['t1_classifier', 't3bc_classifier', 't3cc_classifier', 't3lp_classifier', 't3ovr_classifier'],\n",
    "        'Accuracy Score':[accuracy_t1_classifier, accuracy_t3bc_classifier, accuracy_t3cc_classifier, accuracy_t3lp_classifier, accuracy_t3ovr_classifier]}\n",
    "  \n",
    "# Convert the dictionary into DataFrame \n",
    "Accuracy_df = pd.DataFrame(model_data)\n",
    "  \n",
    "# select two columns\n",
    "Accuracy_df = (Accuracy_df[['Models', 'Accuracy Score']])\n",
    "Accuracy_df"
   ]
  },
  {
   "cell_type": "code",
   "execution_count": null,
   "metadata": {},
   "outputs": [],
   "source": []
  }
 ],
 "metadata": {
  "interpreter": {
   "hash": "7dee54ed7ad46e2e610ac5d1f2b33a2e646d3f5b285777520e9e1603f976399c"
  },
  "kernelspec": {
   "display_name": "Python 3 (ipykernel)",
   "language": "python",
   "name": "python3"
  },
  "language_info": {
   "codemirror_mode": {
    "name": "ipython",
    "version": 3
   },
   "file_extension": ".py",
   "mimetype": "text/x-python",
   "name": "python",
   "nbconvert_exporter": "python",
   "pygments_lexer": "ipython3",
   "version": "3.9.7"
  }
 },
 "nbformat": 4,
 "nbformat_minor": 4
}
